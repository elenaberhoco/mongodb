{
 "cells": [
  {
   "cell_type": "markdown",
   "id": "6048efd4",
   "metadata": {},
   "source": [
    "# Premières requêtes\n",
    "\n",
    "* Auteurs/trices : **Julie FRANCOISE, Manon MAHEO, Valentin PENISSON**\n",
    "\n",
    "Ce chapitre traite des points suivants :\n",
    "* Syntaxe de requêtes simples (syntaxe de `find`, opérateurs de comparaison, `distinct`, `count`, `sort`, `limit`)\n",
    "\n",
    "Le fichier que vous devez modifier pour ce chapitre est `mongo_book/content/01_find.md`."
   ]
  }
 ],
 "metadata": {
  "jupytext": {
   "cell_metadata_filter": "-all",
   "formats": "md:myst",
   "text_representation": {
    "extension": ".md",
    "format_name": "myst",
    "format_version": 0.12,
    "jupytext_version": "1.9.1"
   }
  },
  "kernelspec": {
   "display_name": "IMongo",
   "language": "",
   "name": "imongo"
  },
  "language_info": {
   "codemirror_mode": "shell",
   "file_extension": ".js",
   "mimetype": "text/x-mongodb",
   "name": "javascript"
  },
  "source_map": [
   14
  ]
 },
 "nbformat": 4,
 "nbformat_minor": 5
}