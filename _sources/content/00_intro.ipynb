{
 "cells": [
  {
   "cell_type": "markdown",
   "id": "0099295e",
   "metadata": {},
   "source": [
    "# MongoDB : Notes de cours\n",
    "\n",
    "Ce document compile des notes pour un cours de MongoDB dispensé en Master\n",
    "Mathématiques Appliquées, Statistiques (parcours _Data Science_), à\n",
    "l'Université de Rennes 2.\n",
    "\n",
    "Ce document a été rédigé collaborativement par les étudiants du Master 1\n",
    "en 2021.\n",
    "\n",
    "<!-- Pour aider à cette rédaction, deux annexes ont été mises à leur disposition :\n",
    "* [annexe consacrée à `git`](sec:git) ;\n",
    "* [page d'exemple](sec:exemple) pour se rendre compte de ce qu'il\n",
    "est possible de faire, et faire le lien avec\n",
    "[la page source correspondante sur github](https://raw.githubusercontent.com/rtavenar/mongo_book/main/content/app_exemple.md) ; -->"
   ]
  }
 ],
 "metadata": {
  "jupytext": {
   "cell_metadata_filter": "-all",
   "formats": "md:myst",
   "text_representation": {
    "extension": ".md",
    "format_name": "myst",
    "format_version": 0.12,
    "jupytext_version": "1.9.1"
   }
  },
  "kernelspec": {
   "display_name": "IMongo",
   "language": "",
   "name": "imongo"
  },
  "language_info": {
   "codemirror_mode": "shell",
   "file_extension": ".js",
   "mimetype": "text/x-mongodb",
   "name": "javascript"
  },
  "source_map": [
   14
  ]
 },
 "nbformat": 4,
 "nbformat_minor": 5
}