{
 "cells": [
  {
   "cell_type": "markdown",
   "id": "10547c8a",
   "metadata": {},
   "source": [
    "# MongoDB : Notes de cours\n",
    "\n",
    "Ce document compile des notes pour un cours de MongoDB dispensé en Master\n",
    "Mathématiques Appliquées, Statistiques (parcours _Data Science_), à\n",
    "l'Université de Rennes 2.\n",
    "\n",
    "## Fonctionnement\n",
    "\n",
    "Ceci est le document que vous allez devoir modifier collaborativement.\n",
    "Il utilise des fichiers au format Markdown (extensions `.md`) qui sont\n",
    "mis en forme avec Jupyter Book, un des utilitaires de la famille Jupyter (vous\n",
    "connaissez dejà probablement les notebooks Jupyter) qui permet de générer des\n",
    "livres au format HTML avec des bouts de code exécutables à l'intérieur.\n",
    "\n",
    "Pour mieux vous rendre compte de ce qui vous attend, il faut :\n",
    "* lire l'[annexe consacrée à `git`](sec:git) ;\n",
    "* consulter [la page d'exemple](sec:exemple) pour se rendre compte de ce qu'il\n",
    "est possible de faire, et faire le lien avec\n",
    "[la page source correspondante sur github](https://raw.githubusercontent.com/rtavenar/mongo_book/main/content/app_exemple.md) ;\n",
    "* ne surtout pas hésiter à poser des questions s'il y a des choses que vous\n",
    "n'arrivez pas à faire.\n",
    "\n",
    "\n",
    "\n",
    "```{toctree}\n",
    ":hidden:\n",
    ":titlesonly:\n",
    ":numbered: True\n",
    ":caption: Chapitres\n",
    "\n",
    "01_find\n",
    "02_listes\n",
    "03_dates\n",
    "04_index\n",
    "05_agreg\n",
    "06_modif\n",
    "07_scripts\n",
    "```\n",
    "\n",
    "\n",
    "```{toctree}\n",
    ":hidden:\n",
    ":titlesonly:\n",
    ":caption: Annexes\n",
    "\n",
    "app_exemple\n",
    "app_git\n",
    "```"
   ]
  }
 ],
 "metadata": {
  "jupytext": {
   "cell_metadata_filter": "-all",
   "formats": "md:myst",
   "text_representation": {
    "extension": ".md",
    "format_name": "myst",
    "format_version": 0.12,
    "jupytext_version": "1.9.1"
   }
  },
  "kernelspec": {
   "display_name": "IMongo",
   "language": "",
   "name": "imongo"
  },
  "language_info": {
   "codemirror_mode": "shell",
   "file_extension": ".js",
   "mimetype": "text/x-mongodb",
   "name": "javascript"
  },
  "source_map": [
   14
  ]
 },
 "nbformat": 4,
 "nbformat_minor": 5
}