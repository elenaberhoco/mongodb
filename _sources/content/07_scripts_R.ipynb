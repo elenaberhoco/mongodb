{
 "cells": [
  {
   "cell_type": "markdown",
   "id": "22f212b6",
   "metadata": {},
   "source": [
    "(sec:mongolite)=\n",
    "# Requêtes depuis R : `mongolite`\n",
    "\n",
    "* Auteurs/trices : **Yolan PERONNET, Faisal JAYOUZI, Paul LANCELIN**\n",
    "\n",
    "Le chapitre suivant a pour objectif d'explorer le package mongolite permettant d'effectuer des requêtes MongoDB depuis R. La rédaction du tutoriel suivant trouve sa source dans la documentation rédigée par l'auteur du package mongolite, Jeroen Ooms. Celle-ci est accessible à l'adresse suivante : [https://jeroen.github.io/mongolite/](https://jeroen.github.io/mongolite/ \"Documentation de mongolite (R)\")\n",
    "\n",
    "## Installation du package mongolite et connexion à un serveur MongoDB\n",
    "\n",
    "### Installation et chargement du package mongolite\n",
    "\n",
    "Les packages binaires de mongolite peuvent être installés directement depuis le CRAN via la manipulation suivante à partir de la barre d'outils :\n",
    "\n",
    "---\n",
    "\n",
    "**Tools -> Install Packages -> mongolite -> Install**\n",
    "\n",
    "---\n",
    "\n",
    "Ou via la commande suivante à exécuter dans la console ou depuis un script R :\n",
    "\n",
    "```r\n",
    "install.packages(\"mongolite\")\n",
    "```\n",
    "\n",
    "Vous pouvez également installer la version de développement, qui contient les dernières fonctionnalités. Pour cela, exécutez la commande suivante :\n",
    "\n",
    "```r\n",
    "devtools::install_github(\"jeroen/mongolite\")\n",
    "```\n",
    "\n",
    "```{admonition} Remarque\n",
    "\n",
    " L'installation et le chargement du package devtools au préalable sera nécessaire pour cette dernière exécution.\n",
    "```\n",
    "\n",
    "Une fois le package installé, il vous suffira de le charger dans votre envionnement de travail R via la commande suivante à exécuter dans la console ou depuis un script R :\n",
    "\n",
    "```r\n",
    "library(mongolite)\n",
    "```\n",
    "\n",
    "### Connexion à une collection d'une base de données présente sur un serveur MongoDB\n",
    "\n",
    "Après avoir chargé les packages nécessaires dans votre environnement R, vous pourrez vous connecter à une collection d'une base de données présente sur un serveur MongoDB à partir d'un lien URI, du nom de la base de données, et du nom de la collection à laquelle vous souhaitez accéder. Pour ce faire, il suffit d'utiliser la fonction *mongo()* de la librairie *mongolite* de la manière suivante :\n",
    "\n",
    "```r\n",
    "coll <- mongo(collection=\"ma_collection\", db=\"ma_BDD\",\n",
    "            url=\"mon_uri\",\n",
    "            verbose=TRUE)\n",
    "```\n",
    "\n",
    "La fonction *mongo()* prend en entrée les arguments suivants :\n",
    "- collection : nom de la collection à laquelle se connecter. La valeur par défaut est \"test\"\n",
    "- db : nom de la base de données à laquelle se connecter. La valeur par défaut est \"test\".\n",
    "- url : adresse du serveur MongoDB au format URI standard.\n",
    "- verbose : si TRUE, émet une sortie supplémentaire\n",
    "- options : options de connexion supplémentaires telles que les clés et certificats SSL que nous ne developperons pas dans ce tutoriel.\n",
    "\n",
    "```{admonition} Remarque  \n",
    "\n",
    "La fonction mongo() prend obligatoirement en entrée le nom d'une collection d'une base de données. Nous comprenons alors que mongolite nous permet seulement d'intéragir avec une collection d'une base données, et non pas avec la base tout entière. Ici nous aurons donc qu'un seul objet pointant sur une collection avec laquelle intéragir. Nous n'aurons donc pas comme sur python et sa librarie pymongo d'objets clients et d'objets base de données. \n",
    "``` \n",
    "\n",
    "```{admonition} Astuce\n",
    ":class: tip\n",
    "\n",
    "L'adresse URI à spécifier dans le paramètre URL définit l'adresse du serveur et des options de connexion supplémentaires. Parmi ces options, nous pouvons notamment retrouver des mots de passe que nous vous conseillons, à l'opposé de ce qui a été fait ce tutoriel pour des fins pédagogiques, de lire dans des fichiers externes afin d'en préserver leur confidentialité. Afin d'obtenir plus de précisions sur le format exact de l'URI attendu (authentification, tunnel SSH, options SSL et options de réplique), nous vous renvoyons à la [documentation](https://jeroen.github.io/mongolite/connecting-to-mongodb.html).\n",
    "```\n",
    "Pour ce qui est de sa sortie, la fonction *mongo()* renvoie un objet propre à sa librairie mère, une *Mongo collection*, qui, comme nous l'avons vu précédemment, pointe sur une collection d'une base de données. Regardons de plus près à quoi correspond ce type d'objet sur un exemple concret. Ici nous nous connectons à la collection \"NYfood\" d'une base de données \"food\" contenant de nombreuses informations sur les restaurants de New-York."
   ]
  },
  {
   "cell_type": "code",
   "execution_count": 1,
   "id": "ad9f7253",
   "metadata": {},
   "outputs": [
    {
     "data": {
      "text/plain": [
       "<Mongo collection> 'NYfood' \n",
       " $aggregate(pipeline = \"{}\", options = \"{\\\"allowDiskUse\\\":true}\", handler = NULL, pagesize = 1000, iterate = FALSE) \n",
       " $count(query = \"{}\") \n",
       " $disconnect(gc = TRUE) \n",
       " $distinct(key, query = \"{}\") \n",
       " $drop() \n",
       " $export(con = stdout(), bson = FALSE, query = \"{}\", fields = \"{}\", sort = \"{\\\"_id\\\":1}\") \n",
       " $find(query = \"{}\", fields = \"{\\\"_id\\\":0}\", sort = \"{}\", skip = 0, limit = 0, handler = NULL, pagesize = 1000) \n",
       " $import(con, bson = FALSE) \n",
       " $index(add = NULL, remove = NULL) \n",
       " $info() \n",
       " $insert(data, pagesize = 1000, stop_on_error = TRUE, ...) \n",
       " $iterate(query = \"{}\", fields = \"{\\\"_id\\\":0}\", sort = \"{}\", skip = 0, limit = 0) \n",
       " $mapreduce(map, reduce, query = \"{}\", sort = \"{}\", limit = 0, out = NULL, scope = NULL) \n",
       " $remove(query, just_one = FALSE) \n",
       " $rename(name, db = NULL) \n",
       " $replace(query, update = \"{}\", upsert = FALSE) \n",
       " $run(command = \"{\\\"ping\\\": 1}\", simplify = TRUE) \n",
       " $update(query, update = \"{\\\"$set\\\":{}}\", filters = NULL, upsert = FALSE, multiple = FALSE) "
      ]
     },
     "metadata": {},
     "output_type": "display_data"
    }
   ],
   "source": [
    "library(mongolite)\n",
    "coll <- mongo(collection=\"NYfood\", db=\"food\",url = \"mongodb://localhost:27017/food\", verbose=TRUE)\n",
    "coll"
   ]
  },
  {
   "cell_type": "markdown",
   "id": "5b475927",
   "metadata": {},
   "source": [
    "Nous constatons alors que la *Mongo collection* est un environnement contenant les informations de la collection \"NYfood\" avec lequel nous pouvons intéragir via de nombreuses méthodes. Chacune de ces méthodes s'appliquera sur une *Mongo collection* à l'aide d'un \"$\" et permettra d'effectuer l'équivalent d'une requête MondoDB sur une collection. Par exemple, pour faire une simple requête find en *NoSQL* récupérant tous les documents d'une collection, il suffira d'écrire :\n",
    "\n",
    "```r\n",
    "coll$find()\n",
    "```\n",
    "\n",
    "Ou encore pour affichez la liste des index de la collection NYfood, il suffira d'écrire :\n",
    "\n",
    "```r\n",
    "coll$index()\n",
    "```\n",
    "\n",
    "L'objet des prochaines sections de ce chapitre sera alors d'explorer ces différentes méthodes et de voir leurs requêtes équivalentes en NoSQL. Nous reviendrons notamment sur les objets renvoyés par ces différentes méthodes. Toutefois, nous pouvons d'ores et déjà remarquer qu'une méthode *find()* renvoie la collection complète dans un *dataframe* ce qui, dans des cas de grands volumes de données, pourrait entrainer des saturations de mémoire de votre machine. Nous verrons par la suite que pour s'affranchir de ce problème, nous pourrons utiliser une méthode *iterate()*, similaire à la méthode *find()*, renvoyant non plus un *dataframe*, mais un *Mongo iterator*. Un *Mongo iterator* est un objet propre à *mongolite* permettant de ne pas stocker explicitement en mémoire le résultat d'une requête mais d'en conserver un itérateur.\n",
    "\n",
    "## Requêtes de données\n",
    "\n",
    "*Mongolite* utilise une syntaxe JSON dans les arguments de ses méthodes pour interroger des collections. Cette syntaxe JSON devra être spécifiée sous forme de chaîne de caractère entre simples *quotes* dans R. Ces différentes chaînes feront alors l'objet de divers paramètres pour les méthodes présentées dans ce chapitre.\n",
    "\n",
    "### Méthode count\n",
    "\n",
    "Tout comme le *.count()* en MongoDB ([plus de précisions ici](https://rtavenar.github.io/mongo_book/content/01_find.html)), la méthode *count()* nous permet de calculer le nombre de résultats d'une collection, ou encore le nombre de résultats d'une certaine requête. Cette méthode n'a qu'un seul argument (query) et sa valeur par défaut est \"{}\". Elle renvoie un entier.\n",
    "\n",
    "**Exemples :**\n",
    "\n",
    "Afficher le nombre de résultats de la base NYfood par exemple :"
   ]
  },
  {
   "cell_type": "code",
   "execution_count": 2,
   "id": "e30354c2",
   "metadata": {},
   "outputs": [
    {
     "data": {
      "text/html": [
       "25357"
      ],
      "text/latex": [
       "25357"
      ],
      "text/markdown": [
       "25357"
      ],
      "text/plain": [
       "[1] 25357"
      ]
     },
     "metadata": {},
     "output_type": "display_data"
    }
   ],
   "source": [
    "req = \"{}\"\n",
    "coll$count(query=req)"
   ]
  },
  {
   "cell_type": "markdown",
   "id": "a998b899",
   "metadata": {},
   "source": [
    "Nous pouvons également noter l'équivalent en MongoDB :\n",
    "\n",
    "````{tabbed} Mongolite\n",
    "\n",
    "```r\n",
    "req = \"{}\"\n",
    "coll$count(query=req)\n",
    "```\n",
    "\n",
    "````\n",
    "\n",
    "````{tabbed} Équivalent MongoDB\n",
    "\n",
    "```javascript\n",
    "db.NYfood.find()\n",
    "```\n",
    "\n",
    "````\n",
    "\n",
    "Et pour afficher le nombre de restaurants chinois :\n",
    "\n",
    "````{tabbed} Mongolite\n",
    "\n",
    "```r\n",
    "req = '{\"cuisine\":\"Chinese\"}'\n",
    "coll$count(query=req)\n",
    "```\n",
    "\n",
    "````\n",
    "\n",
    "````{tabbed} Équivalent MongoDB\n",
    "\n",
    "```javascript\n",
    "db.NYfood.find({\"cuisine\":\"Chinese\"})\n",
    "```\n",
    "\n",
    "````\n",
    "\n",
    "### Méthode find\n",
    "\n",
    "La méthode *find()* permet, à l'instar du *.find* en MongoDB ([plus de précisions ici](https://rtavenar.github.io/mongo_book/content/01_find.html)), d'interroger une collection en filtrant les documents et les champs. De plus, cette méthode intègre la possibilité de limiter, trier et skiper les documents d'un résultat. Autrement dit, cette méthode comprends en ses arguments le *.limit*, le *.sort* et le *.skip* de MongoDB. Présentons alors les 5 arguments de cette méthode : \n",
    "\n",
    "- query : correspond à la requête de filtrage des documents passée en premier agument d'un *.find* en MongoDB ; '{}' est la valeur par défaut\n",
    "- fields : correspond à la requête de filtrage des champs passée en second argument d'un *.find* en MongoDB\n",
    "- sort : correspond à la requête de tri passée argument d'un *.sort* en MongoDB\n",
    "- limit : correspond à la requête de limitation du nombre de documents retournées, passée en argument d'un *.limit* en MongoDB\n",
    "- skip : correspond à la requête de choix d'une ligne de départ des documents retournées, passée en argument d'un *.skip* en MongoDB\n",
    "\n",
    "Comme nous avons pu l'énoncer précedémment, cette méthode stocke le résultat dans un dataframe sous R, prenant ainsi de la place en mémoire. Cette prise de place en mémoire peut être problématique, c'est pourquoi nous verrons par la suite l'intérêt de la méthode *iterate()* et de l'objet *Mongo iterator* qu'elle renvoie.\n",
    "\n",
    "**Exemple :**\n",
    "\n",
    "Regardons les 5 premières lignes du dataframe contenant les noms des restaurants chinois à Brooklyn triés par ordre alphabétique inverse (i.e, de Z à A) :"
   ]
  },
  {
   "cell_type": "code",
   "execution_count": 3,
   "id": "2850d71c",
   "metadata": {
    "tags": [
     "output_scroll"
    ]
   },
   "outputs": [
    {
     "name": "stdout",
     "output_type": "stream",
     "text": [
      "\r",
      " Found 5 records...\r",
      " Imported 5 records. Simplifying into dataframe...\n"
     ]
    },
    {
     "data": {
      "text/html": [
       "<table class=\"dataframe\">\n",
       "<caption>A data.frame: 5 × 1</caption>\n",
       "<thead>\n",
       "\t<tr><th></th><th scope=col>name</th></tr>\n",
       "\t<tr><th></th><th scope=col>&lt;chr&gt;</th></tr>\n",
       "</thead>\n",
       "<tbody>\n",
       "\t<tr><th scope=row>1</th><td>Zhang'S Garden            </td></tr>\n",
       "\t<tr><th scope=row>2</th><td>Zhang'S Fortune Restaurant</td></tr>\n",
       "\t<tr><th scope=row>3</th><td>Zeng'S Restaurant         </td></tr>\n",
       "\t<tr><th scope=row>4</th><td>Yun Nan Flavour Garden    </td></tr>\n",
       "\t<tr><th scope=row>5</th><td>Yummy Yummy Kitchen       </td></tr>\n",
       "</tbody>\n",
       "</table>\n"
      ],
      "text/latex": [
       "A data.frame: 5 × 1\n",
       "\\begin{tabular}{r|l}\n",
       "  & name\\\\\n",
       "  & <chr>\\\\\n",
       "\\hline\n",
       "\t1 & Zhang'S Garden            \\\\\n",
       "\t2 & Zhang'S Fortune Restaurant\\\\\n",
       "\t3 & Zeng'S Restaurant         \\\\\n",
       "\t4 & Yun Nan Flavour Garden    \\\\\n",
       "\t5 & Yummy Yummy Kitchen       \\\\\n",
       "\\end{tabular}\n"
      ],
      "text/markdown": [
       "\n",
       "A data.frame: 5 × 1\n",
       "\n",
       "| <!--/--> | name &lt;chr&gt; |\n",
       "|---|---|\n",
       "| 1 | Zhang'S Garden             |\n",
       "| 2 | Zhang'S Fortune Restaurant |\n",
       "| 3 | Zeng'S Restaurant          |\n",
       "| 4 | Yun Nan Flavour Garden     |\n",
       "| 5 | Yummy Yummy Kitchen        |\n",
       "\n"
      ],
      "text/plain": [
       "  name                      \n",
       "1 Zhang'S Garden            \n",
       "2 Zhang'S Fortune Restaurant\n",
       "3 Zeng'S Restaurant         \n",
       "4 Yun Nan Flavour Garden    \n",
       "5 Yummy Yummy Kitchen       "
      ]
     },
     "metadata": {},
     "output_type": "display_data"
    }
   ],
   "source": [
    "data <- coll$find(query = '{\"cuisine\":\"Chinese\", \"borough\":\"Brooklyn\"}',\n",
    "                  fields = '{\"name\": true, \"_id\":false}',\n",
    "                  sort = '{\"name\":-1}',\n",
    "                  limit = 5)\n",
    "data"
   ]
  },
  {
   "cell_type": "markdown",
   "id": "ae8eeed5",
   "metadata": {},
   "source": [
    "L'équivalent en MongoDB est le suivant :\n",
    "\n",
    "````{tabbed} Mongolite\n",
    "\n",
    "```r\n",
    "data <- coll$find(query = '{\"cuisine\":\"Chinese\", \"borough\":\"Brooklyn\"}',\n",
    "                  fields = '{\"name\": true, \"_id\":false}',\n",
    "                  sort = '{\"name\":-1}',\n",
    "                  limit = 5)\n",
    "data\n",
    "```\n",
    "\n",
    "````\n",
    "\n",
    "````{tabbed} Équivalent MongoDB\n",
    "\n",
    "```javascript\n",
    "db.NYfood.find({\"cuisine\":\"Chinese\", \"borough\":\"Brooklyn\"}, \n",
    "{\"name\":true, \"_id\":false}).sort({\"name\":-1}).limit(5)\n",
    "```\n",
    "\n",
    "````\n",
    "\n",
    "Rappelons que le tri par toute variable autre que l'identifiant peut être relativement lent, surtout lorsque la collection est de taille importante car seul l'identifiant est indexé. En ajoutant un index, le champ est pré-trié et son tri est presque immédiat. Pour ajouter un index avec *mongolite*, il suffit de le déclarer avec la méthode *index(add='{\"variable\":1}')*.\n",
    "\n",
    "**Exemple :**\n",
    "\n",
    "Créer un index sur le champs *name* :\n",
    "\n",
    "````{tabbed} Mongolite\n",
    "\n",
    "```r\n",
    "coll$index(add = '{\"name\" : 1}')\n",
    "```\n",
    "\n",
    "````\n",
    "\n",
    "````{tabbed} Équivalent MongoDB\n",
    "\n",
    "```javascript\n",
    "db.NYfood.createIndex({\"name\": 1}\n",
    "```\n",
    "\n",
    "````\n",
    "\n",
    "Il est aussi possible de faire des requêtes textuelles avec mongolite. Toutefois attention, cela se fait obligatoirement à l'aide de l'opérateur *$regex*. En effet, avec *mongolite* on ne peut pas faire de requêtes textuelles à l'aide d'expressions régulières car le package permettant de convertir une chaîne de caractères en fichier JSON dans R ne connait pas les expressions régulières. Hormis ce détail, la syntaxe entre simples *quotes* est la même que pour les requêtes textuelles en MongoDB ([plus de précisions ici](https://rtavenar.github.io/mongo_book/content/04_index.html)).\n",
    "\n",
    "Ainsi, pour afficher les 10 premiers restaurants de Manhattan dont le nom commence par la lettre 'A' par exemple, la requête adaptée est :"
   ]
  },
  {
   "cell_type": "code",
   "execution_count": 4,
   "id": "267b4730",
   "metadata": {
    "tags": [
     "output_scroll"
    ]
   },
   "outputs": [
    {
     "name": "stdout",
     "output_type": "stream",
     "text": [
      "\r",
      " Found 10 records...\r",
      " Imported 10 records. Simplifying into dataframe...\n"
     ]
    },
    {
     "name": "stdout",
     "output_type": "stream",
     "text": [
      "   address.building address.loc.type address.loc.coordinates\n",
      "1                18            Point     -73.99698, 40.72589\n",
      "2               146            Point     -73.99730, 40.71887\n",
      "3               106            Point     -74.00033, 40.72749\n",
      "4               101            Point     -73.97831, 40.76323\n",
      "5               807            Point     -73.96643, 40.76417\n",
      "6              1617            Point     -73.94785, 40.77548\n",
      "7                              Point     -73.97911, 40.78348\n",
      "8              1207            Point     -73.95926, 40.80886\n",
      "9               463            Point       -73.9897, 40.7517\n",
      "10              762            Point     -73.98820, 40.76414\n",
      "        address.street address.zipcode   borough   cuisine\n",
      "1  West Houston Street           10012 Manhattan American \n",
      "2      Mulberry Street           10013 Manhattan   Italian\n",
      "3  West Houston Street           10012 Manhattan   Italian\n",
      "4       West 55 Street           10019 Manhattan American \n",
      "5     Lexington Avenue           10065 Manhattan    Indian\n",
      "6          York Avenue           10028 Manhattan   Italian\n",
      "7          W 79 Street           10024 Manhattan American \n",
      "8     Amsterdam Avenue           10027 Manhattan American \n",
      "9             7 Avenue           10018 Manhattan American \n",
      "10            9 Avenue           10019 Manhattan   Mexican\n",
      "                                                                                                            grades\n",
      "1                                          1396483200, 1365120000, 1332288000, 1303862400, A, A, A, A, 9, 4, 13, 5\n",
      "2                     1398988800, 1363219200, 1348617600, 1329264000, 1316044800, A, A, A, A, A, 11, 13, 9, 13, 11\n",
      "3                     1396224000, 1381190400, 1364515200, 1346803200, 1330905600, A, A, A, A, A, 13, 12, 12, 7, 12\n",
      "4                                           1413849600, 1392336000, 1357257600, 1326844800, A, A, A, A, 7, 9, 8, 7\n",
      "5  1414454400, 1404864000, 1389916800, 1369699200, 1332806400, 1320192000, A, B, A, A, A, C, 10, 24, 11, 9, 13, 28\n",
      "6                    1396396800, 1363132800, 1347408000, 1329782400, 1311120000, A, A, A, B, B, 13, 12, 13, 21, 21\n",
      "7                     1399507200, 1378944000, 1360627200, 1319500800, 1306368000, A, A, A, A, A, 12, 11, 13, 3, 13\n",
      "8                     1409702400, 1397779200, 1379980800, 1362960000, 1324339200, A, C, A, A, A, 12, 0, 10, 11, 12\n",
      "9   1393545600, 1382313600, 1350518400, 1338854400, 1321315200, 1306454400, A, C, A, A, A, A, 12, 9, 13, 12, 9, 10\n",
      "10                                                            1419811200, 1385942400, 1353888000, A, A, A, 9, 8, 5\n",
      "                                            name restaurant_id\n",
      "1                           Angelika Film Center      40362274\n",
      "2                         Angelo Of Mulberry St.      40365293\n",
      "3                                       Arturo'S      40365387\n",
      "4                               Astro Restaurant      40373113\n",
      "5                                Agra Restaurant      40375376\n",
      "6                                       Arturo'S      40375616\n",
      "7  American Museum Of Natural History Food Court      40376515\n",
      "8            Amsterdam Restaurant & Tapas Lounge      40377111\n",
      "9                            Andrews Coffee Shop      40378579\n",
      "10                                 Arriba Arriba      40380457\n"
     ]
    }
   ],
   "source": [
    "q = '{\"borough\": \"Manhattan\", \"name\": {\"$regex\": \"^A\", \"$options\":\"i\"}}'\n",
    "res <- coll$find(query = q, limit=10)\n",
    "print(res)"
   ]
  },
  {
   "cell_type": "markdown",
   "id": "de2b0eb4",
   "metadata": {},
   "source": [
    "Notons alors l'équivalent possible en MongoDB : \n",
    "\n",
    "````{tabbed} Mongolite\n",
    "\n",
    "```r\n",
    "q = '{\"borough\": \"Manhattan\", \"name\": {\"$regex\": \"^A\", \"$options\":\"i\"}}'\n",
    "coll$find(query = q, limit=10)\n",
    "```\n",
    "\n",
    "````\n",
    "\n",
    "````{tabbed} Équivalent MongoDB\n",
    "\n",
    "```javascript\n",
    "db.NYfood.find({\"borough\": \"Manhattan\", \"name\": /^A/i }).limit(10)\n",
    "```\n",
    "\n",
    "````\n",
    "\n",
    "\n",
    "```{admonition} Remarque  \n",
    "\n",
    "Comme en NoSQL, l'accent circonflèxe sert à préciser que seulement les chaînes commençant par la lettre A seront acceptées. L'opérateur *\"$options\":\"i\"* précise que la casse n'est pas importante (i.e, la chaine \"abc\" sera jugée acceptable).\n",
    "```\n",
    "\n",
    "---\n",
    "\n",
    "Pour ce qui est des requêtes géospatiales, la syntaxe entre simples *quotes* est la même que pour les requêtes textuelles en MongoDB ([plus de précisions ici](https://rtavenar.github.io/mongo_book/content/04_index.html)).\n",
    "\n",
    "### Méthode iterate\n",
    "\n",
    "Nous avons vu précedemment que le renvoi d'une requête dans un dataframe R à l'aide de la méthode *find()* pouvait être problématique pour de grands volumes de données. La méthode *iterate()* permet de s'affranchir de ce problème. Celle-ci fonctionne exactement de la même manière que la méthode *find()* mais renvoie le résultat d'une requête non pas dans un dataframe mais dans un objet propre à *mongolite*, un *Mongo iterator*. Cet objet va permettre de ne pas stocker toutes les documents de la requête en mémoire mais de les lire un par un. Pour ce faire, il existe 4 méthodes applicables à un *Mongo iterator* :\n",
    "\n",
    "- batch(n) : permet de parcourir n documents à la fois\n",
    "- json() : retourne les résultats de la requête dans un format JSON\n",
    "- one() : permet de parcourir un document à la fois\n",
    "- page() : retourne les résultats de la requête sous forme de dataframe\n",
    "\n",
    "Lorsque l'itérateur a épuisé tous les résultats de la collection, il retourne la valeur vide (NULL).\n",
    "\n",
    "**Exemple :**\n",
    "\n",
    "La création d'un itérateur sur l'ensemble de la collection NYfood se fait comme ci-dessous :"
   ]
  },
  {
   "cell_type": "code",
   "execution_count": 5,
   "id": "b05f0116",
   "metadata": {},
   "outputs": [
    {
     "data": {
      "text/plain": [
       "<Mongo iterator> \n",
       " $batch(size = 1000) \n",
       " $json(size = 1000) \n",
       " $one() \n",
       " $page(size = 1000) "
      ]
     },
     "metadata": {},
     "output_type": "display_data"
    }
   ],
   "source": [
    "it <- coll$iterate()\n",
    "it"
   ]
  },
  {
   "cell_type": "markdown",
   "id": "11994911",
   "metadata": {},
   "source": [
    "Affichons par exemple les 5 premières lignes :"
   ]
  },
  {
   "cell_type": "code",
   "execution_count": 6,
   "id": "9cf283d5",
   "metadata": {
    "tags": [
     "output_scroll"
    ]
   },
   "outputs": [
    {
     "data": {
      "text/plain": [
       "[[1]]\n",
       "[[1]]$address\n",
       "[[1]]$address$building\n",
       "[1] \"469\"\n",
       "\n",
       "[[1]]$address$loc\n",
       "[[1]]$address$loc$type\n",
       "[1] \"Point\"\n",
       "\n",
       "[[1]]$address$loc$coordinates\n",
       "[[1]]$address$loc$coordinates[[1]]\n",
       "[1] -73.9617\n",
       "\n",
       "[[1]]$address$loc$coordinates[[2]]\n",
       "[1] 40.66294\n",
       "\n",
       "\n",
       "\n",
       "[[1]]$address$street\n",
       "[1] \"Flatbush Avenue\"\n",
       "\n",
       "[[1]]$address$zipcode\n",
       "[1] \"11225\"\n",
       "\n",
       "\n",
       "[[1]]$borough\n",
       "[1] \"Brooklyn\"\n",
       "\n",
       "[[1]]$cuisine\n",
       "[1] \"Hamburgers\"\n",
       "\n",
       "[[1]]$grades\n",
       "[[1]]$grades[[1]]\n",
       "[[1]]$grades[[1]]$date\n",
       "[1] \"2014-12-30 UTC\"\n",
       "\n",
       "[[1]]$grades[[1]]$grade\n",
       "[1] \"A\"\n",
       "\n",
       "[[1]]$grades[[1]]$score\n",
       "[1] 8\n",
       "\n",
       "\n",
       "[[1]]$grades[[2]]\n",
       "[[1]]$grades[[2]]$date\n",
       "[1] \"2014-07-01 UTC\"\n",
       "\n",
       "[[1]]$grades[[2]]$grade\n",
       "[1] \"B\"\n",
       "\n",
       "[[1]]$grades[[2]]$score\n",
       "[1] 23\n",
       "\n",
       "\n",
       "[[1]]$grades[[3]]\n",
       "[[1]]$grades[[3]]$date\n",
       "[1] \"2013-04-30 UTC\"\n",
       "\n",
       "[[1]]$grades[[3]]$grade\n",
       "[1] \"A\"\n",
       "\n",
       "[[1]]$grades[[3]]$score\n",
       "[1] 12\n",
       "\n",
       "\n",
       "[[1]]$grades[[4]]\n",
       "[[1]]$grades[[4]]$date\n",
       "[1] \"2012-05-08 UTC\"\n",
       "\n",
       "[[1]]$grades[[4]]$grade\n",
       "[1] \"A\"\n",
       "\n",
       "[[1]]$grades[[4]]$score\n",
       "[1] 12\n",
       "\n",
       "\n",
       "\n",
       "[[1]]$name\n",
       "[1] \"Wendy'S\"\n",
       "\n",
       "[[1]]$restaurant_id\n",
       "[1] \"30112340\"\n",
       "\n",
       "\n",
       "[[2]]\n",
       "[[2]]$address\n",
       "[[2]]$address$building\n",
       "[1] \"351\"\n",
       "\n",
       "[[2]]$address$loc\n",
       "[[2]]$address$loc$type\n",
       "[1] \"Point\"\n",
       "\n",
       "[[2]]$address$loc$coordinates\n",
       "[[2]]$address$loc$coordinates[[1]]\n",
       "[1] -73.98514\n",
       "\n",
       "[[2]]$address$loc$coordinates[[2]]\n",
       "[1] 40.76769\n",
       "\n",
       "\n",
       "\n",
       "[[2]]$address$street\n",
       "[1] \"West   57 Street\"\n",
       "\n",
       "[[2]]$address$zipcode\n",
       "[1] \"10019\"\n",
       "\n",
       "\n",
       "[[2]]$borough\n",
       "[1] \"Manhattan\"\n",
       "\n",
       "[[2]]$cuisine\n",
       "[1] \"Irish\"\n",
       "\n",
       "[[2]]$grades\n",
       "[[2]]$grades[[1]]\n",
       "[[2]]$grades[[1]]$date\n",
       "[1] \"2014-09-06 UTC\"\n",
       "\n",
       "[[2]]$grades[[1]]$grade\n",
       "[1] \"A\"\n",
       "\n",
       "[[2]]$grades[[1]]$score\n",
       "[1] 2\n",
       "\n",
       "\n",
       "[[2]]$grades[[2]]\n",
       "[[2]]$grades[[2]]$date\n",
       "[1] \"2013-07-22 UTC\"\n",
       "\n",
       "[[2]]$grades[[2]]$grade\n",
       "[1] \"A\"\n",
       "\n",
       "[[2]]$grades[[2]]$score\n",
       "[1] 11\n",
       "\n",
       "\n",
       "[[2]]$grades[[3]]\n",
       "[[2]]$grades[[3]]$date\n",
       "[1] \"2012-07-31 UTC\"\n",
       "\n",
       "[[2]]$grades[[3]]$grade\n",
       "[1] \"A\"\n",
       "\n",
       "[[2]]$grades[[3]]$score\n",
       "[1] 12\n",
       "\n",
       "\n",
       "[[2]]$grades[[4]]\n",
       "[[2]]$grades[[4]]$date\n",
       "[1] \"2011-12-29 UTC\"\n",
       "\n",
       "[[2]]$grades[[4]]$grade\n",
       "[1] \"A\"\n",
       "\n",
       "[[2]]$grades[[4]]$score\n",
       "[1] 12\n",
       "\n",
       "\n",
       "\n",
       "[[2]]$name\n",
       "[1] \"Dj Reynolds Pub And Restaurant\"\n",
       "\n",
       "[[2]]$restaurant_id\n",
       "[1] \"30191841\"\n",
       "\n",
       "\n",
       "[[3]]\n",
       "[[3]]$address\n",
       "[[3]]$address$building\n",
       "[1] \"1007\"\n",
       "\n",
       "[[3]]$address$loc\n",
       "[[3]]$address$loc$type\n",
       "[1] \"Point\"\n",
       "\n",
       "[[3]]$address$loc$coordinates\n",
       "[[3]]$address$loc$coordinates[[1]]\n",
       "[1] -73.85608\n",
       "\n",
       "[[3]]$address$loc$coordinates[[2]]\n",
       "[1] 40.84845\n",
       "\n",
       "\n",
       "\n",
       "[[3]]$address$street\n",
       "[1] \"Morris Park Ave\"\n",
       "\n",
       "[[3]]$address$zipcode\n",
       "[1] \"10462\"\n",
       "\n",
       "\n",
       "[[3]]$borough\n",
       "[1] \"Bronx\"\n",
       "\n",
       "[[3]]$cuisine\n",
       "[1] \"Bakery\"\n",
       "\n",
       "[[3]]$grades\n",
       "[[3]]$grades[[1]]\n",
       "[[3]]$grades[[1]]$date\n",
       "[1] \"2014-03-03 UTC\"\n",
       "\n",
       "[[3]]$grades[[1]]$grade\n",
       "[1] \"A\"\n",
       "\n",
       "[[3]]$grades[[1]]$score\n",
       "[1] 2\n",
       "\n",
       "\n",
       "[[3]]$grades[[2]]\n",
       "[[3]]$grades[[2]]$date\n",
       "[1] \"2013-09-11 UTC\"\n",
       "\n",
       "[[3]]$grades[[2]]$grade\n",
       "[1] \"A\"\n",
       "\n",
       "[[3]]$grades[[2]]$score\n",
       "[1] 6\n",
       "\n",
       "\n",
       "[[3]]$grades[[3]]\n",
       "[[3]]$grades[[3]]$date\n",
       "[1] \"2013-01-24 UTC\"\n",
       "\n",
       "[[3]]$grades[[3]]$grade\n",
       "[1] \"A\"\n",
       "\n",
       "[[3]]$grades[[3]]$score\n",
       "[1] 10\n",
       "\n",
       "\n",
       "[[3]]$grades[[4]]\n",
       "[[3]]$grades[[4]]$date\n",
       "[1] \"2011-11-23 UTC\"\n",
       "\n",
       "[[3]]$grades[[4]]$grade\n",
       "[1] \"A\"\n",
       "\n",
       "[[3]]$grades[[4]]$score\n",
       "[1] 9\n",
       "\n",
       "\n",
       "[[3]]$grades[[5]]\n",
       "[[3]]$grades[[5]]$date\n",
       "[1] \"2011-03-10 UTC\"\n",
       "\n",
       "[[3]]$grades[[5]]$grade\n",
       "[1] \"B\"\n",
       "\n",
       "[[3]]$grades[[5]]$score\n",
       "[1] 14\n",
       "\n",
       "\n",
       "\n",
       "[[3]]$name\n",
       "[1] \"Morris Park Bake Shop\"\n",
       "\n",
       "[[3]]$restaurant_id\n",
       "[1] \"30075445\"\n",
       "\n",
       "\n",
       "[[4]]\n",
       "[[4]]$address\n",
       "[[4]]$address$building\n",
       "[1] \"2780\"\n",
       "\n",
       "[[4]]$address$loc\n",
       "[[4]]$address$loc$type\n",
       "[1] \"Point\"\n",
       "\n",
       "[[4]]$address$loc$coordinates\n",
       "[[4]]$address$loc$coordinates[[1]]\n",
       "[1] -73.98242\n",
       "\n",
       "[[4]]$address$loc$coordinates[[2]]\n",
       "[1] 40.5795\n",
       "\n",
       "\n",
       "\n",
       "[[4]]$address$street\n",
       "[1] \"Stillwell Avenue\"\n",
       "\n",
       "[[4]]$address$zipcode\n",
       "[1] \"11224\"\n",
       "\n",
       "\n",
       "[[4]]$borough\n",
       "[1] \"Brooklyn\"\n",
       "\n",
       "[[4]]$cuisine\n",
       "[1] \"American \"\n",
       "\n",
       "[[4]]$grades\n",
       "[[4]]$grades[[1]]\n",
       "[[4]]$grades[[1]]$date\n",
       "[1] \"2014-06-10 UTC\"\n",
       "\n",
       "[[4]]$grades[[1]]$grade\n",
       "[1] \"A\"\n",
       "\n",
       "[[4]]$grades[[1]]$score\n",
       "[1] 5\n",
       "\n",
       "\n",
       "[[4]]$grades[[2]]\n",
       "[[4]]$grades[[2]]$date\n",
       "[1] \"2013-06-05 UTC\"\n",
       "\n",
       "[[4]]$grades[[2]]$grade\n",
       "[1] \"A\"\n",
       "\n",
       "[[4]]$grades[[2]]$score\n",
       "[1] 7\n",
       "\n",
       "\n",
       "[[4]]$grades[[3]]\n",
       "[[4]]$grades[[3]]$date\n",
       "[1] \"2012-04-13 UTC\"\n",
       "\n",
       "[[4]]$grades[[3]]$grade\n",
       "[1] \"A\"\n",
       "\n",
       "[[4]]$grades[[3]]$score\n",
       "[1] 12\n",
       "\n",
       "\n",
       "[[4]]$grades[[4]]\n",
       "[[4]]$grades[[4]]$date\n",
       "[1] \"2011-10-12 UTC\"\n",
       "\n",
       "[[4]]$grades[[4]]$grade\n",
       "[1] \"A\"\n",
       "\n",
       "[[4]]$grades[[4]]$score\n",
       "[1] 12\n",
       "\n",
       "\n",
       "\n",
       "[[4]]$name\n",
       "[1] \"Riviera Caterer\"\n",
       "\n",
       "[[4]]$restaurant_id\n",
       "[1] \"40356018\"\n",
       "\n",
       "\n",
       "[[5]]\n",
       "[[5]]$address\n",
       "[[5]]$address$building\n",
       "[1] \"97-22\"\n",
       "\n",
       "[[5]]$address$loc\n",
       "[[5]]$address$loc$type\n",
       "[1] \"Point\"\n",
       "\n",
       "[[5]]$address$loc$coordinates\n",
       "[[5]]$address$loc$coordinates[[1]]\n",
       "[1] -73.86012\n",
       "\n",
       "[[5]]$address$loc$coordinates[[2]]\n",
       "[1] 40.73117\n",
       "\n",
       "\n",
       "\n",
       "[[5]]$address$street\n",
       "[1] \"63 Road\"\n",
       "\n",
       "[[5]]$address$zipcode\n",
       "[1] \"11374\"\n",
       "\n",
       "\n",
       "[[5]]$borough\n",
       "[1] \"Queens\"\n",
       "\n",
       "[[5]]$cuisine\n",
       "[1] \"Jewish/Kosher\"\n",
       "\n",
       "[[5]]$grades\n",
       "[[5]]$grades[[1]]\n",
       "[[5]]$grades[[1]]$date\n",
       "[1] \"2014-11-24 UTC\"\n",
       "\n",
       "[[5]]$grades[[1]]$grade\n",
       "[1] \"Z\"\n",
       "\n",
       "[[5]]$grades[[1]]$score\n",
       "[1] 20\n",
       "\n",
       "\n",
       "[[5]]$grades[[2]]\n",
       "[[5]]$grades[[2]]$date\n",
       "[1] \"2013-01-17 UTC\"\n",
       "\n",
       "[[5]]$grades[[2]]$grade\n",
       "[1] \"A\"\n",
       "\n",
       "[[5]]$grades[[2]]$score\n",
       "[1] 13\n",
       "\n",
       "\n",
       "[[5]]$grades[[3]]\n",
       "[[5]]$grades[[3]]$date\n",
       "[1] \"2012-08-02 UTC\"\n",
       "\n",
       "[[5]]$grades[[3]]$grade\n",
       "[1] \"A\"\n",
       "\n",
       "[[5]]$grades[[3]]$score\n",
       "[1] 13\n",
       "\n",
       "\n",
       "[[5]]$grades[[4]]\n",
       "[[5]]$grades[[4]]$date\n",
       "[1] \"2011-12-15 UTC\"\n",
       "\n",
       "[[5]]$grades[[4]]$grade\n",
       "[1] \"B\"\n",
       "\n",
       "[[5]]$grades[[4]]$score\n",
       "[1] 25\n",
       "\n",
       "\n",
       "\n",
       "[[5]]$name\n",
       "[1] \"Tov Kosher Kitchen\"\n",
       "\n",
       "[[5]]$restaurant_id\n",
       "[1] \"40356068\"\n",
       "\n"
      ]
     },
     "metadata": {},
     "output_type": "display_data"
    }
   ],
   "source": [
    "it$batch(5)"
   ]
  },
  {
   "cell_type": "markdown",
   "id": "c08e742a",
   "metadata": {},
   "source": [
    "L'affichage avec la méthode batch, qui est essentiellement des listes imbriquées, n'est pas toujours facile à visualiser et nous pouvons décider de stocker le résultat dans un dataframe pour mieux le visualiser ; cela se fait avec la méthode *page()*. Par exemple, pour stocker les 5 premières lignes dans un dataframe :"
   ]
  },
  {
   "cell_type": "code",
   "execution_count": 7,
   "id": "16be4b5a",
   "metadata": {
    "tags": [
     "output_scroll"
    ]
   },
   "outputs": [
    {
     "name": "stdout",
     "output_type": "stream",
     "text": [
      "  address.building address.loc.type address.loc.coordinates    address.street\n",
      "1             2206            Point     -74.13773, 40.61196 Victory Boulevard\n",
      "2             8825            Point     -73.88038, 40.76431 Astoria Boulevard\n",
      "3             7114            Point     -73.90685, 40.61990          Avenue U\n",
      "4             6409            Point     -74.00529, 40.62889         11 Avenue\n",
      "5             1839            Point     -73.94826, 40.64083   Nostrand Avenue\n",
      "  address.zipcode       borough                         cuisine\n",
      "1           10314 Staten Island                   Jewish/Kosher\n",
      "2           11369        Queens                       American \n",
      "3           11234      Brooklyn                    Delicatessen\n",
      "4           11219      Brooklyn                       American \n",
      "5           11226      Brooklyn Ice Cream, Gelato, Yogurt, Ices\n",
      "                                                                                                          grades\n",
      "1                                       1412553600, 1400544000, 1365033600, 1327363200, A, A, A, A, 9, 12, 12, 9\n",
      "2                                      1416009600, 1398988800, 1362182400, 1328832000, Z, A, A, A, 38, 10, 7, 13\n",
      "3 1401321600, 1389657600, 1375488000, 1342569600, 1331251200, 1318550400, A, A, A, A, A, A, 10, 10, 8, 10, 13, 9\n",
      "4                   1405641600, 1375142400, 1360713600, 1345075200, 1313539200, A, A, A, A, A, 12, 12, 11, 2, 11\n",
      "5                                        1405296000, 1373414400, 1341964800, 1329955200, A, A, A, A, 12, 8, 5, 8\n",
      "                         name restaurant_id\n",
      "1               Kosher Island      40356442\n",
      "2     Brunos On The Boulevard      40356151\n",
      "3          Wilken'S Fine Food      40356483\n",
      "4             Regina Caterers      40356649\n",
      "5 Taste The Tropics Ice Cream      40356731\n"
     ]
    }
   ],
   "source": [
    "df <- it$page(5)\n",
    "print(df)"
   ]
  },
  {
   "cell_type": "markdown",
   "id": "b428b634",
   "metadata": {},
   "source": [
    "### Méthode distinct\n",
    "Tout comme le *.distinct()* en MongoDB ([plus de précisions ici](https://rtavenar.github.io/mongo_book/content/01_find.html)), la méthode *distinct()* nous renvoie les valeurs distinctes d'un champ.  \n",
    "\n",
    "**Exemple :**   \n",
    "\n",
    "Affichez la liste des notes existant dans la base :"
   ]
  },
  {
   "cell_type": "code",
   "execution_count": 8,
   "id": "3973e582",
   "metadata": {},
   "outputs": [
    {
     "data": {
      "text/html": [
       "<style>\n",
       ".list-inline {list-style: none; margin:0; padding: 0}\n",
       ".list-inline>li {display: inline-block}\n",
       ".list-inline>li:not(:last-child)::after {content: \"\\00b7\"; padding: 0 .5ex}\n",
       "</style>\n",
       "<ol class=list-inline><li>'A'</li><li>'B'</li><li>'C'</li><li>'Not Yet Graded'</li><li>'P'</li><li>'Z'</li></ol>\n"
      ],
      "text/latex": [
       "\\begin{enumerate*}\n",
       "\\item 'A'\n",
       "\\item 'B'\n",
       "\\item 'C'\n",
       "\\item 'Not Yet Graded'\n",
       "\\item 'P'\n",
       "\\item 'Z'\n",
       "\\end{enumerate*}\n"
      ],
      "text/markdown": [
       "1. 'A'\n",
       "2. 'B'\n",
       "3. 'C'\n",
       "4. 'Not Yet Graded'\n",
       "5. 'P'\n",
       "6. 'Z'\n",
       "\n",
       "\n"
      ],
      "text/plain": [
       "[1] \"A\"              \"B\"              \"C\"              \"Not Yet Graded\"\n",
       "[5] \"P\"              \"Z\"             "
      ]
     },
     "metadata": {},
     "output_type": "display_data"
    }
   ],
   "source": [
    "coll$distinct(key = \"grades.grade\")"
   ]
  },
  {
   "cell_type": "markdown",
   "id": "ce0455d7",
   "metadata": {},
   "source": [
    "Nous pouvons également noter l'équivalent en MongoDB :\n",
    "\n",
    "````{tabbed} Mongolite\n",
    "\n",
    "```r\n",
    "coll$distinct(key = \"grades.grade\")\n",
    "```\n",
    "\n",
    "````\n",
    "\n",
    "````{tabbed} Équivalent MongoDB\n",
    "\n",
    "```javascript\n",
    "db.NYfood.distinct(\"grades.grade\")\n",
    "```\n",
    "\n",
    "````\n",
    "\n",
    "### Sélectionner par date\n",
    "\n",
    "Le traitement des dates avec *mongolite* mérite une attention particulière. En effet, lorsque l'on souhaite intéragir avec une collection sur un champ de type *date*, la syntaxe sera relativement différente de celle que l'on peut utiliser en *MongoDB* ([plus de précisions ici](https://rtavenar.github.io/mongo_book/content/03_dates.html)) ou avec *pymongo*. En raison de la classe d'une requête en mongolite (chaîne de caractère), on ne pourra pas utiliser d'objet R spécifique aux dates (comme les datetimes en python par exemple). Ainsi, toutes les dates définies dans une requête en mongolite devront être spécifiées dans un format purement JSON intégrant un opérateur *$date* et une syntaxe UTC. Concrètement, ce format sera du type : \n",
    "\n",
    "```javascript\n",
    "{ \"$date\" : \"AAAA-MM-JJThh:mm:ssZ\" }\n",
    "```\n",
    "\n",
    "**Exemple :**\n",
    "\n",
    "Prenons un exemple en affichant la liste des 10 premiers restaurants ayant eu au moins une note postérieure au 20 janvier 2015 :"
   ]
  },
  {
   "cell_type": "code",
   "execution_count": 9,
   "id": "6652e7d6",
   "metadata": {
    "tags": [
     "output_scroll"
    ]
   },
   "outputs": [
    {
     "name": "stdout",
     "output_type": "stream",
     "text": [
      "\r",
      " Found 10 records...\r",
      " Imported 10 records. Simplifying into dataframe...\n"
     ]
    },
    {
     "name": "stdout",
     "output_type": "stream",
     "text": [
      "   address.building address.loc.type address.loc.coordinates   address.street\n",
      "1               730            Point     -73.89955, 40.81644     Kelly Street\n",
      "2               968            Point     -92.72302, 41.74614         6 Avenue\n",
      "3              1285            Point     -73.92275, 40.83945  Shakespeare Ave\n",
      "4               416            Point     -73.95136, 40.77249 East   80 Street\n",
      "5               725            Point     -74.01381, 40.63368        65 Street\n",
      "6           229-231            Point     -74.00155, 40.70780     Front Street\n",
      "7            263-15            Point     -73.70923, 40.74883   Union Turnpike\n",
      "8               353            Point     -73.98533, 40.76794 West   57 Street\n",
      "9               413            Point     -73.86476, 40.90232 East  241 Street\n",
      "10              590            Point     -73.92636, 40.81950  Grand Concourse\n",
      "   address.zipcode   borough   cuisine\n",
      "1            10455     Bronx American \n",
      "2            10018 Manhattan American \n",
      "3            10452     Bronx   Spanish\n",
      "4            10075 Manhattan American \n",
      "5            11220  Brooklyn     Other\n",
      "6            10038 Manhattan American \n",
      "7            11004    Queens American \n",
      "8            10019 Manhattan American \n",
      "9            10470     Bronx American \n",
      "10           10451     Bronx   African\n",
      "                                                                                                                        grades\n",
      "1                                                                                                1421712000, Not Yet Graded, 4\n",
      "2  1421712000, 1396915200, 1380585600, 1360713600, 1345075200, 1330041600, Not Yet Graded, A, A, B, A, A, 17, 9, 13, 27, 9, 11\n",
      "3                                                                                               1421712000, Not Yet Graded, 12\n",
      "4                                                                                                1421712000, Not Yet Graded, 9\n",
      "5                                                                                               1421712000, Not Yet Graded, NA\n",
      "6                                                                                                1421712000, Not Yet Graded, 2\n",
      "7                                                                                                1421712000, Not Yet Graded, 7\n",
      "8                                                                                               1421712000, Not Yet Graded, 24\n",
      "9                                          1421712000, 1383523200, 1367280000, 1318982400, Not Yet Graded, A, A, A, 4, 2, 9, 9\n",
      "10                                                                                              1421712000, Not Yet Graded, 21\n",
      "                                                 name restaurant_id\n",
      "1                                    Ambassador Diner      40403946\n",
      "2                                Herald Square Market      40984099\n",
      "3                         El Nuevo Encuentro Bar Corp      41185949\n",
      "4                    Caedmon School Winstead Caterers      41243754\n",
      "5                               Swedish Football Club      41278206\n",
      "6                                                Onda      41338998\n",
      "7                                          Saint Anns      41433190\n",
      "8                                          Good Units      41514954\n",
      "9  Homestyle Food Services (St. Barnabas High School)      41519329\n",
      "10                              Capitol International      41650465\n"
     ]
    }
   ],
   "source": [
    "q <- '{\"grades.date\": {\"$gte\": {\"$date\": \"2015-01-20T00:00:00Z\"}}}'\n",
    "data <- coll$find(q, limit=10)\n",
    "print(data)"
   ]
  },
  {
   "cell_type": "markdown",
   "id": "f41145d6",
   "metadata": {},
   "source": [
    "Nous pouvons noter l'équivalent en MongoDB :\n",
    "\n",
    "````{tabbed} Mongolite\n",
    "\n",
    "```r\n",
    "q <- '{\"grades.date\": {\"$gte\": {\"$date\": \"2015-01-20T00:00:00Z\"}}}'\n",
    "data <- coll$find(q, limit=10)\n",
    "data\n",
    "```\n",
    "\n",
    "````\n",
    "\n",
    "````{tabbed} Équivalent MongoDB\n",
    "\n",
    "```javascript\n",
    "date = new Date(\"2015-01-20\")\n",
    "db.NYfood.find({\"grades.date\":{$gte: date}}).limit(10)\n",
    "```\n",
    "\n",
    "````\n",
    "\n",
    "## Aggrégations\n",
    "\n",
    "Nous nous proposons dans ce paragraphe de traiter de la méthode *aggregate()* de mongolite qui permet d'éxécuter, à l'instar de d'un *.aggregate* en MongoDB, une pipeline d'aggrégation qui n'est rien d'autre qu'une succession de plusieurs étapes d'aggrégation. La méthode *aggregate()* prend comme argument une liste de dictionnaires que l'on met entre simples *quotes*. La syntaxe a utiliser pour cette liste de dictionnaires est la même que pour le *.aggregate* de MongoDB (nous vous renvoyons au chapitre sur [les requêtes d'aggrégations](https://rtavenar.github.io/mongo_book/content/05_agreg.html) pour plus de précisions). Tout comme la méthode *find()*, la méthode aggregate renvoie un *dataframe*.\n",
    "\n",
    "**Exemple :**\n",
    "\n",
    "Prenons un exemple : dans la collection NYfood, le pipeline ci-dessous retourne le nombre de restaurants par arrondissement (borough)."
   ]
  },
  {
   "cell_type": "code",
   "execution_count": 10,
   "id": "0eb76ae9",
   "metadata": {},
   "outputs": [
    {
     "name": "stdout",
     "output_type": "stream",
     "text": [
      "\r",
      " Found 6 records...\r",
      " Imported 6 records. Simplifying into dataframe...\n"
     ]
    },
    {
     "data": {
      "text/html": [
       "<table class=\"dataframe\">\n",
       "<caption>A data.frame: 6 × 2</caption>\n",
       "<thead>\n",
       "\t<tr><th></th><th scope=col>_id</th><th scope=col>nb_restos</th></tr>\n",
       "\t<tr><th></th><th scope=col>&lt;chr&gt;</th><th scope=col>&lt;int&gt;</th></tr>\n",
       "</thead>\n",
       "<tbody>\n",
       "\t<tr><th scope=row>1</th><td>Manhattan    </td><td>10258</td></tr>\n",
       "\t<tr><th scope=row>2</th><td>Staten Island</td><td>  969</td></tr>\n",
       "\t<tr><th scope=row>3</th><td>Missing      </td><td>   51</td></tr>\n",
       "\t<tr><th scope=row>4</th><td>Queens       </td><td> 5656</td></tr>\n",
       "\t<tr><th scope=row>5</th><td>Bronx        </td><td> 2338</td></tr>\n",
       "\t<tr><th scope=row>6</th><td>Brooklyn     </td><td> 6085</td></tr>\n",
       "</tbody>\n",
       "</table>\n"
      ],
      "text/latex": [
       "A data.frame: 6 × 2\n",
       "\\begin{tabular}{r|ll}\n",
       "  & \\_id & nb\\_restos\\\\\n",
       "  & <chr> & <int>\\\\\n",
       "\\hline\n",
       "\t1 & Manhattan     & 10258\\\\\n",
       "\t2 & Staten Island &   969\\\\\n",
       "\t3 & Missing       &    51\\\\\n",
       "\t4 & Queens        &  5656\\\\\n",
       "\t5 & Bronx         &  2338\\\\\n",
       "\t6 & Brooklyn      &  6085\\\\\n",
       "\\end{tabular}\n"
      ],
      "text/markdown": [
       "\n",
       "A data.frame: 6 × 2\n",
       "\n",
       "| <!--/--> | _id &lt;chr&gt; | nb_restos &lt;int&gt; |\n",
       "|---|---|---|\n",
       "| 1 | Manhattan     | 10258 |\n",
       "| 2 | Staten Island |   969 |\n",
       "| 3 | Missing       |    51 |\n",
       "| 4 | Queens        |  5656 |\n",
       "| 5 | Bronx         |  2338 |\n",
       "| 6 | Brooklyn      |  6085 |\n",
       "\n"
      ],
      "text/plain": [
       "  _id           nb_restos\n",
       "1 Manhattan     10258    \n",
       "2 Staten Island   969    \n",
       "3 Missing          51    \n",
       "4 Queens         5656    \n",
       "5 Bronx          2338    \n",
       "6 Brooklyn       6085    "
      ]
     },
     "metadata": {},
     "output_type": "display_data"
    }
   ],
   "source": [
    "req = '[{\"$group\":{\"_id\":\"$borough\",\"nb_restos\":{\"$sum\":1}}}]' \n",
    "df <- coll$aggregate(pipeline=req) \n",
    "df "
   ]
  },
  {
   "cell_type": "markdown",
   "id": "76f9c657",
   "metadata": {},
   "source": [
    "Nous pouvons noter l'équivalent en MongoDB :\n",
    "\n",
    "````{tabbed} Mongolite\n",
    "\n",
    "```r\n",
    "req = '[{\"$group\":{\"_id\":\"$borough\",\"nb_restos\":{\"$sum\":1}}}]' \n",
    "df <- coll$aggregate(pipeline=req) \n",
    "df \n",
    "```\n",
    "\n",
    "````\n",
    "\n",
    "````{tabbed} Équivalent MongoDB\n",
    "\n",
    "```javascript\n",
    "db.NYfood.aggregate([{$group:{\"_id\":\"$borough\", \"nb_restos\":{\"$sum\":1}}}])\n",
    "```\n",
    "\n",
    "````\n",
    "\n",
    "Il se peut que le dataframe à retourner soit de taille importante (ce n'est pas le cas ici). Pour éviter tout problème de saturation de mémoire, il est préférable d'effectuer l'aggrégation avec l'option iterate=TRUE. Ainsi, la méthode *aggregate()* renvoie comme pour la méthode *iterate()* un *Mongo iterator*. Toutes les méthodes applicables à un *Mongo iterator* présentées précédemment s'appliqueront alors à l'objet renvoyé par la méthode *aggregate()*. Pour reprendre l'exemple ci-dessus :"
   ]
  },
  {
   "cell_type": "code",
   "execution_count": 11,
   "id": "4d9489c1",
   "metadata": {},
   "outputs": [
    {
     "data": {
      "text/html": [
       "<table class=\"dataframe\">\n",
       "<caption>A data.frame: 2 × 2</caption>\n",
       "<thead>\n",
       "\t<tr><th></th><th scope=col>_id</th><th scope=col>nb_restos</th></tr>\n",
       "\t<tr><th></th><th scope=col>&lt;chr&gt;</th><th scope=col>&lt;int&gt;</th></tr>\n",
       "</thead>\n",
       "<tbody>\n",
       "\t<tr><th scope=row>1</th><td>Manhattan    </td><td>10258</td></tr>\n",
       "\t<tr><th scope=row>2</th><td>Staten Island</td><td>  969</td></tr>\n",
       "</tbody>\n",
       "</table>\n"
      ],
      "text/latex": [
       "A data.frame: 2 × 2\n",
       "\\begin{tabular}{r|ll}\n",
       "  & \\_id & nb\\_restos\\\\\n",
       "  & <chr> & <int>\\\\\n",
       "\\hline\n",
       "\t1 & Manhattan     & 10258\\\\\n",
       "\t2 & Staten Island &   969\\\\\n",
       "\\end{tabular}\n"
      ],
      "text/markdown": [
       "\n",
       "A data.frame: 2 × 2\n",
       "\n",
       "| <!--/--> | _id &lt;chr&gt; | nb_restos &lt;int&gt; |\n",
       "|---|---|---|\n",
       "| 1 | Manhattan     | 10258 |\n",
       "| 2 | Staten Island |   969 |\n",
       "\n"
      ],
      "text/plain": [
       "  _id           nb_restos\n",
       "1 Manhattan     10258    \n",
       "2 Staten Island   969    "
      ]
     },
     "metadata": {},
     "output_type": "display_data"
    }
   ],
   "source": [
    "req = '[{\"$group\":{\"_id\":\"$borough\",\"nb_restos\":{\"$sum\":1}}}]' \n",
    "it <- coll$aggregate(pipeline=req, iterate=TRUE) \n",
    "it$page(2) "
   ]
  },
  {
   "cell_type": "markdown",
   "id": "48ba009d",
   "metadata": {},
   "source": [
    "## Manipulation de données\n",
    "\n",
    "### Méthode insert\n",
    "La méthode *insert()* permet, à l'instar du *.insert* en MongoDB ([plus de précisions ici](https://rtavenar.github.io/mongo_book/content/06_modif.html)), d'ajouter des données à une collection. \n",
    "La méthode la plus simple, est d'insérer des données à partir d'un data frame R. Les colonnes du data frame seront automatiquement transformées en clées d'enregistrement JSON."
   ]
  },
  {
   "cell_type": "code",
   "execution_count": 12,
   "id": "3bfe8ce7",
   "metadata": {},
   "outputs": [
    {
     "data": {
      "text/plain": [
       "List of 5\n",
       " $ nInserted  : num 150\n",
       " $ nMatched   : num 0\n",
       " $ nRemoved   : num 0\n",
       " $ nUpserted  : num 0\n",
       " $ writeErrors: list()"
      ]
     },
     "metadata": {},
     "output_type": "display_data"
    }
   ],
   "source": [
    "test <- mongo()\n",
    "test$drop()\n",
    "test$insert(iris)"
   ]
  },
  {
   "cell_type": "markdown",
   "id": "a6b50b1b",
   "metadata": {},
   "source": [
    "```{admonition} Remarque\n",
    "En pratique, c'est l'inverse de *mongo$find()* qui converti la collection en Data Frame.  \n",
    "```"
   ]
  },
  {
   "cell_type": "code",
   "execution_count": 13,
   "id": "f33c5373",
   "metadata": {},
   "outputs": [
    {
     "data": {
      "text/html": [
       "<table class=\"dataframe\">\n",
       "<caption>A data.frame: 3 × 5</caption>\n",
       "<thead>\n",
       "\t<tr><th></th><th scope=col>Sepal_Length</th><th scope=col>Sepal_Width</th><th scope=col>Petal_Length</th><th scope=col>Petal_Width</th><th scope=col>Species</th></tr>\n",
       "\t<tr><th></th><th scope=col>&lt;dbl&gt;</th><th scope=col>&lt;dbl&gt;</th><th scope=col>&lt;dbl&gt;</th><th scope=col>&lt;dbl&gt;</th><th scope=col>&lt;chr&gt;</th></tr>\n",
       "</thead>\n",
       "<tbody>\n",
       "\t<tr><th scope=row>1</th><td>5.1</td><td>3.5</td><td>1.4</td><td>0.2</td><td>setosa</td></tr>\n",
       "\t<tr><th scope=row>2</th><td>4.9</td><td>3.0</td><td>1.4</td><td>0.2</td><td>setosa</td></tr>\n",
       "\t<tr><th scope=row>3</th><td>4.7</td><td>3.2</td><td>1.3</td><td>0.2</td><td>setosa</td></tr>\n",
       "</tbody>\n",
       "</table>\n"
      ],
      "text/latex": [
       "A data.frame: 3 × 5\n",
       "\\begin{tabular}{r|lllll}\n",
       "  & Sepal\\_Length & Sepal\\_Width & Petal\\_Length & Petal\\_Width & Species\\\\\n",
       "  & <dbl> & <dbl> & <dbl> & <dbl> & <chr>\\\\\n",
       "\\hline\n",
       "\t1 & 5.1 & 3.5 & 1.4 & 0.2 & setosa\\\\\n",
       "\t2 & 4.9 & 3.0 & 1.4 & 0.2 & setosa\\\\\n",
       "\t3 & 4.7 & 3.2 & 1.3 & 0.2 & setosa\\\\\n",
       "\\end{tabular}\n"
      ],
      "text/markdown": [
       "\n",
       "A data.frame: 3 × 5\n",
       "\n",
       "| <!--/--> | Sepal_Length &lt;dbl&gt; | Sepal_Width &lt;dbl&gt; | Petal_Length &lt;dbl&gt; | Petal_Width &lt;dbl&gt; | Species &lt;chr&gt; |\n",
       "|---|---|---|---|---|---|\n",
       "| 1 | 5.1 | 3.5 | 1.4 | 0.2 | setosa |\n",
       "| 2 | 4.9 | 3.0 | 1.4 | 0.2 | setosa |\n",
       "| 3 | 4.7 | 3.2 | 1.3 | 0.2 | setosa |\n",
       "\n"
      ],
      "text/plain": [
       "  Sepal_Length Sepal_Width Petal_Length Petal_Width Species\n",
       "1 5.1          3.5         1.4          0.2         setosa \n",
       "2 4.9          3.0         1.4          0.2         setosa \n",
       "3 4.7          3.2         1.3          0.2         setosa "
      ]
     },
     "metadata": {},
     "output_type": "display_data"
    }
   ],
   "source": [
    "test$find(limit = 3)"
   ]
  },
  {
   "cell_type": "markdown",
   "id": "e6a71036",
   "metadata": {},
   "source": [
    "Il est également possible d'insérer directement des données à partir d'une chaîne de caractère JSON. Cette méthode nécessite un vecteur de caractères où chaque élément est une chaîne JSON valide.  \n",
    "A noter qu'ici la méthode *insert()* crée la collection \"individus\" car cette dernière n'existe pas."
   ]
  },
  {
   "cell_type": "code",
   "execution_count": 14,
   "id": "ecf35068",
   "metadata": {},
   "outputs": [
    {
     "data": {
      "text/plain": [
       "List of 6\n",
       " $ nInserted  : int 3\n",
       " $ nMatched   : int 0\n",
       " $ nModified  : int 0\n",
       " $ nRemoved   : int 0\n",
       " $ nUpserted  : int 0\n",
       " $ writeErrors: list()"
      ]
     },
     "metadata": {},
     "output_type": "display_data"
    }
   ],
   "source": [
    "individus <- mongo(\"individus\")\n",
    "str <- c('{\"prenom\" : \"yolan\"}' , '{\"prenom\": \"paul\", \"age\" : 22}', '{\"prenom\": \"faisal\"}')\n",
    "individus$insert(str)"
   ]
  },
  {
   "cell_type": "code",
   "execution_count": 15,
   "id": "500b31aa",
   "metadata": {},
   "outputs": [
    {
     "data": {
      "text/html": [
       "<table class=\"dataframe\">\n",
       "<caption>A data.frame: 3 × 3</caption>\n",
       "<thead>\n",
       "\t<tr><th></th><th scope=col>_id</th><th scope=col>prenom</th><th scope=col>age</th></tr>\n",
       "\t<tr><th></th><th scope=col>&lt;chr&gt;</th><th scope=col>&lt;chr&gt;</th><th scope=col>&lt;int&gt;</th></tr>\n",
       "</thead>\n",
       "<tbody>\n",
       "\t<tr><th scope=row>1</th><td>6083b56f7d9b3959403aaa69</td><td>yolan </td><td>NA</td></tr>\n",
       "\t<tr><th scope=row>2</th><td>6083b56f7d9b3959403aaa6a</td><td>paul  </td><td>22</td></tr>\n",
       "\t<tr><th scope=row>3</th><td>6083b56f7d9b3959403aaa6b</td><td>faisal</td><td>NA</td></tr>\n",
       "</tbody>\n",
       "</table>\n"
      ],
      "text/latex": [
       "A data.frame: 3 × 3\n",
       "\\begin{tabular}{r|lll}\n",
       "  & \\_id & prenom & age\\\\\n",
       "  & <chr> & <chr> & <int>\\\\\n",
       "\\hline\n",
       "\t1 & 6083b56f7d9b3959403aaa69 & yolan  & NA\\\\\n",
       "\t2 & 6083b56f7d9b3959403aaa6a & paul   & 22\\\\\n",
       "\t3 & 6083b56f7d9b3959403aaa6b & faisal & NA\\\\\n",
       "\\end{tabular}\n"
      ],
      "text/markdown": [
       "\n",
       "A data.frame: 3 × 3\n",
       "\n",
       "| <!--/--> | _id &lt;chr&gt; | prenom &lt;chr&gt; | age &lt;int&gt; |\n",
       "|---|---|---|---|\n",
       "| 1 | 6083b56f7d9b3959403aaa69 | yolan  | NA |\n",
       "| 2 | 6083b56f7d9b3959403aaa6a | paul   | 22 |\n",
       "| 3 | 6083b56f7d9b3959403aaa6b | faisal | NA |\n",
       "\n"
      ],
      "text/plain": [
       "  _id                      prenom age\n",
       "1 6083b56f7d9b3959403aaa69 yolan  NA \n",
       "2 6083b56f7d9b3959403aaa6a paul   22 \n",
       "3 6083b56f7d9b3959403aaa6b faisal NA "
      ]
     },
     "metadata": {},
     "output_type": "display_data"
    }
   ],
   "source": [
    "individus$find(query = '{}', fields = '{}')"
   ]
  },
  {
   "cell_type": "markdown",
   "id": "8ae87130",
   "metadata": {},
   "source": [
    "Nous pouvons également noter l'équivalent en MongoDB :\n",
    "\n",
    "````{tabbed} Mongolite\n",
    "\n",
    "```r\n",
    "individus <- mongo(\"individus\")\n",
    "individus$insert(c('{\"prenom\" : \"yolan\"}' , '{\"prenom\": \"paul\", \"age\" : 22}', '{\"prenom\": \"faisal\"}'))\n",
    "```\n",
    "\n",
    "````\n",
    "\n",
    "````{tabbed} Équivalent MongoDB\n",
    "\n",
    "```javascript\n",
    "db.createCollection(\"individus\")\n",
    "db.individus.insert([\n",
    "{\"prenom\" : \"yolan\"}',\n",
    "{\"prenom\": \"paul\", \"age\" : 22},\n",
    "{\"prenom\": \"faisal\"}\n",
    "])\n",
    "```\n",
    "\n",
    "````\n",
    "\n",
    "### Méthode remove\n",
    "\n",
    "La même syntaxe que nous utilisons dans *find()* pour sélectionner les enregistrements à lire, peut également être utilisée pour sélectionner les enregistrements à supprimer :"
   ]
  },
  {
   "cell_type": "code",
   "execution_count": 16,
   "id": "0074ee18",
   "metadata": {},
   "outputs": [
    {
     "data": {
      "text/html": [
       "150"
      ],
      "text/latex": [
       "150"
      ],
      "text/markdown": [
       "150"
      ],
      "text/plain": [
       "[1] 150"
      ]
     },
     "metadata": {},
     "output_type": "display_data"
    }
   ],
   "source": [
    "test$count()"
   ]
  },
  {
   "cell_type": "code",
   "execution_count": 17,
   "id": "9692c641",
   "metadata": {},
   "outputs": [
    {
     "data": {
      "text/html": [
       "100"
      ],
      "text/latex": [
       "100"
      ],
      "text/markdown": [
       "100"
      ],
      "text/plain": [
       "[1] 100"
      ]
     },
     "metadata": {},
     "output_type": "display_data"
    }
   ],
   "source": [
    "test$remove('{\"Species\" : \"setosa\"}')\n",
    "test$count()"
   ]
  },
  {
   "cell_type": "markdown",
   "id": "498108d8",
   "metadata": {},
   "source": [
    "Nous pouvons noter l'équivalent en MongoDB :\n",
    "\n",
    "````{tabbed} Mongolite\n",
    "```r\n",
    "test$remove('{\"Species\" : \"setosa\"}')\n",
    "```\n",
    "````\n",
    "````{tabbed} Équivalent MongoDB\n",
    "\n",
    "```javascript\n",
    "db.test.remove(\n",
    "{\"Species\" : \"setosa\"}\n",
    ")\n",
    "```\n",
    "````\n",
    "\n",
    "Utilisez l'option just_one pour supprimer un seul enregistrement :"
   ]
  },
  {
   "cell_type": "code",
   "execution_count": 18,
   "id": "cb7558da",
   "metadata": {},
   "outputs": [
    {
     "data": {
      "text/html": [
       "99"
      ],
      "text/latex": [
       "99"
      ],
      "text/markdown": [
       "99"
      ],
      "text/plain": [
       "[1] 99"
      ]
     },
     "metadata": {},
     "output_type": "display_data"
    }
   ],
   "source": [
    "test$remove('{\"Sepal_Length\" : {\"$lte\" : 5}}', just_one = TRUE)\n",
    "test$count()"
   ]
  },
  {
   "cell_type": "markdown",
   "id": "81c05ddf",
   "metadata": {},
   "source": [
    "Pour supprimer tous les documents de la collection (mais pas la collection elle-même) :"
   ]
  },
  {
   "cell_type": "code",
   "execution_count": 19,
   "id": "84782eb5",
   "metadata": {},
   "outputs": [
    {
     "data": {
      "text/html": [
       "0"
      ],
      "text/latex": [
       "0"
      ],
      "text/markdown": [
       "0"
      ],
      "text/plain": [
       "[1] 0"
      ]
     },
     "metadata": {},
     "output_type": "display_data"
    }
   ],
   "source": [
    "test$remove('{}')\n",
    "test$count()"
   ]
  },
  {
   "cell_type": "markdown",
   "id": "98c600da",
   "metadata": {},
   "source": [
    "Nous pouvons noter l'équivalent en MongoDB :\n",
    "\n",
    "````{tabbed} Mongolite\n",
    "```r\n",
    "test$remove('{}')\n",
    "```\n",
    "````\n",
    "````{tabbed} Équivalent MongoDB\n",
    "\n",
    "```javascript\n",
    "db.test.remove({})\n",
    "```\n",
    "````\n",
    "\n",
    "\n",
    "\n",
    "La méthode *drop()* supprime une collection entière. Cela inclut toutes les documents, ainsi que les métadonnées telles que les index de la collection."
   ]
  },
  {
   "cell_type": "code",
   "execution_count": 20,
   "id": "b31e0ecd",
   "metadata": {},
   "outputs": [],
   "source": [
    "test$drop()"
   ]
  },
  {
   "cell_type": "markdown",
   "id": "4cee35a9",
   "metadata": {},
   "source": [
    "Nous pouvons noter l'équivalent en MongoDB :\n",
    "\n",
    "````{tabbed} Mongolite\n",
    "```r\n",
    "test$drop()\n",
    "```\n",
    "````\n",
    "````{tabbed} Équivalent MongoDB\n",
    "\n",
    "```javascript\n",
    "db.test.drop()\n",
    "```\n",
    "````\n",
    "\n",
    "\n",
    "### Méthodes update/upsert\n",
    "\n",
    "Pour modifier des enregistrements existants, utilisez l'opérateur *update()* :  \n",
    "\n",
    "**Modification d'un document :**"
   ]
  },
  {
   "cell_type": "code",
   "execution_count": 21,
   "id": "5005a8df",
   "metadata": {},
   "outputs": [
    {
     "data": {
      "text/html": [
       "<table class=\"dataframe\">\n",
       "<caption>A data.frame: 3 × 2</caption>\n",
       "<thead>\n",
       "\t<tr><th></th><th scope=col>prenom</th><th scope=col>age</th></tr>\n",
       "\t<tr><th></th><th scope=col>&lt;chr&gt;</th><th scope=col>&lt;int&gt;</th></tr>\n",
       "</thead>\n",
       "<tbody>\n",
       "\t<tr><th scope=row>1</th><td>yolan </td><td>NA</td></tr>\n",
       "\t<tr><th scope=row>2</th><td>paul  </td><td>22</td></tr>\n",
       "\t<tr><th scope=row>3</th><td>faisal</td><td>NA</td></tr>\n",
       "</tbody>\n",
       "</table>\n"
      ],
      "text/latex": [
       "A data.frame: 3 × 2\n",
       "\\begin{tabular}{r|ll}\n",
       "  & prenom & age\\\\\n",
       "  & <chr> & <int>\\\\\n",
       "\\hline\n",
       "\t1 & yolan  & NA\\\\\n",
       "\t2 & paul   & 22\\\\\n",
       "\t3 & faisal & NA\\\\\n",
       "\\end{tabular}\n"
      ],
      "text/markdown": [
       "\n",
       "A data.frame: 3 × 2\n",
       "\n",
       "| <!--/--> | prenom &lt;chr&gt; | age &lt;int&gt; |\n",
       "|---|---|---|\n",
       "| 1 | yolan  | NA |\n",
       "| 2 | paul   | 22 |\n",
       "| 3 | faisal | NA |\n",
       "\n"
      ],
      "text/plain": [
       "  prenom age\n",
       "1 yolan  NA \n",
       "2 paul   22 \n",
       "3 faisal NA "
      ]
     },
     "metadata": {},
     "output_type": "display_data"
    }
   ],
   "source": [
    "individus$find()"
   ]
  },
  {
   "cell_type": "code",
   "execution_count": 22,
   "id": "d59777bd",
   "metadata": {},
   "outputs": [
    {
     "data": {
      "text/plain": [
       "List of 3\n",
       " $ modifiedCount: int 1\n",
       " $ matchedCount : int 1\n",
       " $ upsertedCount: int 0"
      ]
     },
     "metadata": {},
     "output_type": "display_data"
    }
   ],
   "source": [
    "individus$update('{\"prenom\":\"yolan\"}', '{\"$set\":{\"age\": 22}}')"
   ]
  },
  {
   "cell_type": "code",
   "execution_count": 23,
   "id": "eea94fbd",
   "metadata": {},
   "outputs": [
    {
     "data": {
      "text/html": [
       "<table class=\"dataframe\">\n",
       "<caption>A data.frame: 3 × 2</caption>\n",
       "<thead>\n",
       "\t<tr><th></th><th scope=col>prenom</th><th scope=col>age</th></tr>\n",
       "\t<tr><th></th><th scope=col>&lt;chr&gt;</th><th scope=col>&lt;int&gt;</th></tr>\n",
       "</thead>\n",
       "<tbody>\n",
       "\t<tr><th scope=row>1</th><td>yolan </td><td>22</td></tr>\n",
       "\t<tr><th scope=row>2</th><td>paul  </td><td>22</td></tr>\n",
       "\t<tr><th scope=row>3</th><td>faisal</td><td>NA</td></tr>\n",
       "</tbody>\n",
       "</table>\n"
      ],
      "text/latex": [
       "A data.frame: 3 × 2\n",
       "\\begin{tabular}{r|ll}\n",
       "  & prenom & age\\\\\n",
       "  & <chr> & <int>\\\\\n",
       "\\hline\n",
       "\t1 & yolan  & 22\\\\\n",
       "\t2 & paul   & 22\\\\\n",
       "\t3 & faisal & NA\\\\\n",
       "\\end{tabular}\n"
      ],
      "text/markdown": [
       "\n",
       "A data.frame: 3 × 2\n",
       "\n",
       "| <!--/--> | prenom &lt;chr&gt; | age &lt;int&gt; |\n",
       "|---|---|---|\n",
       "| 1 | yolan  | 22 |\n",
       "| 2 | paul   | 22 |\n",
       "| 3 | faisal | NA |\n",
       "\n"
      ],
      "text/plain": [
       "  prenom age\n",
       "1 yolan  22 \n",
       "2 paul   22 \n",
       "3 faisal NA "
      ]
     },
     "metadata": {},
     "output_type": "display_data"
    }
   ],
   "source": [
    "individus$find()"
   ]
  },
  {
   "cell_type": "markdown",
   "id": "aba05393",
   "metadata": {},
   "source": [
    "Nous pouvons noter l'équivalent en MongoDB :\n",
    "\n",
    "````{tabbed} Mongolite\n",
    "\n",
    "```r\n",
    "individus$update('{\"prenom\":\"yolan\"}', '{\"$set\":{\"age\": 22}}')\n",
    "```\n",
    "\n",
    "````\n",
    "\n",
    "````{tabbed} Équivalent MongoDB\n",
    "\n",
    "```javascript\n",
    "db.individus.update(\n",
    "{\"prenom\" : \"yolan\"},\n",
    "{$set: {\"age\" : 22}}\n",
    ")\n",
    "```\n",
    "\n",
    "````\n",
    "  \n",
    "**Mise à jour de plusieurs documents :**  \n",
    "  \n",
    "Par défaut, la méthode *update()* met à jour un seul document. Pour mettre à jour plusieurs documents, utilisez l'option *multi* de la méthode *update()*."
   ]
  },
  {
   "cell_type": "code",
   "execution_count": 24,
   "id": "800eee99",
   "metadata": {},
   "outputs": [
    {
     "data": {
      "text/plain": [
       "List of 3\n",
       " $ modifiedCount: int 3\n",
       " $ matchedCount : int 3\n",
       " $ upsertedCount: int 0"
      ]
     },
     "metadata": {},
     "output_type": "display_data"
    }
   ],
   "source": [
    "individus$update('{}', '{\"$set\":{\"booleen_age\": false}}', multiple = TRUE)"
   ]
  },
  {
   "cell_type": "code",
   "execution_count": 25,
   "id": "0be81baf",
   "metadata": {},
   "outputs": [
    {
     "data": {
      "text/plain": [
       "List of 3\n",
       " $ modifiedCount: int 2\n",
       " $ matchedCount : int 2\n",
       " $ upsertedCount: int 0"
      ]
     },
     "metadata": {},
     "output_type": "display_data"
    }
   ],
   "source": [
    "individus$update('{\"age\" : {\"$gte\" : 0}}', '{\"$set\":{\"booleen_age\": true}}', multiple = TRUE)"
   ]
  },
  {
   "cell_type": "code",
   "execution_count": 26,
   "id": "c01c43f8",
   "metadata": {},
   "outputs": [
    {
     "data": {
      "text/html": [
       "<table class=\"dataframe\">\n",
       "<caption>A data.frame: 3 × 3</caption>\n",
       "<thead>\n",
       "\t<tr><th></th><th scope=col>prenom</th><th scope=col>age</th><th scope=col>booleen_age</th></tr>\n",
       "\t<tr><th></th><th scope=col>&lt;chr&gt;</th><th scope=col>&lt;int&gt;</th><th scope=col>&lt;lgl&gt;</th></tr>\n",
       "</thead>\n",
       "<tbody>\n",
       "\t<tr><th scope=row>1</th><td>yolan </td><td>22</td><td> TRUE</td></tr>\n",
       "\t<tr><th scope=row>2</th><td>paul  </td><td>22</td><td> TRUE</td></tr>\n",
       "\t<tr><th scope=row>3</th><td>faisal</td><td>NA</td><td>FALSE</td></tr>\n",
       "</tbody>\n",
       "</table>\n"
      ],
      "text/latex": [
       "A data.frame: 3 × 3\n",
       "\\begin{tabular}{r|lll}\n",
       "  & prenom & age & booleen\\_age\\\\\n",
       "  & <chr> & <int> & <lgl>\\\\\n",
       "\\hline\n",
       "\t1 & yolan  & 22 &  TRUE\\\\\n",
       "\t2 & paul   & 22 &  TRUE\\\\\n",
       "\t3 & faisal & NA & FALSE\\\\\n",
       "\\end{tabular}\n"
      ],
      "text/markdown": [
       "\n",
       "A data.frame: 3 × 3\n",
       "\n",
       "| <!--/--> | prenom &lt;chr&gt; | age &lt;int&gt; | booleen_age &lt;lgl&gt; |\n",
       "|---|---|---|---|\n",
       "| 1 | yolan  | 22 |  TRUE |\n",
       "| 2 | paul   | 22 |  TRUE |\n",
       "| 3 | faisal | NA | FALSE |\n",
       "\n"
      ],
      "text/plain": [
       "  prenom age booleen_age\n",
       "1 yolan  22   TRUE      \n",
       "2 paul   22   TRUE      \n",
       "3 faisal NA  FALSE      "
      ]
     },
     "metadata": {},
     "output_type": "display_data"
    }
   ],
   "source": [
    "individus$find()"
   ]
  },
  {
   "cell_type": "markdown",
   "id": "d11824e1",
   "metadata": {},
   "source": [
    "Nous pouvons également noter l'équivalent en MongoDB :\n",
    "\n",
    "````{tabbed} Mongolite\n",
    "\n",
    "```r\n",
    "individus$update('{}', '{\"$set\":{\"booleen_age\": false}}', multiple = TRUE)\n",
    "\n",
    "individus$update('{\"age\" : {\"$gte\" : 0}}', '{\"$set\":{\"booleen_age\": true}}', multiple = TRUE)\n",
    "```\n",
    "\n",
    "````\n",
    "\n",
    "````{tabbed} Équivalent MongoDB\n",
    "\n",
    "```javascript\n",
    "db.individus.update(\n",
    "{},\n",
    "{$set: {\"booleen_age\": false}},\n",
    "{multi: true}\n",
    ")\n",
    "\n",
    "db.individus.update(\n",
    "{\"age\" : {\"$gte\" : 0}},\n",
    "{$set: {\"booleen_age\": true}},\n",
    "{multi: true}\n",
    ")\n",
    "```\n",
    "\n",
    "````\n",
    "  \n",
    "**Modification avec création d'un document si besoin :**   \n",
    "  \n",
    "Si aucun document ne correspond à la condition de mise à jour, le comportement par défaut de la méthode de mise à jour est de ne rien faire. En spécifiant l'option *upsert* à true, l'opération de mise à jour met à jour le ou les documents correspondants ou insère un nouveau document si aucun document correspondant n'existe."
   ]
  },
  {
   "cell_type": "code",
   "execution_count": 27,
   "id": "85720462",
   "metadata": {},
   "outputs": [
    {
     "data": {
      "text/plain": [
       "List of 4\n",
       " $ modifiedCount: int 0\n",
       " $ matchedCount : int 0\n",
       " $ upsertedCount: int 1\n",
       " $ upsertedId   : chr \"6083b56ff21eabde860b669a\""
      ]
     },
     "metadata": {},
     "output_type": "display_data"
    }
   ],
   "source": [
    "individus$update('{\"prenom\":\"malo\"}', '{\"$set\":{\"age\": 22}}', upsert = TRUE)"
   ]
  },
  {
   "cell_type": "code",
   "execution_count": 28,
   "id": "dd0a8735",
   "metadata": {},
   "outputs": [
    {
     "data": {
      "text/html": [
       "<table class=\"dataframe\">\n",
       "<caption>A data.frame: 4 × 3</caption>\n",
       "<thead>\n",
       "\t<tr><th></th><th scope=col>prenom</th><th scope=col>age</th><th scope=col>booleen_age</th></tr>\n",
       "\t<tr><th></th><th scope=col>&lt;chr&gt;</th><th scope=col>&lt;int&gt;</th><th scope=col>&lt;lgl&gt;</th></tr>\n",
       "</thead>\n",
       "<tbody>\n",
       "\t<tr><th scope=row>1</th><td>yolan </td><td>22</td><td> TRUE</td></tr>\n",
       "\t<tr><th scope=row>2</th><td>paul  </td><td>22</td><td> TRUE</td></tr>\n",
       "\t<tr><th scope=row>3</th><td>faisal</td><td>NA</td><td>FALSE</td></tr>\n",
       "\t<tr><th scope=row>4</th><td>malo  </td><td>22</td><td>   NA</td></tr>\n",
       "</tbody>\n",
       "</table>\n"
      ],
      "text/latex": [
       "A data.frame: 4 × 3\n",
       "\\begin{tabular}{r|lll}\n",
       "  & prenom & age & booleen\\_age\\\\\n",
       "  & <chr> & <int> & <lgl>\\\\\n",
       "\\hline\n",
       "\t1 & yolan  & 22 &  TRUE\\\\\n",
       "\t2 & paul   & 22 &  TRUE\\\\\n",
       "\t3 & faisal & NA & FALSE\\\\\n",
       "\t4 & malo   & 22 &    NA\\\\\n",
       "\\end{tabular}\n"
      ],
      "text/markdown": [
       "\n",
       "A data.frame: 4 × 3\n",
       "\n",
       "| <!--/--> | prenom &lt;chr&gt; | age &lt;int&gt; | booleen_age &lt;lgl&gt; |\n",
       "|---|---|---|---|\n",
       "| 1 | yolan  | 22 |  TRUE |\n",
       "| 2 | paul   | 22 |  TRUE |\n",
       "| 3 | faisal | NA | FALSE |\n",
       "| 4 | malo   | 22 |    NA |\n",
       "\n"
      ],
      "text/plain": [
       "  prenom age booleen_age\n",
       "1 yolan  22   TRUE      \n",
       "2 paul   22   TRUE      \n",
       "3 faisal NA  FALSE      \n",
       "4 malo   22     NA      "
      ]
     },
     "metadata": {},
     "output_type": "display_data"
    }
   ],
   "source": [
    "individus$find()"
   ]
  },
  {
   "cell_type": "markdown",
   "id": "7c5faac5",
   "metadata": {},
   "source": [
    "  \n",
    " Nous pouvons également noter l'équivalent en MongoDB :\n",
    "\n",
    "````{tabbed} Mongolite\n",
    "\n",
    "```r\n",
    "individus$update('{\"prenom\":\"malo\"}', '{\"$set\":{\"age\": 22}}', upsert = TRUE)\n",
    "```\n",
    "\n",
    "````\n",
    "\n",
    "````{tabbed} Équivalent MongoDB\n",
    "\n",
    "```javascript\n",
    "db.individus.update(\n",
    "{\"prenom\":\"malo\"},\n",
    "{$set: {\"age\": 22}},\n",
    "{upsert: true}\n",
    ")\n",
    "```\n",
    "\n",
    "````\n",
    "\n",
    "\n",
    "\n",
    "## Import et export de données\n",
    "\n",
    "### La méthode export/import pour JSON\n",
    "\n",
    "Le format par défaut JSON est celui d'une ligne par document."
   ]
  },
  {
   "cell_type": "code",
   "execution_count": 29,
   "id": "762aa423",
   "metadata": {},
   "outputs": [
    {
     "name": "stdout",
     "output_type": "stream",
     "text": [
      "{ \"_id\" : { \"$oid\" : \"6083b56f7d9b3959403aaa69\" }, \"prenom\" : \"yolan\", \"age\" : 22, \"booleen_age\" : true }\n",
      "{ \"_id\" : { \"$oid\" : \"6083b56f7d9b3959403aaa6a\" }, \"prenom\" : \"paul\", \"age\" : 22, \"booleen_age\" : true }\n",
      "{ \"_id\" : { \"$oid\" : \"6083b56f7d9b3959403aaa6b\" }, \"prenom\" : \"faisal\", \"booleen_age\" : false }\n",
      "{ \"_id\" : { \"$oid\" : \"6083b56ff21eabde860b669a\" }, \"prenom\" : \"malo\", \"age\" : 22 }\n"
     ]
    }
   ],
   "source": [
    "individus$export(stdout())"
   ]
  },
  {
   "cell_type": "markdown",
   "id": "722a5d46",
   "metadata": {},
   "source": [
    "En temps normal on exporte vers un fichier que l'on précise avec *file()* :"
   ]
  },
  {
   "cell_type": "code",
   "execution_count": 30,
   "id": "b1f26139",
   "metadata": {},
   "outputs": [],
   "source": [
    "individus$export(file(\"individus.json\"))"
   ]
  },
  {
   "cell_type": "markdown",
   "id": "aab24eed",
   "metadata": {},
   "source": [
    "On peut faire l'essai de supprimer totalement la collection et de l'importer ensuite :"
   ]
  },
  {
   "cell_type": "code",
   "execution_count": 31,
   "id": "6b757c97",
   "metadata": {},
   "outputs": [
    {
     "data": {
      "text/html": [
       "0"
      ],
      "text/latex": [
       "0"
      ],
      "text/markdown": [
       "0"
      ],
      "text/plain": [
       "[1] 0"
      ]
     },
     "metadata": {},
     "output_type": "display_data"
    }
   ],
   "source": [
    "individus$drop()\n",
    "individus$count()"
   ]
  },
  {
   "cell_type": "code",
   "execution_count": 32,
   "id": "f09b74ea",
   "metadata": {},
   "outputs": [
    {
     "data": {
      "text/html": [
       "4"
      ],
      "text/latex": [
       "4"
      ],
      "text/markdown": [
       "4"
      ],
      "text/plain": [
       "[1] 4"
      ]
     },
     "metadata": {},
     "output_type": "display_data"
    }
   ],
   "source": [
    "individus$import(file(\"individus.json\"))\n",
    "individus$count()"
   ]
  },
  {
   "cell_type": "markdown",
   "id": "9b4cdd7e",
   "metadata": {},
   "source": [
    "### Autres formats d'export (jsonlite/bjson/...)\n",
    "Pour ces autres formats ou package concernant les méthodes import()* et *export()*, nous vous renvoyons [à la page de Jeroen Ooms](https://jeroen.github.io/mongolite/import-export.html).  \n",
    "\n",
    "## Exercices \n",
    "   \n",
    "### Consignes\n",
    "\n",
    "**Exercice 1 :**\n",
    "  \n",
    "1. A l'aide d'une requête d'aggrégation, récupérer le nombre de restaurants par quatier dans la collection NYfood.\n",
    "2. Réaliser un barplot pour visualiser le résultat.  \n",
    "  \n",
    "**Exercice 2 :**\n",
    "  \n",
    "Cet exercice reprend l'exemple de carthographie avec leaflet de François-Xavier Jollois, disponible [en cliquant ici.](https://fxjollois.github.io/cours-2017-2018/du-abd-r/connexion-r-mongodb.html#un_peu_de_cartographie_avec_leaflet) \n",
    "  \n",
    "1. A l'aide d'une requête d'aggrégation, récupérer le nom, le quartier, la longitude et la latitude des restaurant new-yorkais de la collection NYfood.\n",
    "2. Afficher les différents restaurants sur la carte du monde. Que constatez vous ?\n",
    "3. Réaliser une carte des restaurants new-yorkais en ajoutant une couleur en fonction du quartier (coordonnées de New-York : long: -73.9, lat  =  40.7).  \n",
    "\n",
    "### Correction\n",
    "\n",
    "  \n",
    "**Exercice 1 :**\n",
    "  \n",
    "**Question 1 :**\n",
    "  \n",
    "\n",
    "```r\n",
    "req = '[{\"$group\":{\"_id\":\"$borough\",\"nb_restos\":{\"$sum\":1}}}]' \n",
    "df <- coll$aggregate(pipeline=req) \n",
    "df\n",
    "```\n",
    "\n",
    "\n",
    "\n",
    "**Question 2 :**\n",
    "  \n",
    "```r\n",
    "library(tidyverse)\n",
    "\n",
    "df %>%\n",
    "  rename(Borough=`_id`,Nombre=nb_restos) %>%\n",
    "  ggplot(aes(x=Borough, y=Nombre)) +\n",
    "  geom_bar(stat=\"identity\",aes(fill=Borough)) +\n",
    "  geom_text(aes(label=Nombre), vjust=1.6, color=\"black\", size=3.5)\n",
    "```\n",
    "   \n",
    "**Exercice 2 :**\n",
    "  \n",
    "**Question 1 :**\n",
    "  \n",
    "```r\n",
    "restos.coord = coll$aggregate(\n",
    "  '[\n",
    "    { \"$project\": { \n",
    "        \"name\": 1, \n",
    "        \"borough\": 1, \n",
    "        \"lng\": { \"$arrayElemAt\": [\"$address.loc.coordinates\", 0]}, \n",
    "        \"lat\": { \"$arrayElemAt\": [\"$address.loc.coordinates\", 1]} \n",
    "    }}\n",
    "]')\n",
    "\n",
    "head(restos.coord)\n",
    "```\n",
    "  \n",
    "**Question 2 :**\n",
    "\n",
    "```r\n",
    "library(leaflet)\n",
    "\n",
    "leaflet(restos.coord) %>%\n",
    "  addTiles() %>%\n",
    "  addCircles(lng = ~lng, lat = ~lat)\n",
    "```\n",
    "  \n",
    "**Question 3 :**\n",
    "  \n",
    "```r\n",
    "pal = colorFactor(\"Accent\", restos.coord$borough)\n",
    "leaflet(restos.coord) %>%\n",
    "  addProviderTiles(providers$CartoDB.Positron) %>%\n",
    "  setView(lng  = -73.9,\n",
    "          lat  =  40.7,\n",
    "          zoom =  10) %>%\n",
    "  addCircles(lng = ~lng, lat = ~lat, color = ~pal(borough)) %>%\n",
    "  addLegend(pal = pal, values = ~borough, opacity = 1, \n",
    "            title = \"Quartier\")\n",
    "```"
   ]
  }
 ],
 "metadata": {
  "jupytext": {
   "cell_metadata_filter": "-all",
   "formats": "md:myst",
   "text_representation": {
    "extension": ".md",
    "format_name": "myst",
    "format_version": 0.12,
    "jupytext_version": "1.9.1"
   }
  },
  "kernelspec": {
   "display_name": "R",
   "language": "R",
   "name": "ir"
  },
  "language_info": {
   "codemirror_mode": "r",
   "file_extension": ".r",
   "mimetype": "text/x-r-source",
   "name": "R",
   "pygments_lexer": "r",
   "version": "4.0.5"
  },
  "source_map": [
   14,
   87,
   91,
   119,
   122,
   178,
   186,
   237,
   243,
   288,
   291,
   295,
   299,
   303,
   308,
   317,
   319,
   351,
   357,
   388,
   392,
   416,
   420,
   428,
   432,
   438,
   440,
   445,
   451,
   453,
   483,
   486,
   489,
   508,
   511,
   515,
   518,
   538,
   540,
   563,
   567,
   571,
   573,
   600,
   603,
   607,
   609,
   644,
   648,
   650,
   682,
   684,
   688,
   690,
   694,
   699,
   702
  ]
 },
 "nbformat": 4,
 "nbformat_minor": 5
}