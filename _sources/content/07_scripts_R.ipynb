{
 "cells": [
  {
   "cell_type": "markdown",
   "id": "de766871",
   "metadata": {},
   "source": [
    "(sec:mongolite)=\n",
    "# Requêtes depuis R : `mongolite`\n",
    "\n",
    "* Auteurs/trices : **Yolan PERONNET, Faisal JAYOUZI, Paul LANCELIN**\n",
    "\n",
    "Comment faire pour effectuer les requêtes présentes dans les chapitres 1 à 6 avec `mongolite` ?\n",
    "\n",
    "Le fichier que vous devez modifier pour ce chapitre est `mongo_book/content/07_scripts_R.md`."
   ]
  },
  {
   "cell_type": "code",
   "execution_count": 1,
   "id": "cfaa95d3",
   "metadata": {},
   "outputs": [
    {
     "name": "stdout",
     "output_type": "stream",
     "text": [
      "<Mongo collection> 'NYfood' \n",
      " $aggregate(pipeline = \"{}\", options = \"{\\\"allowDiskUse\\\":true}\", handler = NULL, pagesize = 1000, iterate = FALSE) \n",
      " $count(query = \"{}\") \n",
      " $disconnect(gc = TRUE) \n",
      " $distinct(key, query = \"{}\") \n",
      " $drop() \n",
      " $export(con = stdout(), bson = FALSE, query = \"{}\", fields = \"{}\", sort = \"{\\\"_id\\\":1}\") \n",
      " $find(query = \"{}\", fields = \"{\\\"_id\\\":0}\", sort = \"{}\", skip = 0, limit = 0, handler = NULL, pagesize = 1000) \n",
      " $import(con, bson = FALSE) \n",
      " $index(add = NULL, remove = NULL) \n",
      " $info() \n",
      " $insert(data, pagesize = 1000, stop_on_error = TRUE, ...) \n",
      " $iterate(query = \"{}\", fields = \"{\\\"_id\\\":0}\", sort = \"{}\", skip = 0, limit = 0) \n",
      " $mapreduce(map, reduce, query = \"{}\", sort = \"{}\", limit = 0, out = NULL, scope = NULL) \n",
      " $remove(query, just_one = FALSE) \n",
      " $rename(name, db = NULL) \n",
      " $replace(query, update = \"{}\", upsert = FALSE) \n",
      " $run(command = \"{\\\"ping\\\": 1}\", simplify = TRUE) \n",
      " $update(query, update = \"{\\\"$set\\\":{}}\", filters = NULL, upsert = FALSE, multiple = FALSE) \n"
     ]
    }
   ],
   "source": [
    "library(mongolite)\n",
    "coll <- mongo(\"NYfood\", url = \"mongodb://localhost:27017/food\")\n",
    "print(coll)"
   ]
  }
 ],
 "metadata": {
  "jupytext": {
   "cell_metadata_filter": "-all",
   "formats": "md:myst",
   "text_representation": {
    "extension": ".md",
    "format_name": "myst",
    "format_version": 0.12,
    "jupytext_version": "1.9.1"
   }
  },
  "kernelspec": {
   "display_name": "R",
   "language": "R",
   "name": "ir"
  },
  "language_info": {
   "codemirror_mode": "r",
   "file_extension": ".r",
   "mimetype": "text/x-r-source",
   "name": "R",
   "pygments_lexer": "r",
   "version": "4.0.5"
  },
  "source_map": [
   14,
   25
  ]
 },
 "nbformat": 4,
 "nbformat_minor": 5
}