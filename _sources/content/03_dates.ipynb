{
 "cells": [
  {
   "cell_type": "markdown",
   "id": "44310d96",
   "metadata": {},
   "source": [
    "# Attributs de type date\n",
    "\n",
    "* Auteurs/trices : **ABOULKACEM Zakaria, GARY Gaston, HAMELIN Marine, RALIN Kévin**\n",
    "\n",
    "Ce chapitre traite des attributs de type dates (et sous-cas des listes de dates) et des différents types de requêtes que l'on peut vouloir faire sur de tels attributs.\n",
    "\n",
    "\n",
    "## Qu'est-ce qu'une date dans MongoDB ?\n",
    "\n",
    "Les dates sur MongoDB sont définies a la milliseconde près, nous allons nous intéresser aux requêtes utilisant des dates, car les attributs de type date doivent être considérés de façon particulière.\n",
    "Les dates sont renseignées sous la forme ISO date, nous retrouvons la date de la forme suivante : \n",
    "\n",
    "```javascript\n",
    "(\"<YYYY-mm-ddTHH:MM:ssZ>\")\n",
    "```\n",
    "Ce format nous permet de d’avoir une version de référence (UTC) de la date spécifiée.\n",
    "Lorsque l'on utilise le shell MongoDB, on va créer des dates en Javascript et les utiliser pour nos requêtes.\n",
    "Dans ce cadre, nous pouvons mettre uniquement l’année ou l’année et le mois sans devoir spécifier tout le langage s’occupe de remplir les autres arguments pour retrouver la forme indiquée plus haut.\n",
    "\n",
    "Exemple :\n",
    "\n",
    "```javascript\n",
    "ma_date = new Date ('2021')\n",
    "```\n",
    "nous donne un objet de type date de la forme suivante :\n",
    "```javascript\n",
    "ISODate(\"2021-01-01T00 :00:00Z\")\n",
    "```\n",
    "\n",
    "Nous \tavons aussi d’autre formats de dates qui donne la date suivant \n",
    "fuseau horaire locale de l’utilisateur.\n",
    "```javascript\n",
    "(\"<YYYY-mm-ddTHH:MM:ss>\")\n",
    "```\n",
    "\n",
    "Ainsi, il faut toujours utiliser une comparaison sous forme d’intervalle pour ces attributs.\n",
    "Lorsque l’on souhaite effectuer un test sur une date, on utilisera des opérateurs de comparaison.\n",
    "\n",
    "Ainsi, si nous souhaitions effectuer un regroupement par date, il faudrait préciser à quel degré de précision sur la date l’agrégation doit se faire.\n",
    "\n",
    "\n",
    "\n",
    "## Manipulations standard\n",
    "\n",
    "### Utilisation d'un objet date au format Date.\n",
    "\n",
    "Exemple d'une requête simple dans la db `food`. On veut récupérer la liste des restaurants dont la date de la note est supérieure à une date créée."
   ]
  },
  {
   "cell_type": "code",
   "execution_count": 1,
   "id": "313200f0",
   "metadata": {},
   "outputs": [
    {
     "data": {
      "text/plain": [
       "switched to db food"
      ]
     },
     "execution_count": 1,
     "metadata": {},
     "output_type": "execute_result"
    }
   ],
   "source": [
    "use food"
   ]
  },
  {
   "cell_type": "code",
   "execution_count": 2,
   "id": "5ba7edc5",
   "metadata": {
    "tags": [
     "output_scroll"
    ]
   },
   "outputs": [
    {
     "data": {
      "text/plain": [
       "uncaught exception: SyntaxError: unexpected token: identifier :\r\n",
       "@(shell):1:32"
      ]
     },
     "execution_count": 2,
     "metadata": {},
     "output_type": "execute_result"
    }
   ],
   "source": [
    "madate = new Date(\"1995-02-13\")\n",
    "db.NYfood.find({\"grades.date\": {$gt : madate}})"
   ]
  },
  {
   "cell_type": "markdown",
   "id": "6e34d945",
   "metadata": {},
   "source": [
    "### Utilisation d'un objet date dans une requête d'égalité.\n",
    "\n",
    "Exemple d'une requête simple dans la base de donnée `etudiants`. On veut récupérer les étudiants nés le 13 février 1995. Il est important d'utiliser l'encadrement. En effet, lors de la création d'une date, la précision est à la milliseconde près. \n",
    "La requête suivante nous renvoie donc les étudiants nés le 13 février 1995 à 00 heures, 00 minutes et 00 secondes (et 0 millisecondes)."
   ]
  },
  {
   "cell_type": "code",
   "execution_count": 3,
   "id": "69988881",
   "metadata": {},
   "outputs": [
    {
     "data": {
      "text/plain": [
       "switched to db etudiants"
      ]
     },
     "execution_count": 3,
     "metadata": {},
     "output_type": "execute_result"
    }
   ],
   "source": [
    "use etudiants"
   ]
  },
  {
   "cell_type": "code",
   "execution_count": 4,
   "id": "2fdeb778",
   "metadata": {
    "tags": [
     "output_scroll"
    ]
   },
   "outputs": [
    {
     "data": {
      "text/plain": [
       "uncaught exception: SyntaxError: unexpected token: identifier :\r\n",
       "@(shell):1:32"
      ]
     },
     "execution_count": 4,
     "metadata": {},
     "output_type": "execute_result"
    }
   ],
   "source": [
    "madate = new Date(\"1995-02-13\")\n",
    "db.notes.find(\n",
    "    {\"ddn\": madate}\n",
    ")"
   ]
  },
  {
   "cell_type": "markdown",
   "id": "8959d2b5",
   "metadata": {},
   "source": [
    "Pour avoir les étudiants nés le 13 février 1995, nous utiliserions la requête suivante :"
   ]
  },
  {
   "cell_type": "code",
   "execution_count": 5,
   "id": "1738b03d",
   "metadata": {
    "tags": [
     "output_scroll"
    ]
   },
   "outputs": [
    {
     "data": {
      "text/plain": [
       "{\r\n",
       "\t\"_id\" : ObjectId(\"56011920de43611b917d773e\"),\r\n",
       "\t\"nom\" : \"Michel\",\r\n",
       "\t\"ddn\" : ISODate(\"1995-02-13T00:00:00Z\"),\r\n",
       "\t\"sexe\" : \"M\"\r\n",
       "}"
      ]
     },
     "execution_count": 5,
     "metadata": {},
     "output_type": "execute_result"
    }
   ],
   "source": [
    "madateinf = new Date(\"1995-02-13\");\n",
    "madatesup = new Date(\"1995-02-14\");\n",
    "\n",
    "db.notes.find(\n",
    "    {\"ddn\": {$gte: madateinf,\n",
    "             $lt: madatesup}}\n",
    ")"
   ]
  },
  {
   "cell_type": "markdown",
   "id": "c603d5de",
   "metadata": {},
   "source": [
    "### Utilisation d'un objet date dans une liste.\n",
    "\n",
    "Exemple d'une requête où l'attribut `date` de type date est inclus dans la liste `grades` dans la base de donnée `food`. La requête suivante nous retourne les restaurants possédant au moins une note attribué après le 5 octobre 2014."
   ]
  },
  {
   "cell_type": "code",
   "execution_count": 6,
   "id": "cfece36d",
   "metadata": {},
   "outputs": [
    {
     "data": {
      "text/plain": [
       "switched to db food"
      ]
     },
     "execution_count": 6,
     "metadata": {},
     "output_type": "execute_result"
    }
   ],
   "source": [
    "use food"
   ]
  },
  {
   "cell_type": "code",
   "execution_count": 7,
   "id": "ec9510e9",
   "metadata": {
    "tags": [
     "output_scroll"
    ]
   },
   "outputs": [
    {
     "data": {
      "text/plain": [
       "uncaught exception: SyntaxError: unexpected token: identifier :\r\n",
       "@(shell):1:32"
      ]
     },
     "execution_count": 7,
     "metadata": {},
     "output_type": "execute_result"
    }
   ],
   "source": [
    "madate = new Date(\"2014-10-05\")\n",
    "db.NYfood.find(\n",
    "    {\"grades.date\": {$gt: madate}}\n",
    ")"
   ]
  },
  {
   "cell_type": "markdown",
   "id": "c5fbbdf6",
   "metadata": {},
   "source": [
    "Pour avoir les restaurants qui ont obtenu au moins une notes au mois de novembre 2014, nous utiliserions l'opérateur `$elemMatch`. Attention à donner l'attribut de type liste, ici `grades`, avant l'opérateur et à spécifier l'attribut de type date, `date`, dans `$elemMatch`."
   ]
  },
  {
   "cell_type": "code",
   "execution_count": 8,
   "id": "c912aca3",
   "metadata": {},
   "outputs": [
    {
     "data": {
      "text/plain": [
       "switched to db food"
      ]
     },
     "execution_count": 8,
     "metadata": {},
     "output_type": "execute_result"
    }
   ],
   "source": [
    "use food"
   ]
  },
  {
   "cell_type": "code",
   "execution_count": 9,
   "id": "06a0d566",
   "metadata": {
    "tags": [
     "output_scroll"
    ]
   },
   "outputs": [
    {
     "data": {
      "text/plain": [
       "uncaught exception: SyntaxError: unexpected token: identifier :\r\n",
       "@(shell):1:33"
      ]
     },
     "execution_count": 9,
     "metadata": {},
     "output_type": "execute_result"
    }
   ],
   "source": [
    "madate1 = new Date(\"2014-11-01\")\n",
    "madate2 = new Date(\"2014-12-01\")\n",
    "db.NYfood.find(\n",
    "    {\"grades\": {$elemMatch: {\"date\": {$gte: madate1,$lt: madate2}}\n",
    "               }\n",
    "    }\n",
    ")"
   ]
  },
  {
   "cell_type": "markdown",
   "id": "6ca0042f",
   "metadata": {},
   "source": [
    "### Utilisation d'un objet date dans un aggregate\n",
    "\n",
    "Il est possible d'accéder aux attributs années, mois, jours,... d'une date. Ceci est très utile pour les [requêtes d'agrégations](05_agreg.html).\n",
    "\n",
    "Exemple d'une requête de regroupement par le mois et l'années. \n",
    "Nous voulons afficher mois par mois le nombre d'étudiants ayant leur date de naissance à ce mois dans la base `etudiants`."
   ]
  },
  {
   "cell_type": "code",
   "execution_count": 10,
   "id": "f6b38b26",
   "metadata": {},
   "outputs": [
    {
     "data": {
      "text/plain": [
       "switched to db etudiants"
      ]
     },
     "execution_count": 10,
     "metadata": {},
     "output_type": "execute_result"
    }
   ],
   "source": [
    "use etudiants"
   ]
  },
  {
   "cell_type": "code",
   "execution_count": 11,
   "id": "7de32db9",
   "metadata": {},
   "outputs": [
    {
     "data": {
      "text/plain": [
       "{ \"_id\" : { \"month\" : 3, \"year\" : 1995 }, \"nb\" : 1 }\r\n",
       "{ \"_id\" : { \"month\" : 5, \"year\" : 1995 }, \"nb\" : 1 }\r\n",
       "{ \"_id\" : { \"month\" : null, \"year\" : null }, \"nb\" : 1 }\r\n",
       "{ \"_id\" : { \"month\" : 3, \"year\" : 1993 }, \"nb\" : 1 }\r\n",
       "{ \"_id\" : { \"month\" : 2, \"year\" : 1995 }, \"nb\" : 1 }\r\n",
       "{ \"_id\" : { \"month\" : 1, \"year\" : 1993 }, \"nb\" : 1 }\r\n",
       "{ \"_id\" : { \"month\" : 9, \"year\" : 1996 }, \"nb\" : 1 }"
      ]
     },
     "execution_count": 11,
     "metadata": {},
     "output_type": "execute_result"
    }
   ],
   "source": [
    "db.notes.aggregate([\n",
    "    {$group:\n",
    "        {_id: {month: {$month: \"$ddn\"},\n",
    "                year: {$year: \"$ddn\"}},\n",
    "                nb: {$sum: 1}\n",
    "        }\n",
    "    }\n",
    "])"
   ]
  },
  {
   "cell_type": "markdown",
   "id": "409b8728",
   "metadata": {},
   "source": [
    "## Transformation de formats\n",
    "\n",
    "Les deux procédés opératoires présentés ci-dessous sont applicable uniquement au sein de la méthode aggregate.\n",
    "\n",
    "### Présentation des formats\n",
    "\n",
    "Ci-dessous un récapitulatif des formats disponibles\n",
    "\n",
    "| abbreviation       |     Description     |        Valeurs possibles |\n",
    "| :------------ | :-------------: | -------------: |\n",
    "| %d       |     jour du mois     |        01-31 |\n",
    "| %G     |   Année dans le format ISO 8601    |      0000-9999 |\n",
    "| %H        |     Heure      |         00-23 |\n",
    "| %L        |     Miliseconde      |         000-999 |\n",
    "| %m        |     Mois      |         01-12 |\n",
    "| %M        |     Minute      |         00-59 |\n",
    "| %S        |     Seconde      |         00-60 |\n",
    "| %u        |     jour par rapport à la semaine      |         1-7 (Lundi-Dimanche) |\n",
    "| %v        |     Semaine      |         1-53 |\n",
    "| %Y        |     année      |         0000-9999 |\n",
    "| %z        |     décalage temporel par rapport à UTC      |         +/-[hh][mm] |\n",
    "| %Z        |     décalage temporel converti en minutes      |         +/-mmm |\n",
    "| %%        |     afficher le caractère pourcentage      |         % |\n",
    "\n",
    "### `$dateFromString`\n",
    "\n",
    "\n",
    "```javascript\n",
    " { $dateFromString: {\n",
    "     dateString: <dateStringExpression>,\n",
    "     format: <formatStringExpression>,\n",
    "     timezone: <tzExpression>,\n",
    "     onError: <onErrorExpression>,\n",
    "     onNull: <onNullExpression>\n",
    "} }\n",
    "```\n",
    "La méthode `$datefromstring` permet de convertir une chaine de caractère représentant une date en objet date pour pouvoir effectuer des calculs et comparaison dessus.\n",
    "\n",
    "La méthode prend en argument : \n",
    "\n",
    "* la date en format texte (Obligatoire)\n",
    "* Le format\n",
    "* Le fuseau horaire\n",
    "* Une gestion potentielle des erreurs\n",
    "+ une gestion potentielle des valeurs nulles\n",
    "\n",
    "\n",
    "#### Exemples\n",
    "\n",
    "Partons du postulat qu'il existe une variable de type string qui décrit une temporalité dans la collection notes. \n",
    "\n",
    "```javascript\n",
    "db.notes.aggregate(\n",
    "   [\n",
    "     {\n",
    "       $project: {\n",
    "          objetdate : { \n",
    "              $dateFromString: {\n",
    "              dateString: \"23-04-2021 à 15 heures 25 minutes et 23 secondes\", format: \"%d-%m-%Y à %H heures %M minutes et %S secondes\"\n",
    "                } \n",
    "              }\n",
    "       }\n",
    "     }\n",
    "   ]\n",
    ")\n",
    "```\n",
    "\n",
    "### `$dateToString`\n",
    "\n",
    "On retrouve la méthode inverse avec des arguments similaires.\n",
    "\n",
    "\n",
    "```javascript\n",
    " { $dateToString: {\n",
    "    date: <dateExpression>,\n",
    "    format: <formatString>,\n",
    "    timezone: <tzExpression>,\n",
    "    onNull: <expression>\n",
    "} }\n",
    "```\n",
    "La méthode prend en argument : \n",
    "\n",
    "* la date en format texte (Obligatoire)\n",
    "* Le format\n",
    "* Le fuseau horaire\n",
    "* Une gestion potentielle des valeurs nulles\n",
    "\n",
    "#### Exemples"
   ]
  },
  {
   "cell_type": "code",
   "execution_count": 12,
   "id": "c454aee0",
   "metadata": {},
   "outputs": [
    {
     "data": {
      "text/plain": [
       "{ \"_id\" : ObjectId(\"56011920de43611b917d773d\"), \"year_str\" : null, \"month_str\" : null, \"date_str\" : null }\r\n",
       "{ \"_id\" : ObjectId(\"56011920de43611b917d773e\"), \"year_str\" : \"1995\", \"month_str\" : \"02\", \"date_str\" : \"13-02-1995\" }\r\n",
       "{ \"_id\" : ObjectId(\"56011920de43611b917d773f\"), \"year_str\" : \"1995\", \"month_str\" : \"03\", \"date_str\" : \"05-03-1995\" }\r\n",
       "{ \"_id\" : ObjectId(\"56011920de43611b917d7741\"), \"year_str\" : \"1993\", \"month_str\" : \"01\", \"date_str\" : \"01-01-1993\" }\r\n",
       "{ \"_id\" : ObjectId(\"56011920de43611b917d773c\"), \"year_str\" : \"1995\", \"month_str\" : \"05\", \"date_str\" : \"25-05-1995\" }\r\n",
       "{ \"_id\" : ObjectId(\"56011920de43611b917d7740\"), \"year_str\" : \"1996\", \"month_str\" : \"09\", \"date_str\" : \"12-09-1996\" }\r\n",
       "{ \"_id\" : ObjectId(\"56011920de43611b917d7742\"), \"year_str\" : \"1993\", \"month_str\" : \"03\", \"date_str\" : \"06-03-1993\" }"
      ]
     },
     "execution_count": 12,
     "metadata": {},
     "output_type": "execute_result"
    }
   ],
   "source": [
    "db.notes.aggregate(\n",
    "   [\n",
    "     {\n",
    "       $project: {\n",
    "          year_str: { $dateToString: { format: \"%Y\", date: \"$ddn\"} },\n",
    "          month_str : {$dateToString: { format: \"%m\", date: \"$ddn\"} },\n",
    "          date_str : {$dateToString: { format: \"%d-%m-%Y\", date: \"$ddn\"} }\n",
    "       }\n",
    "     }\n",
    "   ]\n",
    ")"
   ]
  }
 ],
 "metadata": {
  "jupytext": {
   "cell_metadata_filter": "-all",
   "formats": "md:myst",
   "text_representation": {
    "extension": ".md",
    "format_name": "myst",
    "format_version": 0.12,
    "jupytext_version": "1.9.1"
   }
  },
  "kernelspec": {
   "display_name": "IMongo",
   "language": "",
   "name": "imongo"
  },
  "language_info": {
   "codemirror_mode": "shell",
   "file_extension": ".js",
   "mimetype": "text/x-mongodb",
   "name": "javascript"
  },
  "source_map": [
   14,
   64,
   68,
   73,
   80,
   84,
   91,
   94,
   104,
   110,
   114,
   121,
   124,
   128,
   138,
   147,
   151,
   160,
   252
  ]
 },
 "nbformat": 4,
 "nbformat_minor": 5
}