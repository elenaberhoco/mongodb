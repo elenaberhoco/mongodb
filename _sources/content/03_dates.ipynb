{
 "cells": [
  {
   "cell_type": "markdown",
   "id": "34f13c0e",
   "metadata": {},
   "source": [
    "# Attributs de type date\n",
    "\n",
    "* Auteurs/trices : HAMELIN Marine, GARY Gaston, ABOULKACEM Zakaria, RALIN Kévin.\n",
    "\n",
    "Ce chapitre traite des attributs de type dates (et sous-cas des listes de dates) et des différents types de requêtes que l'on peut vouloir faire sur de tels attributs\n",
    "\n",
    "Le fichier que vous devez modifier pour ce chapitre est `mongo_book/content/03_dates.md`."
   ]
  }
 ],
 "metadata": {
  "jupytext": {
   "cell_metadata_filter": "-all",
   "formats": "md:myst",
   "text_representation": {
    "extension": ".md",
    "format_name": "myst",
    "format_version": 0.12,
    "jupytext_version": "1.9.1"
   }
  },
  "kernelspec": {
   "display_name": "IMongo",
   "language": "",
   "name": "imongo"
  },
  "language_info": {
   "codemirror_mode": "shell",
   "file_extension": ".js",
   "mimetype": "text/x-mongodb",
   "name": "javascript"
  },
  "source_map": [
   14
  ]
 },
 "nbformat": 4,
 "nbformat_minor": 5
}