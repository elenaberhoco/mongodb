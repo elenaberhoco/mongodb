{
 "cells": [
  {
   "cell_type": "markdown",
   "id": "2f5678c4",
   "metadata": {},
   "source": [
    "(sec:pymongo)=\n",
    "# Requêtes depuis Python : `pymongo`\n",
    "\n",
    "* Auteurs : **Pierre Cottais, Florian Guillaume, Tom Houée**\n",
    "\n",
    "**Comment faire pour effectuer les requêtes présentes dans les chapitres 1 à 6 avec `pymongo` ?**\n",
    "\n",
    "\n",
    "**Sommaire :**\n",
    "\n",
    "\n",
    "1. [Présentation et installation](#partie1)\n",
    "2. [Connexion serveur, base de données et collections](#partie2)\n",
    "3. [Requêtes](#partie3)  \n",
    "  3.1. [Requêtes simple et ces spécifictés](#partie31)  \n",
    "  3.2. [Les Index](#partie32)  \n",
    "  3.3. [Requête d'aggrégation](#partie33)  \n",
    "  3.4. [Requête de modifications](#partie34)  \n",
    "4. [Pour aller plus loin...](#partie4)  \n",
    "  4.1. [Export au format JSON](#partie41)  \n",
    "  4.2. [Exercices et corrections](#partie42)\n",
    "\n",
    "(partie1)=\n",
    "## Présentation et installation\n",
    "PyMongo est une librairie Python contenant des outils pour travailler avec MongoDB et MongodbAtlas. PyMongo est maintenue par les développeurs de MongoDB officiel ce qui en fait la référence dans Python. Pour une documentation détaillée de la librairie, vous pouvez consulter la documentation :\n",
    "\n",
    "**https://pymongo.readthedocs.io/en/stable/**\n",
    "\n",
    "Pour installer la librairie, nous pouvons le faire avec la commande `pip install pymongo`, dans un terminal tel que Anaconda Prompt par exemple."
   ]
  },
  {
   "cell_type": "code",
   "execution_count": 1,
   "id": "05c3d91e",
   "metadata": {},
   "outputs": [],
   "source": [
    "import pymongo "
   ]
  },
  {
   "cell_type": "markdown",
   "id": "c600ec44",
   "metadata": {},
   "source": [
    "```{admonition} Remarque\n",
    "Cette librairie est déjà incluse dans la distribution Anaconda.\n",
    "```\n",
    "\n",
    "\n",
    "(partie2)=\n",
    "## Connexion serveur, base de données et collections\n",
    "La première étape consiste à créer une connexion avec nos bases de données sur le serveur de MongoDB. Pour effectuer cette connexion, nous devons utiliser une URI qui est un URL. Il  existe différentes URI de connexion, mais ici, nous devons juste nous connecter à notre serveur local MongoDB. Pour voir les différents moyens de vous connecter à des serveurs extérieurs comme par exemple MongodbAtlas, voir la page : \n",
    "\n",
    "**https://docs.mongodb.com/manual/reference/connection-string/.**\n",
    "\n",
    "Ainsi notre URL de connexion est \"mongodb://localhost:27017\" avec notre :\n",
    "* chaine de connexion : mongodb://\n",
    "* host: localHost\n",
    "* port: 27017.  \n",
    "\n",
    "Pour utiliser cette URL nous utilisons la classe MongoClient de pymongo qui nous fait notre connexion."
   ]
  },
  {
   "cell_type": "code",
   "execution_count": 2,
   "id": "5e1f3af4",
   "metadata": {},
   "outputs": [
    {
     "name": "stdout",
     "output_type": "stream",
     "text": [
      "MongoClient(host=['localhost:27017'], document_class=dict, tz_aware=False, connect=True)\n"
     ]
    }
   ],
   "source": [
    "# import de notre Classe MongoClient\n",
    "from pymongo  import MongoClient\n",
    "\n",
    "client = MongoClient(host=\"localhost\", port=27017)\n",
    "\n",
    "# ou bien \n",
    "\n",
    "db_uri = \"mongodb://localhost:27017/\"\n",
    "client = MongoClient(db_uri)\n",
    "\n",
    "# affichage un objet\n",
    "print(client)"
   ]
  },
  {
   "cell_type": "code",
   "execution_count": 3,
   "id": "1766c31e",
   "metadata": {},
   "outputs": [
    {
     "name": "stdout",
     "output_type": "stream",
     "text": [
      "<class 'pymongo.mongo_client.MongoClient'>\n"
     ]
    }
   ],
   "source": [
    "print(type(client))"
   ]
  },
  {
   "cell_type": "markdown",
   "id": "e55ea319",
   "metadata": {},
   "source": [
    "Ainsi, nous pouvons voir que la fonction créer un objet de class `pymongo.mongo_client.MongoClient` où nous retrouvons nos informations comme le host le port, etc...\n",
    "La deuxième étape consiste à nous connecter à notre base de données et nos collections, nous prendons ici l'exemple de la base de données `food`:\n",
    "\n",
    "```{admonition} Syntaxe\n",
    ":class: tip\n",
    "\n",
    "* Client.BasedeDonnee.Collection   \n",
    "* Client[\"BasedeDonnee\"][\"Collection\"]\n",
    "```"
   ]
  },
  {
   "cell_type": "code",
   "execution_count": 4,
   "id": "a1ed1559",
   "metadata": {},
   "outputs": [
    {
     "name": "stdout",
     "output_type": "stream",
     "text": [
      "Database(MongoClient(host=['localhost:27017'], document_class=dict, tz_aware=False, connect=True), 'food')\n"
     ]
    }
   ],
   "source": [
    "db_name = \"food\"\n",
    "db = client[db_name]\n",
    "\n",
    "# ou bien\n",
    "\n",
    "db = client.food\n",
    "\n",
    "print(db)"
   ]
  },
  {
   "cell_type": "code",
   "execution_count": 5,
   "id": "9fcf393b",
   "metadata": {},
   "outputs": [
    {
     "name": "stdout",
     "output_type": "stream",
     "text": [
      "<class 'pymongo.database.Database'>\n"
     ]
    }
   ],
   "source": [
    "print(type(db))"
   ]
  },
  {
   "cell_type": "markdown",
   "id": "bef01d4c",
   "metadata": {},
   "source": [
    "Ainsi, il nous retourne un objet de classe `pymongo.database.Database`.  \n",
    "Enfin, il ne nous reste plus qu'à récupérer la collection souhaitée. Cela est le même principe pour utiliser les collections et qui cette fois nous retourne un objet `pymongo.collection.Collection`. Ici, nous prenons l'exemple de la collection `NYfood`."
   ]
  },
  {
   "cell_type": "code",
   "execution_count": 6,
   "id": "ed9dbe70",
   "metadata": {},
   "outputs": [
    {
     "name": "stdout",
     "output_type": "stream",
     "text": [
      "Collection(Database(MongoClient(host=['localhost:27017'], document_class=dict, tz_aware=False, connect=True), 'food'), 'NYfood')\n"
     ]
    }
   ],
   "source": [
    "coll_name = \"NYfood\"\n",
    "coll = db[coll_name]\n",
    "\n",
    "# même syntaxe qu'auparavant\n",
    "\n",
    "coll = db.NYfood\n",
    "\n",
    "print(coll)"
   ]
  },
  {
   "cell_type": "code",
   "execution_count": 7,
   "id": "4ab534a2",
   "metadata": {},
   "outputs": [
    {
     "name": "stdout",
     "output_type": "stream",
     "text": [
      "<class 'pymongo.collection.Collection'>\n"
     ]
    }
   ],
   "source": [
    "print(type(coll))"
   ]
  },
  {
   "cell_type": "markdown",
   "id": "c76b7a57",
   "metadata": {},
   "source": [
    "De plus, `pymongo` a une fonction bien pratique qui permet d'afficher la liste des collection contenues dans une base de données :"
   ]
  },
  {
   "cell_type": "code",
   "execution_count": 8,
   "id": "1ab39b21",
   "metadata": {},
   "outputs": [
    {
     "data": {
      "text/plain": [
       "['NYfood']"
      ]
     },
     "execution_count": 8,
     "metadata": {},
     "output_type": "execute_result"
    }
   ],
   "source": [
    "db.list_collection_names()"
   ]
  },
  {
   "cell_type": "markdown",
   "id": "1411d659",
   "metadata": {},
   "source": [
    "En résumé, le package `pymongo` vous permet d'utiliser trois types d'objets via votre IDE python : les clients, les bases de données et les collections. Ces objets vont avoir des méthodes attitrées nous permettant d'effectuer des requêtes, nous les détaillerons dans la suite du cours.\n",
    "\n",
    "```{admonition} Remarque\n",
    "\n",
    "Cela fonctionne comme un dictionnaire Python. Toutefois, si votre base contient des caractères spéciaux, espace ou autre, on vous conseille la première écriture : `Client[\"BasedeDonnee\"][\"Collection\"]`.\n",
    "```\n",
    "\n",
    "\n",
    "(partie3)=\n",
    "## Requêtes\n",
    "Maintenant que nous avons fait nos connexions, il nous reste à voir comment effectuer des requêtes.\n",
    "\n",
    "**Fonctionnement :**\n",
    "Le fonctionement est le même que sur l'interface MongoDB:\n",
    "\n",
    "```{admonition} Syntaxe requête\n",
    ":class: tip\n",
    "\n",
    " * Client.BasedeDonne.nomDeLaCollection.requete()    \n",
    " * Client[\"BasedeDonnee\"][\"Collection\"].requete()\n",
    "```\n",
    "\n",
    "|Requête|Fonctionement|\n",
    "|------|--------|\n",
    "|    find()    |    Recherche de tous les individus selon les critères indiqués    |\n",
    "|    find_one()   |    Affichage du premier individu correspondant aux critères indiqués    |\n",
    "\n",
    "Mais le résultat est différent, il nous renvoie un objet de type `Cursor`. En effet, le module `pymongo` ne stockera pas les résultats dans une liste par souci de mémoire : \n",
    "\n",
    "Par exemple, ici nous récupérons toutes les boulangeries de la collection `NYfood`."
   ]
  },
  {
   "cell_type": "code",
   "execution_count": 9,
   "id": "bc6002bd",
   "metadata": {},
   "outputs": [
    {
     "data": {
      "text/plain": [
       "<pymongo.cursor.Cursor at 0x7f63bcdc46a0>"
      ]
     },
     "execution_count": 9,
     "metadata": {},
     "output_type": "execute_result"
    }
   ],
   "source": [
    "db.NYfood.find({\"cuisine\": \"Bakery\"})"
   ]
  },
  {
   "cell_type": "markdown",
   "id": "d03d7883",
   "metadata": {},
   "source": [
    "Ainsi, pour accéder au contenu de la requête il nous faut parcourir l'objet renvoyé par celle-ci, comme un objet itérable en Python.\n",
    "Exemple, on affiche les deux premiers individus issus de la requête."
   ]
  },
  {
   "cell_type": "code",
   "execution_count": 10,
   "id": "646fd963",
   "metadata": {},
   "outputs": [
    {
     "name": "stdout",
     "output_type": "stream",
     "text": [
      "{'_id': ObjectId('61e6a0d95ecaf12919b5c681'), 'address': {'building': '1007', 'loc': {'type': 'Point', 'coordinates': [-73.856077, 40.848447]}, 'street': 'Morris Park Ave', 'zipcode': '10462'}, 'borough': 'Bronx', 'cuisine': 'Bakery', 'grades': [{'date': datetime.datetime(2014, 3, 3, 0, 0), 'grade': 'A', 'score': 2}, {'date': datetime.datetime(2013, 9, 11, 0, 0), 'grade': 'A', 'score': 6}, {'date': datetime.datetime(2013, 1, 24, 0, 0), 'grade': 'A', 'score': 10}, {'date': datetime.datetime(2011, 11, 23, 0, 0), 'grade': 'A', 'score': 9}, {'date': datetime.datetime(2011, 3, 10, 0, 0), 'grade': 'B', 'score': 14}], 'name': 'Morris Park Bake Shop', 'restaurant_id': '30075445'}\n",
      "{'_id': ObjectId('61e6a0d95ecaf12919b5c6a3'), 'address': {'building': '120', 'loc': {'type': 'Point', 'coordinates': [-73.9998042, 40.7251256]}, 'street': 'Prince Street', 'zipcode': '10012'}, 'borough': 'Manhattan', 'cuisine': 'Bakery', 'grades': [{'date': datetime.datetime(2014, 10, 17, 0, 0), 'grade': 'A', 'score': 11}, {'date': datetime.datetime(2013, 9, 18, 0, 0), 'grade': 'A', 'score': 13}, {'date': datetime.datetime(2013, 4, 30, 0, 0), 'grade': 'A', 'score': 7}, {'date': datetime.datetime(2012, 4, 20, 0, 0), 'grade': 'A', 'score': 7}, {'date': datetime.datetime(2011, 12, 19, 0, 0), 'grade': 'A', 'score': 3}], 'name': \"Olive'S\", 'restaurant_id': '40363151'}\n"
     ]
    }
   ],
   "source": [
    "cursor = db.NYfood.find({\"cuisine\": \"Bakery\"})\n",
    "\n",
    "# afficher les 2 premiers individus\n",
    "for rep in cursor[:2]:    \n",
    "  print(rep)"
   ]
  },
  {
   "cell_type": "markdown",
   "id": "fc8c7589",
   "metadata": {},
   "source": [
    "Nous pouvons afficher l'ensemble des réponses, mais cela peut demander beaucoup de mémoire pour votre ordinateur en fonction de la requête demandée. Pour ce faire, on utilise la ligne suivante.\n",
    "```python\n",
    "print(list(cursor))\n",
    "```\n",
    "\n",
    "Il est donc préférable d'afficher les premiers résultats pour voir si votre requête est juste. Par exemple avec la requête `find_one()` affiche que le premier individu correspondant aux critères indiqués, comme par exemple, la première boulangerie de la collection :"
   ]
  },
  {
   "cell_type": "code",
   "execution_count": 11,
   "id": "aaf93510",
   "metadata": {},
   "outputs": [
    {
     "data": {
      "text/plain": [
       "{'_id': ObjectId('61e6a0d95ecaf12919b5c681'),\n",
       " 'address': {'building': '1007',\n",
       "  'loc': {'type': 'Point', 'coordinates': [-73.856077, 40.848447]},\n",
       "  'street': 'Morris Park Ave',\n",
       "  'zipcode': '10462'},\n",
       " 'borough': 'Bronx',\n",
       " 'cuisine': 'Bakery',\n",
       " 'grades': [{'date': datetime.datetime(2014, 3, 3, 0, 0),\n",
       "   'grade': 'A',\n",
       "   'score': 2},\n",
       "  {'date': datetime.datetime(2013, 9, 11, 0, 0), 'grade': 'A', 'score': 6},\n",
       "  {'date': datetime.datetime(2013, 1, 24, 0, 0), 'grade': 'A', 'score': 10},\n",
       "  {'date': datetime.datetime(2011, 11, 23, 0, 0), 'grade': 'A', 'score': 9},\n",
       "  {'date': datetime.datetime(2011, 3, 10, 0, 0), 'grade': 'B', 'score': 14}],\n",
       " 'name': 'Morris Park Bake Shop',\n",
       " 'restaurant_id': '30075445'}"
      ]
     },
     "execution_count": 11,
     "metadata": {},
     "output_type": "execute_result"
    }
   ],
   "source": [
    "db.NYfood.find_one({\"cuisine\": \"Bakery\"})"
   ]
  },
  {
   "cell_type": "markdown",
   "id": "1385c6bd",
   "metadata": {},
   "source": [
    "De plus, puisque notre réponse est un dictionnaire et que nous connaissons la structure, alors nous pouvons aller chercher les informations qui nous intéressent.\n",
    "Ainsi, nous récupérons ci-dessous la localisation et les coordonnées du premier individu issu de notre requête :"
   ]
  },
  {
   "cell_type": "code",
   "execution_count": 12,
   "id": "af84d5a0",
   "metadata": {},
   "outputs": [
    {
     "name": "stdout",
     "output_type": "stream",
     "text": [
      "[-73.856077, 40.848447]\n"
     ]
    }
   ],
   "source": [
    "cursor = db.NYfood.find({\"cuisine\": \"Bakery\"})\n",
    "cursor=list(cursor)\n",
    "print(cursor[0][\"address\"][\"loc\"][\"coordinates\"])"
   ]
  },
  {
   "cell_type": "markdown",
   "id": "5bed1868",
   "metadata": {},
   "source": [
    "**Methodes :**\n",
    "\n",
    "De plus, pour utiliser certaines méthodes sur nos requêtes comme `sort()`, c'est sensiblement la même syntaxe que MongoDB :\n",
    "\n",
    "```{admonition} Syntaxe méthode\n",
    ":class: tip\n",
    "\n",
    "* Client.BasedeDonnee.Collection.requetes().methode()    \n",
    "* Client[\"BasedeDonnee\"][\"Collection\"].requete().methode()\n",
    "```\n",
    "\n",
    "Cependant, nous ne pouvons pas utiliser ces méthodes à l'objet `Cursor` car ces méthodes font partie intégrante de la requête.\n",
    "\n",
    "|Méthodes Python|Fonctionalité|\n",
    "|------|----------|\n",
    "|    sort()    |    Tri des individus    |\n",
    "|    count()   |    Comptage du nombre d'individus issus de la requête    |\n",
    "|    limit()    |    Affichage des n premiers individus souhaités    |\n",
    "|    explain()    |    Permet d’obtenir un certain nombre d’informations sur le déroulement d’une requête |\n",
    "|    distinct()    |    Suppression des doublons    |\n",
    "    \n",
    "\n",
    "**Exemples :**\n",
    "```python\n",
    "db.NYfood.find({\"cuisine\": \"Bakery\"}).limit(2) # Affiche les deux premiers résultats\n",
    "db.NYfood.find({\"cuisine\": \"Bakery\"}).sort(\"name\", -1)) # Trie les résultats par ordre décroissant par rapport à la variable name\n",
    "db.NYfood.find({\"cuisine\": \"Bakery\"}).limit(2).explain(\"executionStats\") # Affiche les informations \n",
    "db.NYfood.distinct(\"grades.grade\", {\"cuisine\": \"Bakery\"}) #  liste des notes attribuées aux boulangeries\n",
    "```\n",
    "\n",
    "\n",
    "(partie31)=\n",
    "### Requêtes simples et ses spécifictés\n",
    "L'utilisation de `pymongo` implique l'utilisation de certaines spécificités, deux principalement qui marquent une différence avec MongoDB.\n",
    "Premièrement, nous avons une spécificité avec les opérateurs et les noms qui doivent toujours être entre guillemets comme par exemple ```$gte```.\n",
    "\n",
    "Exemple :"
   ]
  },
  {
   "cell_type": "code",
   "execution_count": 13,
   "id": "50b90915",
   "metadata": {},
   "outputs": [
    {
     "data": {
      "text/plain": [
       "{'_id': ObjectId('61e6a0d95ecaf12919b5c6f8'),\n",
       " 'address': {'building': '72',\n",
       "  'loc': {'type': 'Point', 'coordinates': [-73.92506, 40.8275556]},\n",
       "  'street': 'East  161 Street',\n",
       "  'zipcode': '10451'},\n",
       " 'borough': 'Bronx',\n",
       " 'cuisine': 'American ',\n",
       " 'grades': [{'date': datetime.datetime(2014, 4, 15, 0, 0),\n",
       "   'grade': 'A',\n",
       "   'score': 9},\n",
       "  {'date': datetime.datetime(2013, 11, 14, 0, 0), 'grade': 'A', 'score': 4},\n",
       "  {'date': datetime.datetime(2013, 7, 29, 0, 0), 'grade': 'A', 'score': 10},\n",
       "  {'date': datetime.datetime(2012, 12, 31, 0, 0), 'grade': 'B', 'score': 15},\n",
       "  {'date': datetime.datetime(2012, 5, 30, 0, 0), 'grade': 'A', 'score': 13},\n",
       "  {'date': datetime.datetime(2012, 1, 9, 0, 0), 'grade': 'A', 'score': 10},\n",
       "  {'date': datetime.datetime(2011, 8, 15, 0, 0), 'grade': 'C', 'score': 37}],\n",
       " 'name': 'Yankee Tavern',\n",
       " 'restaurant_id': '40365499'}"
      ]
     },
     "execution_count": 13,
     "metadata": {},
     "output_type": "execute_result"
    }
   ],
   "source": [
    "db.NYfood.find_one({\"name\": {\"$gte\" : \"Y\"}})"
   ]
  },
  {
   "cell_type": "markdown",
   "id": "19af305d",
   "metadata": {},
   "source": [
    "La deuxième spécificité concerne les dates. On utilise le module ```datetime``` et `pymongo` va de lui même effectuer la conversion au format \"date de MongoDb\".\n",
    "Exemple, liste des restaurants ayant au moins une note postérieure au 20 janvier 2015 :"
   ]
  },
  {
   "cell_type": "code",
   "execution_count": 14,
   "id": "eec8fcfa",
   "metadata": {},
   "outputs": [
    {
     "data": {
      "text/plain": [
       "<pymongo.cursor.Cursor at 0x7f63bcdc4a90>"
      ]
     },
     "execution_count": 14,
     "metadata": {},
     "output_type": "execute_result"
    }
   ],
   "source": [
    "from datetime import datetime\n",
    "\n",
    "date = datetime.strptime(\"2015-01-20\", \"%Y-%m-%d\")\n",
    "\n",
    "db.NYfood.find({\"grades.date\": {\"$gte\": date}})"
   ]
  },
  {
   "cell_type": "markdown",
   "id": "7a90cd7e",
   "metadata": {},
   "source": [
    "**Astuce :**\n",
    "\n",
    "Dans le but de rendre nos requêtes plus lisibles, il est possible de créer des variables Python qui correspondent aux conditions que nous utilisons pour nos requêtes.\n",
    "Par exemple, nous voulons afficher la liste des restaurants qui vérifient l’une des conditions suivantes :  \n",
    "* le restaurant appartient aux quartiers de \"Manhattan\"\n",
    "* le restaurant est une boulangerie du Bronx commençant par la lettre \"P\""
   ]
  },
  {
   "cell_type": "code",
   "execution_count": 15,
   "id": "8f7b4833",
   "metadata": {},
   "outputs": [
    {
     "name": "stdout",
     "output_type": "stream",
     "text": [
      "{'_id': ObjectId('61e6a0d95ecaf12919b5cc38'), 'address': {'building': '831', 'loc': {'type': 'Point', 'coordinates': [-73.90503799999999, 40.812633]}, 'street': 'East 149 Street', 'zipcode': '10455'}, 'borough': 'Bronx', 'cuisine': 'Bakery', 'grades': [{'date': datetime.datetime(2014, 1, 15, 0, 0), 'grade': 'A', 'score': 12}, {'date': datetime.datetime(2013, 1, 3, 0, 0), 'grade': 'A', 'score': 10}], 'name': 'Pitusa Bakery', 'restaurant_id': '40510823'}\n"
     ]
    }
   ],
   "source": [
    "db = client[\"food\"]\n",
    "coll = db[\"NYfood\"]\n",
    "\n",
    "# première condition\n",
    "dico_cond1 = {}\n",
    "dico_cond1[\"borough\"] = \"Manhattan\"\n",
    "\n",
    "# deuxième condition\n",
    "dico_cond2 = {}\n",
    "dico_cond2[\"borough\"] = \"Bronx\"\n",
    "dico_cond2[\"cuisine\"] = \"Bakery\"\n",
    "dico_cond2[\"name\"] = {\"$gte\": \"P\", \"$lt\": \"Q\"}\n",
    "\n",
    "# Notre requête final\n",
    "req = {}\n",
    "req[\"$or\"] = [dico_cond1, dico_cond2]\n",
    "\n",
    "cursor = coll.find(req)\n",
    "cursor = list(cursor)\n",
    "print(cursor[0])"
   ]
  },
  {
   "cell_type": "markdown",
   "id": "d64af20a",
   "metadata": {},
   "source": [
    "Forme plus brutale :"
   ]
  },
  {
   "cell_type": "code",
   "execution_count": 16,
   "id": "8c392fea",
   "metadata": {},
   "outputs": [
    {
     "name": "stdout",
     "output_type": "stream",
     "text": [
      "{'_id': ObjectId('61e6a0d95ecaf12919b5cc38'), 'address': {'building': '831', 'loc': {'type': 'Point', 'coordinates': [-73.90503799999999, 40.812633]}, 'street': 'East 149 Street', 'zipcode': '10455'}, 'borough': 'Bronx', 'cuisine': 'Bakery', 'grades': [{'date': datetime.datetime(2014, 1, 15, 0, 0), 'grade': 'A', 'score': 12}, {'date': datetime.datetime(2013, 1, 3, 0, 0), 'grade': 'A', 'score': 10}], 'name': 'Pitusa Bakery', 'restaurant_id': '40510823'}\n"
     ]
    }
   ],
   "source": [
    "cursorbis = coll.find({\"$or\": [{\"borough\": \"Manhattan\"}, \n",
    "\t\t\t     {\"cuisine\": \"Bakery\", \"borough\": \"Bronx\", \"name\": {\"$gte\": \"P\", \"$lt\": \"Q\"}}\n",
    "\t\t\t     ]})\n",
    "cursorbis = list(cursorbis)\n",
    "print(cursorbis[0])"
   ]
  },
  {
   "cell_type": "markdown",
   "id": "4ee686cc",
   "metadata": {},
   "source": [
    "De plus, nous pouvons remarquer que ce sont deux listes `Cursor`, on peut donc tester l'égalité de leur contenu."
   ]
  },
  {
   "cell_type": "code",
   "execution_count": 17,
   "id": "48ecf418",
   "metadata": {},
   "outputs": [
    {
     "name": "stdout",
     "output_type": "stream",
     "text": [
      "True\n"
     ]
    }
   ],
   "source": [
    "print(cursorbis == cursor)"
   ]
  },
  {
   "cell_type": "markdown",
   "id": "b2b3751d",
   "metadata": {},
   "source": [
    "(partie32)=\n",
    "### Les index\n",
    "Les index sont des structures de données spéciales qui stockent une petite partie de l'ensemble de données de la collection sous une forme facile à parcourir. L'index stocke la valeur d'un champ spécifique ou d'un ensemble de champs, triés par la valeur du champ. Ainsi, l'utilisation avec `pymongo` est la même qu'en mongoDB.\n",
    "\n",
    "```{admonition} Syntaxe de requête d'index\n",
    ":class: tip\n",
    "\n",
    "* Client.BasedeDonnee.Collection.requeteIndex()    \n",
    "* Client[\"BasedeDonnee\"][\"Collection\"].requeteIndex()\n",
    "```\n",
    "\n",
    "|Requete|Fonctionement|\n",
    "|--------|--------|\n",
    "|    index_information()    |  Pour obtenir la liste des index de la collection      |\n",
    "|    create_index()   |    Création d'un index   |\n",
    "|  drop_index()     | Suppression d'un index      |\n",
    "\n",
    "**Exemple :**\n",
    "\n",
    "L'ensemble des index de la collection `NYfood` :"
   ]
  },
  {
   "cell_type": "code",
   "execution_count": 18,
   "id": "ae1ba5ab",
   "metadata": {},
   "outputs": [
    {
     "name": "stdout",
     "output_type": "stream",
     "text": [
      " Nom : _id_, Valeur : {'v': 2, 'key': [('_id', 1)]} \n",
      "\n",
      " Nom : address.loc_2dsphere, Valeur : {'v': 2, 'key': [('address.loc', '2dsphere')], '2dsphereIndexVersion': 3} \n",
      "\n",
      " Nom : $**_text, Valeur : {'v': 2, 'key': [('_fts', 'text'), ('_ftsx', 1)], 'weights': SON([('$**', 1)]), 'default_language': 'english', 'language_override': 'language', 'textIndexVersion': 3} \n",
      "\n",
      " Nom : borough_1, Valeur : {'v': 2, 'key': [('borough', 1.0)]} \n",
      "\n",
      " Nom : cuisine_1, Valeur : {'v': 2, 'key': [('cuisine', 1.0)]} \n",
      "\n",
      " Nom : cuisine_1_borough_1, Valeur : {'v': 2, 'key': [('cuisine', 1.0), ('borough', 1.0)]} \n",
      "\n"
     ]
    }
   ],
   "source": [
    "db = client[\"food\"]\n",
    "coll = db[\"NYfood\"]\n",
    "\n",
    "for k, v  in coll.index_information().items():\n",
    "    print(\" Nom : {}, Valeur : {} \\n\".format(k, v))"
   ]
  },
  {
   "cell_type": "markdown",
   "id": "55b17c41",
   "metadata": {},
   "source": [
    "Exemple de suppression ou de création d'un index :\n",
    "```python\n",
    "db.NYfood.drop_index(\"borough_1\")\n",
    "db.NYfood.create_index(\"borough_1\")\n",
    "```\n",
    "\n",
    "(partie33)=\n",
    "### Les requêtes d'agrégation\n",
    "Les requêtes d'agrégation ont pour but de faire des calculs simples (agrégats) sur toute la collection ou seulement sur certains groupes. Pour ce faire, on utilise la méthode ```aggregate()``` .\n",
    "\n",
    "```{admonition} Syntaxe de la requête d'aggregation\n",
    ":class: tip\n",
    "\n",
    "* Client.BasedeDonnee.Collection.aggregate()   \n",
    "* Client[\"BasedeDonnee\"][\"Collection\"].aggregate()\n",
    "```\n",
    "\n",
    "Dans l'exemple ci-dessous, on souhaite compter le nombre de restaurants dans la collection en les regroupant par quartier."
   ]
  },
  {
   "cell_type": "code",
   "execution_count": 19,
   "id": "5596903f",
   "metadata": {},
   "outputs": [
    {
     "name": "stdout",
     "output_type": "stream",
     "text": [
      "2338 restaurants dans le quartier Bronx\n",
      "969 restaurants dans le quartier Staten Island\n",
      "5656 restaurants dans le quartier Queens\n",
      "6085 restaurants dans le quartier Brooklyn\n",
      "10258 restaurants dans le quartier Manhattan\n",
      "51 restaurants dans le quartier Missing\n"
     ]
    }
   ],
   "source": [
    "# aggrégation\n",
    "cursor_agreg = coll.aggregate([\n",
    "  {\"$group\": {\"_id\": \"$borough\",\n",
    "              \"nb_restos\": {\"$sum\": 1}}\n",
    "  }\n",
    "])\n",
    "\n",
    "# affichage\n",
    "for agreg in cursor_agreg:\n",
    "    print(agreg[\"nb_restos\"], \"restaurants dans le quartier\", agreg[\"_id\"])"
   ]
  },
  {
   "cell_type": "markdown",
   "id": "c25b1e6e",
   "metadata": {},
   "source": [
    "**Bonus, exemple d'utilisation du résultat d'une agrégation** \n",
    "\n",
    "La méthode `aggregate` nous permets de faire des calculs, des regroupement, etc... Mais on a envie d'exploiter ce résultat en créant un graphique ou en le stockant dans un fichier.  \n",
    "Création d'un graphique montrant, pour chaque valeur possible de note, le nombre de fois qu’elle a été attribuée."
   ]
  },
  {
   "cell_type": "code",
   "execution_count": 20,
   "id": "02c1209b",
   "metadata": {},
   "outputs": [
    {
     "data": {
      "image/png": "[encoded data removed]",
      "text/plain": [
       "<Figure size 720x360 with 1 Axes>"
      ]
     },
     "metadata": {
      "filenames": {
       "image/png": "/home/runner/work/mongo_book/mongo_book/_build/jupyter_execute/content/07_scripts_py_36_0.png"
      },
      "needs_background": "light"
     },
     "output_type": "display_data"
    }
   ],
   "source": [
    "import matplotlib.pyplot as plt\n",
    "\n",
    "cursor_agrr = client.food.NYfood.aggregate([\n",
    "                                              {\"$unwind\": \"$grades\"},\n",
    "                                              {\"$group\": {\"_id\": \"$grades.grade\", \"nb\": {\"$sum\": 1}}}\n",
    "                                            ])\n",
    "\n",
    "# récupérer nos informations                                  \n",
    "l_nb = []\n",
    "l_grade = []\n",
    "for obj in cursor_agrr :\n",
    "    l_nb.append(obj[\"nb\"])\n",
    "    l_grade.append(obj[\"_id\"])\n",
    "\n",
    "# Création du graphe\n",
    "plt.figure(figsize = (10, 5))\n",
    "plt.bar(l_grade, l_nb, color ='blue', width = 0.4)\n",
    "plt.xlabel(\"Note\")\n",
    "plt.ylabel(\"Count\")\n",
    "plt.title(\"Number of times assigned to a note\")\n",
    "plt.show()"
   ]
  },
  {
   "cell_type": "markdown",
   "id": "6c7e72e9",
   "metadata": {},
   "source": [
    "(partie34)=\n",
    "### Les modifications\n",
    "Contrairement aux requêtes d'interrogation, les requêtes de modification peuvent modifier la base de données. Avec la librairie `pymongo` l'écriture est la même qu'en MongoDB.\n",
    "\n",
    "```{admonition} Syntaxe de requête de modifications\n",
    ":class: tip\n",
    "\n",
    "* Client.BasedeDonnee.Collection.requeteModification()   \n",
    "* Client[\"BasedeDonnee\"][\"Collection\"].requeteModification()\n",
    "```\n",
    "\n",
    "|Requete|Fonctionement|\n",
    "|--------|--------|\n",
    "|  insert_one()\t|  Insertion d'un seul document  \t|\n",
    "|  insert_many()   |\tInsertion d'une liste de documents   |\n",
    "|  delete_one() \t|   Suppression d'un document\t|\n",
    "|  delete_many() \t|   Suppression d'une liste de documents\t|\n",
    "|  update_one() \t|   Modification d'un document\t|\n",
    "|  update_many() \t|   Modification d'une liste de documents\t|\n",
    "|  replace_one() \t|   Remplacement d'un document\t|\n",
    "\n",
    "\n",
    "\n",
    "Exemple d'insertion d'un document dans la collection `NYfood` :\n",
    "```python\n",
    "db.NYfood.insert_one(\n",
    "  {\n",
    "\t\"_id\" : ObjectId(\"nouvel_id_resto\"),\n",
    "\t\"address\" : {\n",
    "    \t\"building\" : \"3\",\n",
    "    \t\"loc\" : {\n",
    "        \t\"type\" : \"Point\",\n",
    "        \t\"coordinates\" : [\n",
    "            \t-1.6773,\n",
    "            \t48.111\n",
    "        \t]\n",
    "    \t},\n",
    "    \t\"street\" : \"Rue du Vau Saint-Germainl\",\n",
    "    \t\"zipcode\" : \"35000\"\n",
    "\t},\n",
    "\t\"borough\" : \"KilKenny's Pub\",\n",
    "\t\"cuisine\" : \"Bar, Pub\",\n",
    "\t\"grades\" : [\n",
    "    \t{\n",
    "        \t\"date\" : ISODate(\"2021-04-08T00:00:00.000Z\"),\n",
    "        \t\"grade\" : \"A\",\n",
    "        \t\"score\" : 9\n",
    "    \t}\n",
    "\t],\n",
    "\t\"name\" : \"KilKenny's Pub\",\n",
    "\t\"restaurant_id\" : \"99999999\"\n",
    "}\n",
    ")\n",
    "```\n",
    "\n",
    "```{admonition} Remarque\n",
    "\n",
    "Si la collection `NYfood` n'existe pas encore dans la base de données, elle sera automatiquement créée lors de l'insertion d'un document dans cette nouvelle collection. La méthode ```db.create_collection()``` est donc facultative.\n",
    "```\n",
    "\n",
    "(partie4)=\n",
    "## Pour aller plus loin...\n",
    "\n",
    "(partie41)=\n",
    "### Export au format JSON\n",
    "Les résultats obtenus après une requête peuvent être conservés dans le but d'un projet ou d'une étude quelconque. Ainsi, nous vous proposons d'enregistrer vos requêtes sous la forme d'un format JSON.\n",
    "\n",
    "Remarque : le module JSON ne peut écrire dans un fichier avec des données de types classiques comme liste, dictionnaire, nombre, caractère. En l'occurrence, un identifiant qui aura une classe \"ObjectID\" ne pourra être écrit dans le fichier directement, de même pour les objets ```datetime```. Nous nous devons donc de les convertir en chaîne de caractères au préalable."
   ]
  },
  {
   "cell_type": "code",
   "execution_count": 21,
   "id": "3144db1e",
   "metadata": {},
   "outputs": [],
   "source": [
    "import json\n",
    "\n",
    "cursor = db.NYfood.find({\"cuisine\": \"Bakery\"})\n",
    "\n",
    "cursor = list(cursor[:10])\n",
    "\n",
    "for elt in cursor:\n",
    "    elt[\"_id\"] = str(elt[\"_id\"])\n",
    "    for grade in elt[\"grades\"]:\n",
    "        grade[\"date\"] = grade[\"date\"].strftime(\"%Y-%d-%m\")\n",
    "        \n",
    "dico = {\"Bakery\" : cursor}\n",
    "\n",
    "with open(\"Bakery\", 'w', encoding='utf-8') as jsonFile:\n",
    "    json.dump(dico, jsonFile, indent=4)"
   ]
  },
  {
   "cell_type": "markdown",
   "id": "19757253",
   "metadata": {},
   "source": [
    "(partie42)=\n",
    "### Exercices et corrections\n",
    "Ici nous restons dans la base `food` :\n",
    "```python\n",
    "db = client[\"food\"]\n",
    "```\n",
    "\n",
    "**Question 1**\n",
    "\n",
    "Dans la collection `NYfood`, trouvez les restaurants qui n'ont reçu que des notes égales à B.\n",
    "\n",
    "`````{admonition} Cliquez pour montrer la solution\n",
    ":class: dropdown\n",
    "````{tabbed} Python\n",
    "\n",
    "```python\n",
    "# Création de nos conditions\n",
    "condi1 = {\"grades.grade\": {\"$exists\": False}}\n",
    "condi2 = {\"grades.grade\": {\"$size\": 0}}\n",
    "condi3 = {\"grades.grade\": {\"$gt\": \"B\"}}\n",
    "condi4 = {\"grades.grade\": {\"$lt\": \"B\"}}\n",
    "\n",
    "l = [condi1, condi2, condi3, condi4]\n",
    "\n",
    "# Notre requête\n",
    "req = {\"$nor\": l }\n",
    "\n",
    "cursor = db.NYfood.find(req)\n",
    "\n",
    "reponse = list(cursor)\n",
    "```\n",
    "\n",
    "````\n",
    "````{tabbed} MongoDB\n",
    "\n",
    "```javascript\n",
    "db.NYfood.find({$nor: [\n",
    "\t\t\t {\"grades.grade\": {$exists: false}},\n",
    "\t\t\t {\"grades.grade\": {$size: 0}},\n",
    "\t\t\t {\"grades.grade\": {$gt: \"B\"}},\n",
    "\t\t\t {\"grades.grade\": {$lt: \"B\"}}\n",
    "\t\t\t]\n",
    "\t\t})\n",
    "\n",
    "```\n",
    "\n",
    "````\n",
    "`````\n",
    "\n",
    "**Question 2**\n",
    "\n",
    "Dans la collection `NYfood`, on vous demande de conserver les quartiers ayant moins de 1000 restaurants.\n",
    "\n",
    "`````{admonition} Cliquez pour montrer la solution\n",
    ":class: dropdown\n",
    "````{tabbed} Python\n",
    "```python\n",
    "# Création de nos conditions dans le aggregate\n",
    "dico_match = {\"$match\": {\"borough\": {\"$ne\": \"Missing\"}}}\n",
    "dico_group = {\"$group\": {\"_id\": \"$borough\", \"nb_restos\": {\"$sum\":1}}}\n",
    "dico_match2 = {\"$match\": {\"nb_restos\": {\"$lt\": 1000}}}\n",
    "dico_sort = {\"$sort\": {\"nb_restos\": -1}}\n",
    "\n",
    "l = [dico_match, dico_group, dico_match2, dico_sort]\n",
    "\n",
    "# Notre requête\n",
    "cursor_aggr = db.NYfood.aggregate(l)\n",
    "reponse = list(cursor_aggr)\n",
    "```\n",
    "````\n",
    "\n",
    "````{tabbed} MongoDB\n",
    "\n",
    "\n",
    "```javascript\n",
    "db.NYfood.aggregate([\n",
    "\t\t\t{$match: {\"borough\": {$ne: \"Missing\"}}},\n",
    "\t\t\t{$group: {_id: \"$borough\", nb_restos: {$sum:1}}},\n",
    "\t\t\t{$match: {nb_restos: {$lt: 1000}}},\n",
    "\t\t\t{$sort: {\"nb_restos\": -1}}\n",
    "\t\t\t])\n",
    "```\n",
    "````\n",
    "`````\n",
    "\n",
    "**Question 3** \n",
    "\n",
    "Dans la collection `NYfood`, trouvez tous les restaurants qui possède le mot \"Pizza\" dans le nom de l'enseigne.\n",
    "\n",
    "`````{admonition} Cliquez pour montrer la solution\n",
    ":class: dropdown\n",
    "\n",
    "````{tabbed} Python\n",
    "```python\n",
    "# Python reconnaît les expressions régulières\n",
    "cursor = db.NYfood.find({\"name\": \"/Pizza/\"})\n",
    "reponse = list(cursor)\n",
    "```\n",
    "````\n",
    "\n",
    "````{tabbed} MongoDB\n",
    "```javascript\n",
    "db.NYfood.find({\"name\": /Pizza/})\n",
    "```\n",
    "````\n",
    "`````"
   ]
  }
 ],
 "metadata": {
  "jupytext": {
   "cell_metadata_filter": "-all",
   "formats": "md:myst",
   "text_representation": {
    "extension": ".md",
    "format_name": "myst",
    "format_version": 0.12,
    "jupytext_version": "1.9.1"
   }
  },
  "kernelspec": {
   "display_name": "Python 3",
   "language": "python",
   "name": "python3"
  },
  "language_info": {
   "codemirror_mode": {
    "name": "ipython",
    "version": 3
   },
   "file_extension": ".py",
   "mimetype": "text/x-python",
   "name": "python",
   "nbconvert_exporter": "python",
   "pygments_lexer": "ipython3",
   "version": "3.8.12"
  },
  "output": {
   "html_document": {
    "df_print": "paged"
   },
   "pdf_document": "default"
  },
  "source_map": [
   18,
   52,
   54,
   73,
   87,
   89,
   101,
   111,
   113,
   117,
   128,
   130,
   133,
   135,
   167,
   169,
   173,
   179,
   187,
   189,
   193,
   197,
   236,
   238,
   242,
   248,
   258,
   279,
   282,
   288,
   291,
   293,
   315,
   321,
   341,
   352,
   359,
   381,
   451,
   467
  ]
 },
 "nbformat": 4,
 "nbformat_minor": 5
}