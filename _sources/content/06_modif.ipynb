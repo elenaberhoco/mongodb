{
 "cells": [
  {
   "cell_type": "markdown",
   "id": "87783f08",
   "metadata": {},
   "source": [
    "# Les requêtes de modification\n",
    "\n",
    "* Auteurs/trices : Rémi Leduc, Léo Rouger, Clément Caillard\n",
    "\n",
    "Ce chapitre traite des différentes requêtes de modification (insertion, modification, suppression)\n",
    "\n",
    "Le fichier que vous devez modifier pour ce chapitre est `mongo_book/content/06_modif.md`."
   ]
  }
 ],
 "metadata": {
  "jupytext": {
   "cell_metadata_filter": "-all",
   "formats": "md:myst",
   "text_representation": {
    "extension": ".md",
    "format_name": "myst",
    "format_version": 0.12,
    "jupytext_version": "1.9.1"
   }
  },
  "kernelspec": {
   "display_name": "IMongo",
   "language": "",
   "name": "imongo"
  },
  "language_info": {
   "codemirror_mode": "shell",
   "file_extension": ".js",
   "mimetype": "text/x-mongodb",
   "name": "javascript"
  },
  "source_map": [
   14
  ]
 },
 "nbformat": 4,
 "nbformat_minor": 5
}