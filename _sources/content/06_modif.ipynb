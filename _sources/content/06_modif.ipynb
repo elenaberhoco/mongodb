{
 "cells": [
  {
   "cell_type": "markdown",
   "id": "6bf1ed27",
   "metadata": {},
   "source": [
    "# Les requêtes de modification\n",
    "\n",
    "* Auteurs : Rémi Leduc, Léo Rouger, Clément Caillard\n",
    "\n",
    "Ce chapitre traite des différentes requêtes de modification ([insertion](sec:insertion), [modification](sec:modification) et [suppression](sec:suppression)).\n",
    "\n",
    "(sec:insertion)=\n",
    "## Insertion\n",
    "\n",
    "Pour la création d'une nouvelle collection, il est nécessaire de sélectionner une base. Si elle n'existe pas, elle sera alors créée."
   ]
  },
  {
   "cell_type": "code",
   "execution_count": 1,
   "id": "ab59eda4",
   "metadata": {},
   "outputs": [
    {
     "data": {
      "text/plain": [
       "switched to db voitures"
      ]
     },
     "execution_count": 1,
     "metadata": {},
     "output_type": "execute_result"
    }
   ],
   "source": [
    "use voitures"
   ]
  },
  {
   "cell_type": "markdown",
   "id": "3a685fa1",
   "metadata": {},
   "source": [
    "### Création d'une collection \n",
    "\n",
    "Il est nécessaire d'utiliser la commande `db.createCollection(\"NomDeLaNouvelleCollection\")` pour créer une nouvelle collection au sein de la base sélectionnée.  \n",
    "Exemple:"
   ]
  },
  {
   "cell_type": "code",
   "execution_count": 2,
   "id": "155034ab",
   "metadata": {},
   "outputs": [
    {
     "data": {
      "text/plain": [
       "{ \"ok\" : 1 }"
      ]
     },
     "execution_count": 2,
     "metadata": {},
     "output_type": "execute_result"
    }
   ],
   "source": [
    "db.createCollection(\"ventes\")"
   ]
  },
  {
   "cell_type": "markdown",
   "id": "20f7daf8",
   "metadata": {},
   "source": [
    "Ici, on crée par exemple une collection \"ventes\" au sein de la base \"voitures\".  \n",
    ":warning: **Si vous tentez d'exécuter plusieurs fois la commande, une erreur surviendra car votre collection existe déjà.** \n",
    "\n",
    "### Ajout de nouveaux documents \n",
    "\n",
    "La commande `db.NomDeLaCollection.insert([])` permet l'ajout d'une liste de document au sein de la collection.  \n",
    "Exemple:"
   ]
  },
  {
   "cell_type": "code",
   "execution_count": 3,
   "id": "0a71d527",
   "metadata": {},
   "outputs": [
    {
     "data": {
      "text/plain": [
       "BulkWriteResult({\r\n",
       "\t\"writeErrors\" : [ ],\r\n",
       "\t\"writeConcernErrors\" : [ ],\r\n",
       "\t\"nInserted\" : 2,\r\n",
       "\t\"nUpserted\" : 0,\r\n",
       "\t\"nMatched\" : 0,\r\n",
       "\t\"nModified\" : 0,\r\n",
       "\t\"nRemoved\" : 0,\r\n",
       "\t\"upserted\" : [ ]\r\n",
       "})"
      ]
     },
     "execution_count": 3,
     "metadata": {},
     "output_type": "execute_result"
    }
   ],
   "source": [
    "db.ventes.insert([{\"nom\" : \"C1\"}, {\"nom\" : \"C2\"}])"
   ]
  },
  {
   "cell_type": "markdown",
   "id": "a2642516",
   "metadata": {},
   "source": [
    "Si on exécute la ligne suivante, on retrouve bien les documents créés :"
   ]
  },
  {
   "cell_type": "code",
   "execution_count": 4,
   "id": "20f15c0e",
   "metadata": {},
   "outputs": [
    {
     "data": {
      "text/plain": [
       "{ \"_id\" : ObjectId(\"6083b32013e1272df35f7624\"), \"nom\" : \"C1\" }\r\n",
       "{ \"_id\" : ObjectId(\"6083b32013e1272df35f7625\"), \"nom\" : \"C2\" }"
      ]
     },
     "execution_count": 4,
     "metadata": {},
     "output_type": "execute_result"
    }
   ],
   "source": [
    "db.ventes.find({})"
   ]
  },
  {
   "cell_type": "markdown",
   "id": "516b450d",
   "metadata": {},
   "source": [
    "(sec:modification)=\n",
    "## Modification\n",
    "### Remplacement d'un document"
   ]
  },
  {
   "cell_type": "code",
   "execution_count": 5,
   "id": "cda24c70",
   "metadata": {},
   "outputs": [
    {
     "data": {
      "text/plain": [
       "WriteResult({ \"nMatched\" : 1, \"nUpserted\" : 0, \"nModified\" : 1 })"
      ]
     },
     "execution_count": 5,
     "metadata": {},
     "output_type": "execute_result"
    }
   ],
   "source": [
    "db.ventes.update(\n",
    "\t{\"nom\": \"C1\"},\n",
    "\t{\"nom\": \"C1\", \"marque\": \"Citroën\"}\n",
    ")"
   ]
  },
  {
   "cell_type": "markdown",
   "id": "0029a32d",
   "metadata": {},
   "source": [
    "Le document sélectionné sur la première ligne est supprimé et remplacé selon les champs renseignés sur la seconde ligne. Les champs qui ne sont pas renseignés sont donc supprimés.  \n",
    ":warning: **Seul le premier document de la liste sera modifié.**\n",
    "\n",
    "### Modification d'un document\n",
    "Si l'on souhaite conserver les autres champs, il suffit d'inclure la seconde ligne dans un `$set`."
   ]
  },
  {
   "cell_type": "code",
   "execution_count": 6,
   "id": "9afe87f9",
   "metadata": {},
   "outputs": [
    {
     "data": {
      "text/plain": [
       "WriteResult({ \"nMatched\" : 1, \"nUpserted\" : 0, \"nModified\" : 1 })"
      ]
     },
     "execution_count": 6,
     "metadata": {},
     "output_type": "execute_result"
    }
   ],
   "source": [
    "db.ventes.update(\n",
    "\t{\"nom\": \"C2\"},\n",
    "\t{$set:\n",
    "\t\t{\"marque\": \"Citroën\"}\n",
    "\t}\n",
    ")"
   ]
  },
  {
   "cell_type": "markdown",
   "id": "2c6c50ed",
   "metadata": {},
   "source": [
    "Ici également, seul le premier document de la liste répondant aux critères de la première ligne sera modifié.\n",
    "\n",
    "### Modification de plusieurs documents\n",
    "Pour modifier plusieurs documents à la fois, il est nécessaire d'ajouter `{multi: true}` en fin de requête."
   ]
  },
  {
   "cell_type": "code",
   "execution_count": 7,
   "id": "0c09464e",
   "metadata": {},
   "outputs": [
    {
     "data": {
      "text/plain": [
       "WriteResult({ \"nMatched\" : 2, \"nUpserted\" : 0, \"nModified\" : 2 })"
      ]
     },
     "execution_count": 7,
     "metadata": {},
     "output_type": "execute_result"
    }
   ],
   "source": [
    "db.ventes.update(\n",
    "\t{\"nom\" : {$in: [\"C1\", \"C2\"]}},\n",
    "\t{$set: {\"pays\": \"France\"}},\n",
    "\t{multi: true}\n",
    ")"
   ]
  },
  {
   "cell_type": "markdown",
   "id": "ebaf96ec",
   "metadata": {},
   "source": [
    "Cette requête, par exemple, ajoute un attribut \"pays\" ayant la valeur \"France\" aux modèles C1 **et** C2.\n",
    "\n",
    "### Upsert\n",
    "L'option `upsert` (mélange de \"update\" et \"insert\") permet de mettre une condition sur la requête : si aucun document ne correspond aux conditions indiquées en première ligne, alors un nouveau document est créé par les champs renseignés sur la seconde ligne."
   ]
  },
  {
   "cell_type": "code",
   "execution_count": 8,
   "id": "2a819337",
   "metadata": {},
   "outputs": [
    {
     "data": {
      "text/plain": [
       "WriteResult({ \"nMatched\" : 1, \"nUpserted\" : 0, \"nModified\" : 1 })"
      ]
     },
     "execution_count": 8,
     "metadata": {},
     "output_type": "execute_result"
    }
   ],
   "source": [
    "db.ventes.update(\n",
    "\t{\"nom\": \"C1\"},\n",
    "\t{$set : {\"nom\": \"C1\", \"Nombre de roues\": 4}},\n",
    "\t{upsert: true}\n",
    ")"
   ]
  },
  {
   "cell_type": "markdown",
   "id": "0c2abc87",
   "metadata": {},
   "source": [
    "Ici, on ajoute une nouvelle variable \"Nombre de roues\" à laquelle on attribue la valeur 4 au modèle \"C1\"."
   ]
  },
  {
   "cell_type": "code",
   "execution_count": 9,
   "id": "43a9fffc",
   "metadata": {},
   "outputs": [
    {
     "data": {
      "text/plain": [
       "WriteResult({\r\n",
       "\t\"nMatched\" : 0,\r\n",
       "\t\"nUpserted\" : 1,\r\n",
       "\t\"nModified\" : 0,\r\n",
       "\t\"_id\" : ObjectId(\"6083b320756b0d6c15d77467\")\r\n",
       "})"
      ]
     },
     "execution_count": 9,
     "metadata": {},
     "output_type": "execute_result"
    }
   ],
   "source": [
    "db.ventes.update(\n",
    "\t{\"nom\": \"Twingo\"},\n",
    "\t{$set : {\"Nombre de roues\": 4}},\n",
    "\t{upsert: true}\n",
    ")"
   ]
  },
  {
   "cell_type": "markdown",
   "id": "423441be",
   "metadata": {},
   "source": [
    "Cette fois-ci, un nouveau document est ajouté à la base.\n",
    "\n",
    "(sec:suppression)=\n",
    "## Suppression\n",
    "\n",
    "Comme toutes les bonnes choses ont une fin, il est possible de supprimer une base, ou bien, sans être aussi radical, des éléments plus précis.\n",
    "Nous allons voir ici comment procéder aux différentes suppressions :\n",
    "\n",
    "### Suppression d'une base entière\n",
    "```js\n",
    "db.dropDatabase()\n",
    "```\n",
    "Lors de l'exécution de cette commande, c'est la base **courante**, celle qui est pointée par _db_, qui sera supprimée.\n",
    "```{admonition} Important !\n",
    ":class: warning\n",
    "Notez bien que tous les index qui pouvaient exister dans les collections de cette base seront également supprimés !\n",
    "```\n",
    "\n",
    "### Suppression d'une collection\n",
    "```js\n",
    "db.nomDeLaCollection.drop()\n",
    "```\n",
    "Ici encore, les index éventuellement présents dans la collection supprimée seront eux aussi effacés.\n",
    "\n",
    "### Suppression de documents dans une collection\n",
    "Nous voilà arrivés au gros morceau...\n",
    "Lorsque l'on veut supprimer certains documents en particulier **sans toucher aux index**, il faut utiliser la commande suivante :\n",
    "```js\n",
    "db.nomDeLaCollection.remove({})\n",
    "```\n",
    "Lorsque l'on passe en argument un document vide, comme dans l'exemple ci-dessus, on supprime toutes les données contenues dans la collection, mais on en conserve la structure, donc les index.\n",
    "\n",
    "La fonction _remove_ peut également recevoir des documents précis en argument :\n",
    "* Condition sous la forme d'un document masque :  \n",
    "   Tous les documents correspondants à la sélection seront supprimés, par exemple tous ceux dont l'attribut \"marque\" correspond à \"Citroën\" :"
   ]
  },
  {
   "cell_type": "code",
   "execution_count": 10,
   "id": "2d484d44",
   "metadata": {},
   "outputs": [
    {
     "data": {
      "text/plain": [
       "WriteResult({ \"nRemoved\" : 2 })"
      ]
     },
     "execution_count": 10,
     "metadata": {},
     "output_type": "execute_result"
    }
   ],
   "source": [
    "db.ventes.remove({\"marque\" : \"Citroën\"})"
   ]
  },
  {
   "cell_type": "markdown",
   "id": "ec775435",
   "metadata": {},
   "source": [
    "* Suppression d'un seul document :  \n",
    "   Pour ce faire, il convient d'utiliser l'attribut \"_id\" puisqu'il est unique :\n",
    "```js\n",
    "db.nomDeLaCollection.remove({\"_id\" : ObjectId(\"5612c6c0a5c56580cfacc342\")})\n",
    "``` \n",
    "\n",
    "Et voilà, vous savez tout sur la création, la suppression et la modification de bases !"
   ]
  }
 ],
 "metadata": {
  "jupytext": {
   "cell_metadata_filter": "-all",
   "formats": "md:myst",
   "text_representation": {
    "extension": ".md",
    "format_name": "myst",
    "format_version": 0.12,
    "jupytext_version": "1.9.1"
   }
  },
  "kernelspec": {
   "display_name": "IMongo",
   "language": "",
   "name": "imongo"
  },
  "language_info": {
   "codemirror_mode": "shell",
   "file_extension": ".js",
   "mimetype": "text/x-mongodb",
   "name": "javascript"
  },
  "source_map": [
   14,
   27,
   29,
   36,
   38,
   48,
   50,
   54,
   56,
   61,
   66,
   72,
   79,
   84,
   90,
   95,
   101,
   104,
   110,
   146,
   148
  ]
 },
 "nbformat": 4,
 "nbformat_minor": 5
}