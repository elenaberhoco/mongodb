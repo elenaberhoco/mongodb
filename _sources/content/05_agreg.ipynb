{
 "cells": [
  {
   "cell_type": "markdown",
   "id": "eaad1806",
   "metadata": {},
   "source": [
    "# Les requêtes d'agrégation\n",
    "\n",
    "## Regroupements\n",
    "\n",
    "* Auteurs/trices : Salomé Vavasseur, Jeremy Castrique, Dimitri Nojac\n",
    "\n",
    "Cette section traite de :\n",
    "  * somme, count, max, min, avec ou sans groupe\n",
    "\n",
    "  Le fichier que vous devez modifier pour ce chapitre est `mongo_book/content/05_agreg.md`.\n",
    "\n",
    "##  Successions d'étapes d'agrégation \n",
    "\n",
    "* Auteurs/trices : Marine BINARD, Yann CAUSEUR, Arthur CONAS\n",
    "\n",
    "\n",
    "### Introduction\n",
    "Les successions d'étapes d'agrégation vont permettre d'obtenir des requêtes proches de ce qu'on peut trouver en SQL.\n",
    "Contrairement à SQL où l'ordre est pré-défini (`SELECT FROM WHERE ORDER BY`), ici ce n'est pas le cas. Il n'empêche que **l'ordre dans lequel on place\n",
    "nos étapes est crucial.**\n",
    "\n",
    "Nos étapes peuvent toutes être effectuées une à une et indépendamment. En fait, à l'intérieur de notre `db.coll.aggregate([])`, il y aura notre liste d'étapes,\n",
    "contenues dans des crochets et séparées par des virgules, qui s'effectueront sur les données que **l'étape d'avant aura rendue.**\n",
    "\n",
    "Il peut donc être intéressant d'éxécuter le code étape par étape pour savoir sur quelles données on travaille à un moment donné.\n",
    "\n",
    "Commençons par regarder ce que peut faire chaque étape.\n",
    "\n",
    "\n",
    "### <center> Project </center>\n",
    "***Pourquoi l'utiliser ?***  \n",
    "Il peut arriver lors d'une requête d'agrégation de vouloir créer de nouvelles variables par exemple, pour des calculs. La commande `$project` permet donc de créer de nouvelles variables. Néanmoins, il faut faire attention, \n",
    "lorsque l'on crée une nouvelle variable dans une requête d'agrégation.\n",
    " Tous les attributs déjà existants pour les documents d'une collection ne sont plus mémorisés. Donc, si on veut créer une nouvelle variable, tout en gardant celles déjà existantes, il faut le mentionner dans le `$project`. \n",
    "\n",
    "***Comment ça fonctionne ?*** \n",
    "\n",
    "**Syntaxe** :  \n",
    "```\n",
    "db.coll.aggregate( \n",
    "  [\n",
    "    {$project : {<nom_nouv_att1> : <val_att1>, <nom_nouv_att2> : <val_att2>, ... }}\n",
    "  ]\n",
    ")\n",
    "```\n",
    "\n",
    "Le fait de vouloir garder un attribut déjà existant fonctionne de la même façon que la création, il faut donc renommer la variable existante.   \n",
    "\n",
    "***Exemple :***"
   ]
  },
  {
   "cell_type": "code",
   "execution_count": 1,
   "id": "f1af3b2f",
   "metadata": {},
   "outputs": [
    {
     "data": {
      "text/plain": [
       "switched to db food"
      ]
     },
     "execution_count": 1,
     "metadata": {},
     "output_type": "execute_result"
    }
   ],
   "source": [
    "use food"
   ]
  },
  {
   "cell_type": "code",
   "execution_count": 2,
   "id": "61d07fca",
   "metadata": {},
   "outputs": [
    {
     "data": {
      "text/plain": [
       "{ \"_id\" : ObjectId(\"6083b55a2fdbd3b6fdb43317\"), \"n_notes\" : 4 }\r\n",
       "{ \"_id\" : ObjectId(\"6083b55a2fdbd3b6fdb43318\"), \"n_notes\" : 4 }\r\n",
       "{ \"_id\" : ObjectId(\"6083b55a2fdbd3b6fdb43319\"), \"n_notes\" : 5 }\r\n",
       "{ \"_id\" : ObjectId(\"6083b55a2fdbd3b6fdb4331a\"), \"n_notes\" : 4 }\r\n",
       "{ \"_id\" : ObjectId(\"6083b55a2fdbd3b6fdb4331b\"), \"n_notes\" : 4 }\r\n",
       "{ \"_id\" : ObjectId(\"6083b55a2fdbd3b6fdb4331c\"), \"n_notes\" : 4 }\r\n",
       "{ \"_id\" : ObjectId(\"6083b55a2fdbd3b6fdb4331d\"), \"n_notes\" : 4 }\r\n",
       "{ \"_id\" : ObjectId(\"6083b55a2fdbd3b6fdb4331e\"), \"n_notes\" : 6 }\r\n",
       "{ \"_id\" : ObjectId(\"6083b55a2fdbd3b6fdb4331f\"), \"n_notes\" : 5 }\r\n",
       "{ \"_id\" : ObjectId(\"6083b55a2fdbd3b6fdb43320\"), \"n_notes\" : 4 }\r\n",
       "Type \"it\" for more"
      ]
     },
     "execution_count": 2,
     "metadata": {},
     "output_type": "execute_result"
    }
   ],
   "source": [
    "db.NYfood.aggregate( \n",
    "  [\n",
    "    {$project: {\"n_notes\" : {$size : '$grades'}}}\n",
    "  ]\n",
    ")"
   ]
  },
  {
   "cell_type": "markdown",
   "id": "7b3c3abd",
   "metadata": {},
   "source": [
    "Sur l’exemple ci-dessus, on vient créer une variable n_notes qui prend pour valeur la taille de la liste `grades` \n",
    "(qui contient les différentes notes attribuées aux restaurants).\n",
    "On cherche donc, ici, à compter le nombre de notes attribué à chaque restaurant.\n",
    " Mais tous les autres attributs du restaurant sont effacés. Par la suite,\n",
    " on ne pourra donc retrouver que le nombre de notes attribué et non le quartier \n",
    " ou le type de restaurant. \n",
    "Si on veut afficher le quartier en question, on doit le préciser tel que :"
   ]
  },
  {
   "cell_type": "code",
   "execution_count": 3,
   "id": "1ee21d0b",
   "metadata": {},
   "outputs": [
    {
     "data": {
      "text/plain": [
       "{ \"_id\" : ObjectId(\"6083b55a2fdbd3b6fdb43317\"), \"n_notes\" : 4, \"quartier\" : \"Brooklyn\" }\r\n",
       "{ \"_id\" : ObjectId(\"6083b55a2fdbd3b6fdb43318\"), \"n_notes\" : 4, \"quartier\" : \"Manhattan\" }\r\n",
       "{ \"_id\" : ObjectId(\"6083b55a2fdbd3b6fdb43319\"), \"n_notes\" : 5, \"quartier\" : \"Bronx\" }\r\n",
       "{ \"_id\" : ObjectId(\"6083b55a2fdbd3b6fdb4331a\"), \"n_notes\" : 4, \"quartier\" : \"Brooklyn\" }\r\n",
       "{ \"_id\" : ObjectId(\"6083b55a2fdbd3b6fdb4331b\"), \"n_notes\" : 4, \"quartier\" : \"Queens\" }\r\n",
       "{ \"_id\" : ObjectId(\"6083b55a2fdbd3b6fdb4331c\"), \"n_notes\" : 4, \"quartier\" : \"Staten Island\" }\r\n",
       "{ \"_id\" : ObjectId(\"6083b55a2fdbd3b6fdb4331d\"), \"n_notes\" : 4, \"quartier\" : \"Queens\" }\r\n",
       "{ \"_id\" : ObjectId(\"6083b55a2fdbd3b6fdb4331e\"), \"n_notes\" : 6, \"quartier\" : \"Brooklyn\" }\r\n",
       "{ \"_id\" : ObjectId(\"6083b55a2fdbd3b6fdb4331f\"), \"n_notes\" : 5, \"quartier\" : \"Brooklyn\" }\r\n",
       "{ \"_id\" : ObjectId(\"6083b55a2fdbd3b6fdb43320\"), \"n_notes\" : 4, \"quartier\" : \"Brooklyn\" }\r\n",
       "Type \"it\" for more"
      ]
     },
     "execution_count": 3,
     "metadata": {},
     "output_type": "execute_result"
    }
   ],
   "source": [
    "db.NYfood.aggregate( \n",
    "  [\n",
    "    {$project: {\"n_notes\" : {$size : '$grades'}, quartier :'$borough'}}\n",
    "  ]\n",
    ")"
   ]
  },
  {
   "cell_type": "markdown",
   "id": "754f3500",
   "metadata": {},
   "source": [
    "Avec cette requête, on peut voir le quartier du restaurant. Par ailleurs, la variable `borough` \n",
    "a été renommée `quartier`. On peut également conserver cette \n",
    "variable sans la renommer avec cette syntaxe."
   ]
  },
  {
   "cell_type": "code",
   "execution_count": 4,
   "id": "e0db29b0",
   "metadata": {},
   "outputs": [
    {
     "data": {
      "text/plain": [
       "{ \"_id\" : ObjectId(\"6083b55a2fdbd3b6fdb43317\"), \"borough\" : \"Brooklyn\", \"n_notes\" : 4 }\r\n",
       "{ \"_id\" : ObjectId(\"6083b55a2fdbd3b6fdb43318\"), \"borough\" : \"Manhattan\", \"n_notes\" : 4 }\r\n",
       "{ \"_id\" : ObjectId(\"6083b55a2fdbd3b6fdb43319\"), \"borough\" : \"Bronx\", \"n_notes\" : 5 }\r\n",
       "{ \"_id\" : ObjectId(\"6083b55a2fdbd3b6fdb4331a\"), \"borough\" : \"Brooklyn\", \"n_notes\" : 4 }\r\n",
       "{ \"_id\" : ObjectId(\"6083b55a2fdbd3b6fdb4331b\"), \"borough\" : \"Queens\", \"n_notes\" : 4 }\r\n",
       "{ \"_id\" : ObjectId(\"6083b55a2fdbd3b6fdb4331c\"), \"borough\" : \"Staten Island\", \"n_notes\" : 4 }\r\n",
       "{ \"_id\" : ObjectId(\"6083b55a2fdbd3b6fdb4331d\"), \"borough\" : \"Queens\", \"n_notes\" : 4 }\r\n",
       "{ \"_id\" : ObjectId(\"6083b55a2fdbd3b6fdb4331e\"), \"borough\" : \"Brooklyn\", \"n_notes\" : 6 }\r\n",
       "{ \"_id\" : ObjectId(\"6083b55a2fdbd3b6fdb4331f\"), \"borough\" : \"Brooklyn\", \"n_notes\" : 5 }\r\n",
       "{ \"_id\" : ObjectId(\"6083b55a2fdbd3b6fdb43320\"), \"borough\" : \"Brooklyn\", \"n_notes\" : 4 }\r\n",
       "Type \"it\" for more"
      ]
     },
     "execution_count": 4,
     "metadata": {},
     "output_type": "execute_result"
    }
   ],
   "source": [
    "db.NYfood.aggregate( \n",
    "  [\n",
    "    {$project: {\"n_notes\" : {$size : '$grades'}, borough : 1}}\n",
    "  ]\n",
    ")"
   ]
  },
  {
   "cell_type": "markdown",
   "id": "364a542c",
   "metadata": {},
   "source": [
    "***Traduction SQL :***\n",
    "\n",
    "L'équivalent en SQL de la commande `$project` est l'étape `SELECT` et `AS` qui \n",
    "permettent de créer de nouvelles variables. Par contre, en SQL,\n",
    "l'étape `AS` est facultative, la nouvelle variable prendra \n",
    "comme nom la formule du calcul. En MongoDB, elle est obligatoire ! \n",
    "Si on ne précise pas le nom de la nouvelle variable, cela affichera \n",
    "une erreur. Pour la traduction SQL de l'exemple précédent, il convient de faire attention.\n",
    "Pour rappel, les listes n'existent pas en SQL ! D'où la nécessité\n",
    "dans certains moments de faire des calculs verticaux, ce qui n'est pas nécéssaire.\n",
    "Dans notre cas, en SQL l'attribut `grades` serait une table à part entière (avec toutes les notes `grade`, une clé étrangère faisant référence au restaurant)\n",
    "Il faudrait donc faire une jointure sur celle-ci puis grouper par restaurant (en imaginant qu'il existe un ID pour chaque restaurant)\n",
    "L'exemple serait donc:   \n",
    "\n",
    " ```sql\n",
    " SELECT borough\n",
    " FROM NYfood NATURAL JOIN grades\n",
    " GROUP BY restoID\n",
    " HAVING COUNT(grade) AS \"n_notes\"\n",
    " ```\n",
    " \n",
    "### <center> Sort </center>\n",
    "\n",
    "***Pourquoi l'utiliser ?***\n",
    "\n",
    "Comme dans la plus part des langages de bases de données, MongoDB ne stocke pas les documents dans une collection dans un ordre \n",
    "en particulier. C'est pourquoi l'étape `sort` (tri en français) va permettre\n",
    " de trier l'ensemble de tous les documents d'entrée afin de les renvoyer dans\n",
    " l'ordre choisi par l'utilisateur. Nous pouvons les trier dans l'ordre croissant,\n",
    " décroissant, chronologique ou bien alphabétique selon le type du champ\n",
    " souhaitant être trié. \n",
    "Il est possible de trier sur plusieurs champs à la fois, mais dans ce cas l'ordre de tri est évalué de gauche à droite. \n",
    "Le `$sort` est finalement l'équivalent du `ORDER BY` en SQL.\n",
    "\n",
    "***Comment ça fonctionne ?***\n",
    "\n",
    "**Syntaxe** :  \n",
    "```\n",
    "db.coll.aggregate(\n",
    "\t[\n",
    "\t {$sort: {<champ1>: <sort order>, <champ2>: <sort order> ...}}\n",
    "\t]\n",
    ")\n",
    "```\n",
    "\n",
    "Le `<sort order>` peut prendre la valeur : 1 (croissant), -1 (décroissant) ou encore `{$meta: \"textScore\"}`(il s'agit d'un tri de métadonnées textScore calculées dans l'ordre décroissant).\n",
    "\n",
    "***Exemples :***\n",
    "\n",
    "Attention à bien prendre en compte le fait que lors du \n",
    "tri sur un champ contenant des valeurs en double (ou non unique),\n",
    " les documents contenant ces valeurs peuvent être renvoyés dans \n",
    " n'importe quel ordre."
   ]
  },
  {
   "cell_type": "code",
   "execution_count": 5,
   "id": "61df7419",
   "metadata": {},
   "outputs": [
    {
     "data": {
      "text/plain": [
       "{ \"_id\" : ObjectId(\"6083b55a2fdbd3b6fdb43319\"), \"address\" : { \"building\" : \"1007\", \"loc\" : { \"type\" : \"Point\", \"coordinates\" : [ -73.856077, 40.848447 ] }, \"street\" : \"Morris Park Ave\", \"zipcode\" : \"10462\" }, \"borough\" : \"Bronx\", \"cuisine\" : \"Bakery\", \"grades\" : [ { \"date\" : ISODate(\"2014-03-03T00:00:00Z\"), \"grade\" : \"A\", \"score\" : 2 }, { \"date\" : ISODate(\"2013-09-11T00:00:00Z\"), \"grade\" : \"A\", \"score\" : 6 }, { \"date\" : ISODate(\"2013-01-24T00:00:00Z\"), \"grade\" : \"A\", \"score\" : 10 }, { \"date\" : ISODate(\"2011-11-23T00:00:00Z\"), \"grade\" : \"A\", \"score\" : 9 }, { \"date\" : ISODate(\"2011-03-10T00:00:00Z\"), \"grade\" : \"B\", \"score\" : 14 } ], \"name\" : \"Morris Park Bake Shop\", \"restaurant_id\" : \"30075445\" }\r\n",
       "{ \"_id\" : ObjectId(\"6083b55a2fdbd3b6fdb43322\"), \"address\" : { \"building\" : \"2300\", \"loc\" : { \"type\" : \"Point\", \"coordinates\" : [ -73.8786113, 40.8502883 ] }, \"street\" : \"Southern Boulevard\", \"zipcode\" : \"10460\" }, \"borough\" : \"Bronx\", \"cuisine\" : \"American \", \"grades\" : [ { \"date\" : ISODate(\"2014-05-28T00:00:00Z\"), \"grade\" : \"A\", \"score\" : 11 }, { \"date\" : ISODate(\"2013-06-19T00:00:00Z\"), \"grade\" : \"A\", \"score\" : 4 }, { \"date\" : ISODate(\"2012-06-15T00:00:00Z\"), \"grade\" : \"A\", \"score\" : 3 } ], \"name\" : \"Wild Asia\", \"restaurant_id\" : \"40357217\" }\r\n",
       "{ \"_id\" : ObjectId(\"6083b55a2fdbd3b6fdb43336\"), \"address\" : { \"building\" : \"1006\", \"loc\" : { \"type\" : \"Point\", \"coordinates\" : [ -73.84856870000002, 40.8903781 ] }, \"street\" : \"East 233 Street\", \"zipcode\" : \"10466\" }, \"borough\" : \"Bronx\", \"cuisine\" : \"Ice Cream, Gelato, Yogurt, Ices\", \"grades\" : [ { \"date\" : ISODate(\"2014-04-24T00:00:00Z\"), \"grade\" : \"A\", \"score\" : 10 }, { \"date\" : ISODate(\"2013-09-05T00:00:00Z\"), \"grade\" : \"A\", \"score\" : 10 }, { \"date\" : ISODate(\"2013-02-21T00:00:00Z\"), \"grade\" : \"A\", \"score\" : 9 }, { \"date\" : ISODate(\"2012-07-03T00:00:00Z\"), \"grade\" : \"A\", \"score\" : 11 }, { \"date\" : ISODate(\"2011-07-11T00:00:00Z\"), \"grade\" : \"A\", \"score\" : 5 } ], \"name\" : \"Carvel Ice Cream\", \"restaurant_id\" : \"40363093\" }\r\n",
       "{ \"_id\" : ObjectId(\"6083b55a2fdbd3b6fdb43339\"), \"address\" : { \"building\" : \"1236\", \"loc\" : { \"type\" : \"Point\", \"coordinates\" : [ -73.8893654, 40.81376179999999 ] }, \"street\" : \"238 Spofford Ave\", \"zipcode\" : \"10474\" }, \"borough\" : \"Bronx\", \"cuisine\" : \"Chinese\", \"grades\" : [ { \"date\" : ISODate(\"2013-12-30T00:00:00Z\"), \"grade\" : \"A\", \"score\" : 8 }, { \"date\" : ISODate(\"2013-01-08T00:00:00Z\"), \"grade\" : \"A\", \"score\" : 10 }, { \"date\" : ISODate(\"2012-06-12T00:00:00Z\"), \"grade\" : \"B\", \"score\" : 15 } ], \"name\" : \"Happy Garden\", \"restaurant_id\" : \"40363289\" }\r\n",
       "{ \"_id\" : ObjectId(\"6083b55a2fdbd3b6fdb4334b\"), \"address\" : { \"building\" : \"277\", \"loc\" : { \"type\" : \"Point\", \"coordinates\" : [ -73.8941893, 40.8634684 ] }, \"street\" : \"East Kingsbridge Road\", \"zipcode\" : \"10458\" }, \"borough\" : \"Bronx\", \"cuisine\" : \"Chinese\", \"grades\" : [ { \"date\" : ISODate(\"2014-03-03T00:00:00Z\"), \"grade\" : \"A\", \"score\" : 10 }, { \"date\" : ISODate(\"2013-09-26T00:00:00Z\"), \"grade\" : \"A\", \"score\" : 10 }, { \"date\" : ISODate(\"2013-03-19T00:00:00Z\"), \"grade\" : \"A\", \"score\" : 10 }, { \"date\" : ISODate(\"2012-08-29T00:00:00Z\"), \"grade\" : \"A\", \"score\" : 11 }, { \"date\" : ISODate(\"2011-08-17T00:00:00Z\"), \"grade\" : \"A\", \"score\" : 13 } ], \"name\" : \"Happy Garden\", \"restaurant_id\" : \"40364296\" }\r\n",
       "{ \"_id\" : ObjectId(\"6083b55a2fdbd3b6fdb43356\"), \"address\" : { \"building\" : \"658\", \"loc\" : { \"type\" : \"Point\", \"coordinates\" : [ -73.81363999999999, 40.82941100000001 ] }, \"street\" : \"Clarence Ave\", \"zipcode\" : \"10465\" }, \"borough\" : \"Bronx\", \"cuisine\" : \"American \", \"grades\" : [ { \"date\" : ISODate(\"2014-06-21T00:00:00Z\"), \"grade\" : \"A\", \"score\" : 5 }, { \"date\" : ISODate(\"2012-07-11T00:00:00Z\"), \"grade\" : \"A\", \"score\" : 10 } ], \"name\" : \"Manhem Club\", \"restaurant_id\" : \"40364363\" }\r\n",
       "{ \"_id\" : ObjectId(\"6083b55a2fdbd3b6fdb4336d\"), \"address\" : { \"building\" : \"2222\", \"loc\" : { \"type\" : \"Point\", \"coordinates\" : [ -73.84971759999999, 40.8304811 ] }, \"street\" : \"Haviland Avenue\", \"zipcode\" : \"10462\" }, \"borough\" : \"Bronx\", \"cuisine\" : \"American \", \"grades\" : [ { \"date\" : ISODate(\"2014-12-18T00:00:00Z\"), \"grade\" : \"A\", \"score\" : 7 }, { \"date\" : ISODate(\"2014-05-01T00:00:00Z\"), \"grade\" : \"B\", \"score\" : 17 }, { \"date\" : ISODate(\"2013-03-14T00:00:00Z\"), \"grade\" : \"A\", \"score\" : 12 }, { \"date\" : ISODate(\"2012-09-20T00:00:00Z\"), \"grade\" : \"A\", \"score\" : 9 }, { \"date\" : ISODate(\"2012-02-08T00:00:00Z\"), \"grade\" : \"B\", \"score\" : 19 } ], \"name\" : \"The New Starling Athletic Club Of The Bronx\", \"restaurant_id\" : \"40364956\" }\r\n",
       "{ \"_id\" : ObjectId(\"6083b55a2fdbd3b6fdb43388\"), \"address\" : { \"building\" : \"72\", \"loc\" : { \"type\" : \"Point\", \"coordinates\" : [ -73.92506, 40.8275556 ] }, \"street\" : \"East  161 Street\", \"zipcode\" : \"10451\" }, \"borough\" : \"Bronx\", \"cuisine\" : \"American \", \"grades\" : [ { \"date\" : ISODate(\"2014-04-15T00:00:00Z\"), \"grade\" : \"A\", \"score\" : 9 }, { \"date\" : ISODate(\"2013-11-14T00:00:00Z\"), \"grade\" : \"A\", \"score\" : 4 }, { \"date\" : ISODate(\"2013-07-29T00:00:00Z\"), \"grade\" : \"A\", \"score\" : 10 }, { \"date\" : ISODate(\"2012-12-31T00:00:00Z\"), \"grade\" : \"B\", \"score\" : 15 }, { \"date\" : ISODate(\"2012-05-30T00:00:00Z\"), \"grade\" : \"A\", \"score\" : 13 }, { \"date\" : ISODate(\"2012-01-09T00:00:00Z\"), \"grade\" : \"A\", \"score\" : 10 }, { \"date\" : ISODate(\"2011-08-15T00:00:00Z\"), \"grade\" : \"C\", \"score\" : 37 } ], \"name\" : \"Yankee Tavern\", \"restaurant_id\" : \"40365499\" }\r\n",
       "{ \"_id\" : ObjectId(\"6083b55a2fdbd3b6fdb43397\"), \"address\" : { \"building\" : \"331\", \"loc\" : { \"type\" : \"Point\", \"coordinates\" : [ -73.87786539999999, 40.8724377 ] }, \"street\" : \"East  204 Street\", \"zipcode\" : \"10467\" }, \"borough\" : \"Bronx\", \"cuisine\" : \"Irish\", \"grades\" : [ { \"date\" : ISODate(\"2014-08-26T00:00:00Z\"), \"grade\" : \"A\", \"score\" : 10 }, { \"date\" : ISODate(\"2014-03-26T00:00:00Z\"), \"grade\" : \"B\", \"score\" : 23 }, { \"date\" : ISODate(\"2013-09-11T00:00:00Z\"), \"grade\" : \"A\", \"score\" : 13 }, { \"date\" : ISODate(\"2012-12-18T00:00:00Z\"), \"grade\" : \"B\", \"score\" : 27 }, { \"date\" : ISODate(\"2011-10-20T00:00:00Z\"), \"grade\" : \"A\", \"score\" : 13 } ], \"name\" : \"Mcdwyers Pub\", \"restaurant_id\" : \"40365893\" }\r\n",
       "{ \"_id\" : ObjectId(\"6083b55a2fdbd3b6fdb433b0\"), \"address\" : { \"building\" : \"5820\", \"loc\" : { \"type\" : \"Point\", \"coordinates\" : [ -73.9002615, 40.885186 ] }, \"street\" : \"Broadway\", \"zipcode\" : \"10463\" }, \"borough\" : \"Bronx\", \"cuisine\" : \"American \", \"grades\" : [ { \"date\" : ISODate(\"2014-02-26T00:00:00Z\"), \"grade\" : \"A\", \"score\" : 5 }, { \"date\" : ISODate(\"2013-10-09T00:00:00Z\"), \"grade\" : \"B\", \"score\" : 19 }, { \"date\" : ISODate(\"2013-05-15T00:00:00Z\"), \"grade\" : \"A\", \"score\" : 9 }, { \"date\" : ISODate(\"2012-11-20T00:00:00Z\"), \"grade\" : \"B\", \"score\" : 18 }, { \"date\" : ISODate(\"2011-10-17T00:00:00Z\"), \"grade\" : \"A\", \"score\" : 10 }, { \"date\" : ISODate(\"2011-06-22T00:00:00Z\"), \"grade\" : \"C\", \"score\" : 35 } ], \"name\" : \"The Punch Bowl\", \"restaurant_id\" : \"40366497\" }\r\n",
       "Type \"it\" for more"
      ]
     },
     "execution_count": 5,
     "metadata": {},
     "output_type": "execute_result"
    }
   ],
   "source": [
    "db.NYfood.aggregate(\n",
    "   [\n",
    "\t {$sort : {borough : 1}}\n",
    "   ]\n",
    ")"
   ]
  },
  {
   "cell_type": "markdown",
   "id": "f9ce70bf",
   "metadata": {},
   "source": [
    "***Traduction SQL :***\n",
    "\n",
    "```sql\n",
    "SELECT borough\n",
    "FROM NYfood \n",
    "ORDER BY borough\n",
    "```\n",
    "\n",
    "En effet, dans l'exemple ci-dessus, le champ quartier n'est \n",
    "pas un champ avec des valeurs uniques. Si un ordre de tri \n",
    "cohérent est souhaité, il est important d'au moins inclure \n",
    "un champ dans votre tri qui contient des valeurs uniques. \n",
    "Généralement, le moyen le plus simple de garantir cela consiste \n",
    "à inclure le champ _id dans la requête de tri."
   ]
  },
  {
   "cell_type": "code",
   "execution_count": 6,
   "id": "fcf68481",
   "metadata": {},
   "outputs": [
    {
     "data": {
      "text/plain": [
       "{ \"_id\" : ObjectId(\"6083b55a2fdbd3b6fdb43319\"), \"address\" : { \"building\" : \"1007\", \"loc\" : { \"type\" : \"Point\", \"coordinates\" : [ -73.856077, 40.848447 ] }, \"street\" : \"Morris Park Ave\", \"zipcode\" : \"10462\" }, \"borough\" : \"Bronx\", \"cuisine\" : \"Bakery\", \"grades\" : [ { \"date\" : ISODate(\"2014-03-03T00:00:00Z\"), \"grade\" : \"A\", \"score\" : 2 }, { \"date\" : ISODate(\"2013-09-11T00:00:00Z\"), \"grade\" : \"A\", \"score\" : 6 }, { \"date\" : ISODate(\"2013-01-24T00:00:00Z\"), \"grade\" : \"A\", \"score\" : 10 }, { \"date\" : ISODate(\"2011-11-23T00:00:00Z\"), \"grade\" : \"A\", \"score\" : 9 }, { \"date\" : ISODate(\"2011-03-10T00:00:00Z\"), \"grade\" : \"B\", \"score\" : 14 } ], \"name\" : \"Morris Park Bake Shop\", \"restaurant_id\" : \"30075445\" }\r\n",
       "{ \"_id\" : ObjectId(\"6083b55a2fdbd3b6fdb43322\"), \"address\" : { \"building\" : \"2300\", \"loc\" : { \"type\" : \"Point\", \"coordinates\" : [ -73.8786113, 40.8502883 ] }, \"street\" : \"Southern Boulevard\", \"zipcode\" : \"10460\" }, \"borough\" : \"Bronx\", \"cuisine\" : \"American \", \"grades\" : [ { \"date\" : ISODate(\"2014-05-28T00:00:00Z\"), \"grade\" : \"A\", \"score\" : 11 }, { \"date\" : ISODate(\"2013-06-19T00:00:00Z\"), \"grade\" : \"A\", \"score\" : 4 }, { \"date\" : ISODate(\"2012-06-15T00:00:00Z\"), \"grade\" : \"A\", \"score\" : 3 } ], \"name\" : \"Wild Asia\", \"restaurant_id\" : \"40357217\" }\r\n",
       "{ \"_id\" : ObjectId(\"6083b55a2fdbd3b6fdb43336\"), \"address\" : { \"building\" : \"1006\", \"loc\" : { \"type\" : \"Point\", \"coordinates\" : [ -73.84856870000002, 40.8903781 ] }, \"street\" : \"East 233 Street\", \"zipcode\" : \"10466\" }, \"borough\" : \"Bronx\", \"cuisine\" : \"Ice Cream, Gelato, Yogurt, Ices\", \"grades\" : [ { \"date\" : ISODate(\"2014-04-24T00:00:00Z\"), \"grade\" : \"A\", \"score\" : 10 }, { \"date\" : ISODate(\"2013-09-05T00:00:00Z\"), \"grade\" : \"A\", \"score\" : 10 }, { \"date\" : ISODate(\"2013-02-21T00:00:00Z\"), \"grade\" : \"A\", \"score\" : 9 }, { \"date\" : ISODate(\"2012-07-03T00:00:00Z\"), \"grade\" : \"A\", \"score\" : 11 }, { \"date\" : ISODate(\"2011-07-11T00:00:00Z\"), \"grade\" : \"A\", \"score\" : 5 } ], \"name\" : \"Carvel Ice Cream\", \"restaurant_id\" : \"40363093\" }\r\n",
       "{ \"_id\" : ObjectId(\"6083b55a2fdbd3b6fdb43339\"), \"address\" : { \"building\" : \"1236\", \"loc\" : { \"type\" : \"Point\", \"coordinates\" : [ -73.8893654, 40.81376179999999 ] }, \"street\" : \"238 Spofford Ave\", \"zipcode\" : \"10474\" }, \"borough\" : \"Bronx\", \"cuisine\" : \"Chinese\", \"grades\" : [ { \"date\" : ISODate(\"2013-12-30T00:00:00Z\"), \"grade\" : \"A\", \"score\" : 8 }, { \"date\" : ISODate(\"2013-01-08T00:00:00Z\"), \"grade\" : \"A\", \"score\" : 10 }, { \"date\" : ISODate(\"2012-06-12T00:00:00Z\"), \"grade\" : \"B\", \"score\" : 15 } ], \"name\" : \"Happy Garden\", \"restaurant_id\" : \"40363289\" }\r\n",
       "{ \"_id\" : ObjectId(\"6083b55a2fdbd3b6fdb4334b\"), \"address\" : { \"building\" : \"277\", \"loc\" : { \"type\" : \"Point\", \"coordinates\" : [ -73.8941893, 40.8634684 ] }, \"street\" : \"East Kingsbridge Road\", \"zipcode\" : \"10458\" }, \"borough\" : \"Bronx\", \"cuisine\" : \"Chinese\", \"grades\" : [ { \"date\" : ISODate(\"2014-03-03T00:00:00Z\"), \"grade\" : \"A\", \"score\" : 10 }, { \"date\" : ISODate(\"2013-09-26T00:00:00Z\"), \"grade\" : \"A\", \"score\" : 10 }, { \"date\" : ISODate(\"2013-03-19T00:00:00Z\"), \"grade\" : \"A\", \"score\" : 10 }, { \"date\" : ISODate(\"2012-08-29T00:00:00Z\"), \"grade\" : \"A\", \"score\" : 11 }, { \"date\" : ISODate(\"2011-08-17T00:00:00Z\"), \"grade\" : \"A\", \"score\" : 13 } ], \"name\" : \"Happy Garden\", \"restaurant_id\" : \"40364296\" }\r\n",
       "{ \"_id\" : ObjectId(\"6083b55a2fdbd3b6fdb43356\"), \"address\" : { \"building\" : \"658\", \"loc\" : { \"type\" : \"Point\", \"coordinates\" : [ -73.81363999999999, 40.82941100000001 ] }, \"street\" : \"Clarence Ave\", \"zipcode\" : \"10465\" }, \"borough\" : \"Bronx\", \"cuisine\" : \"American \", \"grades\" : [ { \"date\" : ISODate(\"2014-06-21T00:00:00Z\"), \"grade\" : \"A\", \"score\" : 5 }, { \"date\" : ISODate(\"2012-07-11T00:00:00Z\"), \"grade\" : \"A\", \"score\" : 10 } ], \"name\" : \"Manhem Club\", \"restaurant_id\" : \"40364363\" }\r\n",
       "{ \"_id\" : ObjectId(\"6083b55a2fdbd3b6fdb4336d\"), \"address\" : { \"building\" : \"2222\", \"loc\" : { \"type\" : \"Point\", \"coordinates\" : [ -73.84971759999999, 40.8304811 ] }, \"street\" : \"Haviland Avenue\", \"zipcode\" : \"10462\" }, \"borough\" : \"Bronx\", \"cuisine\" : \"American \", \"grades\" : [ { \"date\" : ISODate(\"2014-12-18T00:00:00Z\"), \"grade\" : \"A\", \"score\" : 7 }, { \"date\" : ISODate(\"2014-05-01T00:00:00Z\"), \"grade\" : \"B\", \"score\" : 17 }, { \"date\" : ISODate(\"2013-03-14T00:00:00Z\"), \"grade\" : \"A\", \"score\" : 12 }, { \"date\" : ISODate(\"2012-09-20T00:00:00Z\"), \"grade\" : \"A\", \"score\" : 9 }, { \"date\" : ISODate(\"2012-02-08T00:00:00Z\"), \"grade\" : \"B\", \"score\" : 19 } ], \"name\" : \"The New Starling Athletic Club Of The Bronx\", \"restaurant_id\" : \"40364956\" }\r\n",
       "{ \"_id\" : ObjectId(\"6083b55a2fdbd3b6fdb43388\"), \"address\" : { \"building\" : \"72\", \"loc\" : { \"type\" : \"Point\", \"coordinates\" : [ -73.92506, 40.8275556 ] }, \"street\" : \"East  161 Street\", \"zipcode\" : \"10451\" }, \"borough\" : \"Bronx\", \"cuisine\" : \"American \", \"grades\" : [ { \"date\" : ISODate(\"2014-04-15T00:00:00Z\"), \"grade\" : \"A\", \"score\" : 9 }, { \"date\" : ISODate(\"2013-11-14T00:00:00Z\"), \"grade\" : \"A\", \"score\" : 4 }, { \"date\" : ISODate(\"2013-07-29T00:00:00Z\"), \"grade\" : \"A\", \"score\" : 10 }, { \"date\" : ISODate(\"2012-12-31T00:00:00Z\"), \"grade\" : \"B\", \"score\" : 15 }, { \"date\" : ISODate(\"2012-05-30T00:00:00Z\"), \"grade\" : \"A\", \"score\" : 13 }, { \"date\" : ISODate(\"2012-01-09T00:00:00Z\"), \"grade\" : \"A\", \"score\" : 10 }, { \"date\" : ISODate(\"2011-08-15T00:00:00Z\"), \"grade\" : \"C\", \"score\" : 37 } ], \"name\" : \"Yankee Tavern\", \"restaurant_id\" : \"40365499\" }\r\n",
       "{ \"_id\" : ObjectId(\"6083b55a2fdbd3b6fdb43397\"), \"address\" : { \"building\" : \"331\", \"loc\" : { \"type\" : \"Point\", \"coordinates\" : [ -73.87786539999999, 40.8724377 ] }, \"street\" : \"East  204 Street\", \"zipcode\" : \"10467\" }, \"borough\" : \"Bronx\", \"cuisine\" : \"Irish\", \"grades\" : [ { \"date\" : ISODate(\"2014-08-26T00:00:00Z\"), \"grade\" : \"A\", \"score\" : 10 }, { \"date\" : ISODate(\"2014-03-26T00:00:00Z\"), \"grade\" : \"B\", \"score\" : 23 }, { \"date\" : ISODate(\"2013-09-11T00:00:00Z\"), \"grade\" : \"A\", \"score\" : 13 }, { \"date\" : ISODate(\"2012-12-18T00:00:00Z\"), \"grade\" : \"B\", \"score\" : 27 }, { \"date\" : ISODate(\"2011-10-20T00:00:00Z\"), \"grade\" : \"A\", \"score\" : 13 } ], \"name\" : \"Mcdwyers Pub\", \"restaurant_id\" : \"40365893\" }\r\n",
       "{ \"_id\" : ObjectId(\"6083b55a2fdbd3b6fdb433b0\"), \"address\" : { \"building\" : \"5820\", \"loc\" : { \"type\" : \"Point\", \"coordinates\" : [ -73.9002615, 40.885186 ] }, \"street\" : \"Broadway\", \"zipcode\" : \"10463\" }, \"borough\" : \"Bronx\", \"cuisine\" : \"American \", \"grades\" : [ { \"date\" : ISODate(\"2014-02-26T00:00:00Z\"), \"grade\" : \"A\", \"score\" : 5 }, { \"date\" : ISODate(\"2013-10-09T00:00:00Z\"), \"grade\" : \"B\", \"score\" : 19 }, { \"date\" : ISODate(\"2013-05-15T00:00:00Z\"), \"grade\" : \"A\", \"score\" : 9 }, { \"date\" : ISODate(\"2012-11-20T00:00:00Z\"), \"grade\" : \"B\", \"score\" : 18 }, { \"date\" : ISODate(\"2011-10-17T00:00:00Z\"), \"grade\" : \"A\", \"score\" : 10 }, { \"date\" : ISODate(\"2011-06-22T00:00:00Z\"), \"grade\" : \"C\", \"score\" : 35 } ], \"name\" : \"The Punch Bowl\", \"restaurant_id\" : \"40366497\" }\r\n",
       "Type \"it\" for more"
      ]
     },
     "execution_count": 6,
     "metadata": {},
     "output_type": "execute_result"
    }
   ],
   "source": [
    "db.NYfood.aggregate(\n",
    "   [\n",
    "     {$sort : {borough : 1, _id : 1}}\n",
    "   ]\n",
    ")"
   ]
  },
  {
   "cell_type": "markdown",
   "id": "608f9932",
   "metadata": {},
   "source": [
    "Cette fois ci, la requête affichera l'ensemble \n",
    "de la collection avec les noms de quartier \n",
    "affichés par ordre alphabétique. Les collections \n",
    "du quartier de \"Bronx\" seront les premières à être affichées, \n",
    "puis ensuite l'ordre par identifiant sera conservé \n",
    "lorsque le nom de quartier sera le même pour plusieurs collections.\n",
    "\n",
    "***Traduction SQL :***\n",
    " \n",
    "```sql\n",
    "SELECT borough\n",
    "FROM NYfood \n",
    "ORDER BY borough, _id\n",
    "```\n",
    "\n",
    "### <center> Limit </center>\n",
    "***Pourquoi l'utiliser ?***\n",
    "\n",
    "L'étape `$limit` va simplement permettre de \n",
    "limiter le nombre de documents voulant être \n",
    "affichés par la requête. Il n'y a pas grand \n",
    "intérêt à utiliser le limit tout seul. Généralement, \n",
    "il est utilisé avec l'étape `$sort` vu précédemment.\n",
    "\n",
    "***Comment ça fonctionne ?***\n",
    "\n",
    "**Syntaxe** :  \n",
    "```\n",
    "db.coll.aggregate(\n",
    "\t[\n",
    "\t {$limit : 5} \n",
    "\t]\n",
    ")\n",
    "```\n",
    "L'argument qui est pris par le `$limit` est toujours\n",
    " un entier positif, qui va déterminer le nombre \n",
    " de collections que l'on souhaite afficher.\n",
    "\n",
    "***Exemple***\n",
    "\n",
    "Dans cet exemple, on souhaite afficher les 3 quartiers \n",
    "possédant le plus de restaurants."
   ]
  },
  {
   "cell_type": "code",
   "execution_count": 7,
   "id": "a147805e",
   "metadata": {},
   "outputs": [
    {
     "data": {
      "text/plain": [
       "{ \"_id\" : \"Manhattan\", \"nb\" : 10258 }\r\n",
       "{ \"_id\" : \"Brooklyn\", \"nb\" : 6085 }\r\n",
       "{ \"_id\" : \"Queens\", \"nb\" : 5656 }"
      ]
     },
     "execution_count": 7,
     "metadata": {},
     "output_type": "execute_result"
    }
   ],
   "source": [
    "db.NYfood.aggregate(\n",
    "\t[\n",
    "     {$group: {_id: \"$borough\", nb: {$sum: 1}}},\n",
    "     {$sort: {nb: -1}},\n",
    "     {$limit: 3}\n",
    "\t]\n",
    ") "
   ]
  },
  {
   "cell_type": "markdown",
   "id": "71efa76a",
   "metadata": {},
   "source": [
    "On remarque ici que nous ne pouvons pas utiliser \n",
    "l'étape `$limit` seul sans le sort.\n",
    " Nous avons d'abord besoin de trier le nombre \n",
    " de restaurants par ordre décroissant puis enfin  \n",
    " préciser que nous souhaitons obtenir seulement les \n",
    " 3 premiers quartiers contenant le plus de restaurants.\n",
    " \n",
    "***Traduction SQL :***\n",
    "```sql\n",
    "SELECT count(borough)\n",
    "FROM NYfood \n",
    "GROUP BY borough\n",
    "ORDER BY count(borough) desc\n",
    "LIMIT 3\n",
    "```\n",
    "\n",
    "### <center> Match  </center>\n",
    "\n",
    "***Pourquoi l'utiliser***\n",
    "\n",
    "`$match` peut être utilisé comme un filtre, avec une condition. On pourrait le mettre n'importe où dans notre requête mais il est particulièrement intéressant en début ou en fin de requête.\n",
    "\n",
    "\n",
    "***Comment ça fonctionne ?***\n",
    "\n",
    "**Syntaxe** : \n",
    "\n",
    "Le `$match` est un requête du type de celles qu'on passe à `find`.\n",
    "\n",
    "***Exemple :***"
   ]
  },
  {
   "cell_type": "code",
   "execution_count": 8,
   "id": "862a222e",
   "metadata": {},
   "outputs": [
    {
     "data": {
      "text/plain": [
       "{ \"_id\" : \"A\", \"n\" : 17324 }\r\n",
       "{ \"_id\" : \"B\", \"n\" : 3055 }"
      ]
     },
     "execution_count": 8,
     "metadata": {},
     "output_type": "execute_result"
    }
   ],
   "source": [
    "db.NYfood.aggregate( \n",
    "  [  \n",
    "   {$match: {\"borough\": 'Brooklyn'}},\n",
    "   {$unwind: \"$grades\"},\n",
    "   {$group : {_id: \"$grades.grade\",\n",
    "       n:{$sum:1}\n",
    "            }\n",
    "          },\n",
    "    {$match:{n:{$gt:1000}}},\n",
    "  ]\n",
    ")"
   ]
  },
  {
   "cell_type": "markdown",
   "id": "f9099b05",
   "metadata": {},
   "source": [
    "```SQL\n",
    "SELECT COUNT(grade) as n\n",
    "FROM NYfood\n",
    "WHERE Borough='Brooklyn'\n",
    "GROUP BY grade\n",
    "HAVING n > 1000\n",
    "``` \n",
    "Ici le premier `$match` sert comme un `WHERE`, \n",
    "et le deuxième comme un `HAVING` en SQL.\n",
    "\n",
    "Dans tous les cas, le `$match` fait une sélection sur le jeu de données en fonction d'une condition, au moment où il est placé.\n",
    "\n",
    "Si le `$match` est au début, il fera une sélection sur l'ensemble des données (ici `NYfood`) mais n'aura pas accès aux opérations qui sont effectuées après (comme le `$group` dans notre cas).\n",
    "C'est pour cela qu'on utilise aussi le `$match` plus tard, pour avoir accès aux données créées avec nos bouts de requêtes précédents, ce qui permet ici d'avoir accès au `n`.\n",
    "Cependant, ce dernier `$match` n'a pas accès à toute la base de données `NYfood` et n'agit que sur les résultats des requêtes précédentes.\n",
    "\n",
    "### <center> Unwind </center>\n",
    "\n",
    "***Pourquoi l'utiliser ?*** \n",
    " \n",
    "Il arrive que les documents de certaines collections possèdent pour attribut une liste. Lorsque l'on effectue une requête d'agrégation, il peut être nécéssaire d'agir non pas sur la liste mais sur chaque élément de la liste. Pour cela, on utilise la commande `$unwind`. Elle permet, pour chaque élément de la liste, de dupliquer le document pour chaque valeur de la liste. \n",
    "\n",
    "***Comment ça fonctionne ?***\n",
    "\n",
    "**Syntaxe** :\n",
    "```\n",
    "db.coll.aggregate( \n",
    "  [\n",
    "   {$unwind : \"$att\"}}\n",
    "  ]\n",
    ")\n",
    "```\n",
    "En général, un `$unwid` seul n'a peu d'intérêt.`$att` est une liste de taille 10 que la collection comporte 1000 individus, la requête d'exemple renverra un résultat de 10 000 lignes (10 * 1000)\n",
    "\n",
    "***Exemple***"
   ]
  },
  {
   "cell_type": "code",
   "execution_count": 9,
   "id": "4d08a8b5",
   "metadata": {},
   "outputs": [
    {
     "data": {
      "text/plain": [
       "{ \"_id\" : \"B\", \"n\" : 12602 }\r\n",
       "{ \"_id\" : \"Z\", \"n\" : 1337 }\r\n",
       "{ \"_id\" : \"P\", \"n\" : 1197 }\r\n",
       "{ \"_id\" : \"C\", \"n\" : 3145 }\r\n",
       "{ \"_id\" : \"A\", \"n\" : 74652 }\r\n",
       "{ \"_id\" : \"Not Yet Graded\", \"n\" : 524 }"
      ]
     },
     "execution_count": 9,
     "metadata": {},
     "output_type": "execute_result"
    }
   ],
   "source": [
    "db.NYfood.aggregate( \n",
    "  [\n",
    "   {$unwind :\"$grades\"},\n",
    "   {$group: {_id : '$grades.grade', \n",
    "             n: {$sum:1}}\n",
    "    },\n",
    "  ]\n",
    ")\n"
   ]
  },
  {
   "cell_type": "markdown",
   "id": "55ebde8b",
   "metadata": {},
   "source": [
    "Voici un exemple concret d'utilisation d'un `$unwind`. Dans la requête, on cherche à compter le nombre de A ayant été attribués à l'ensemble des restaurants de la collection, puis le nombre de B, C .... \n",
    "Pour que cette requête fonctionne, le `$unwind` est obligatoire, sinon on considère la liste entière des notes et on ne peut donc pas compter. \n",
    " \n",
    " ***Traduction SQL :*** \n",
    " \n",
    "Il n'existe pas réellement d'équivalent SQL au `$unwind`. Néanmoins, il se rapproche d'une opération de jointure sans aucun filtre.\n",
    "\n",
    "### Quelques requêtes pour tout comprendre\n",
    "Afin d'illustrer le fonctionnement pas à pas, découpons une requête en détail.\n",
    "Pour cet exemple, on veut  **les 3 notes les plus données dans les restaurants du quartier de Brooklyn**.\n",
    "La première étape naturelle est de sélectionner les restaurants présents uniquement dans le quartier de Brooklyn.\n",
    "Pour cela on utilise `$match`, qui retourne uniquement les restaurants de Brooklyn.\n",
    "```\n",
    "db.NYfood.aggregate(\n",
    "\t[\n",
    "     {$match: {\"borough\": \"Brooklyn\"}},\n",
    "    \t]\n",
    ") \n",
    "```\n",
    "Dans un second temps, il faut voir que pour récupérer les différentes valeurs de notes, il faut acceder à chaque élément de la liste et non la liste entière. Pour y accéder, il faut utiliser la commande `$unwind`, qui rendra donc à cette étape tous les restaurants de Brooklyn associés à une note qu'il a obtenu (Attention, cela retourne beaucoup de résultats : nombre de restaurants * nombre de notes)\n",
    "\n",
    "```\n",
    "db.NYfood.aggregate(\n",
    "\t[\n",
    "     {$match: {\"borough\": \"Brooklyn\"}},\n",
    "     {$unwind: \"$grades\"},\n",
    "    ]\n",
    ") \n",
    "```\n",
    "Ensuite, pour savoir quelle note a été la plus attribuée, il faut grouper pour chaque valeur de note. On utilise donc un `$group` sur l'attribut `$grades.grade$ (accessible grâce a `$unwind`). Puis, on décide de compter le nombre d'itérations de chaque note stockée dans la variable `nb`. Cette étape nous retourne donc le nombre de fois où chaque note a été attribuée à un restaurant.\n",
    "```\n",
    "db.NYfood.aggregate(\n",
    "\t[\n",
    "     {$match: {\"borough\": \"Brooklyn\"}},\n",
    "     {$unwind: \"$grades\"},\n",
    "     {$group: {_id: \"$grades.grade\", nb: {$sum: 1}}},\n",
    "    ]\n",
    ") \n",
    "```\n",
    "Nous sommes donc tout proches du résultat espéré. Il reste maintenant à trier les résultats par ordre décroissant, afin d'avoir les notes les plus données au début : `{$sort: {nb: -1}}`. Mais comme l'énoncé le précise, on souhaite afficher uniquement les 3 notes les plus données. Etant donné que les notes sont triées, il faut seulement préciser : `{$limit: 3}`.\n",
    "```\n",
    "db.NYfood.aggregate(\n",
    "\t[\n",
    "     {$match: {\"borough\": \"Brooklyn\"}},\n",
    "     {$unwind: \"$grades\"},\n",
    "     {$group: {_id: \"$grades.grade\", nb: {$sum: 1}}},\n",
    "     {$sort: {nb: -1}},\n",
    "     {$limit: 3}\n",
    "    ]\n",
    ") \n",
    "```\n",
    "On obtient bien, avec cette requête, les 3 notes les plus attribuées aux restaurants de Brooklyn !\n",
    "\n",
    "``` {code-cell}\n",
    " db.NYfood.aggregate(\n",
    "\t[\n",
    "\n",
    "     {$project: {taille: {$size: \"$grades\"}}},\n",
    "     {$match :{taille:{$gt:2}}},\n",
    "     {$group: {_id: null,\n",
    "      nb_min: {$min: \"$taille\"},\n",
    "      nb_max: {$max: \"$taille\"}}\n",
    "                        },         \n",
    "    ]\n",
    ") \n",
    "```\n",
    "Dans cette deuxième requête, on montre bien ici qu'il n'y a pas d'ordre pré-défini d'étape, et ici le `$match` n'est ni au début de la requête, ni à la fin.\n",
    "\n",
    "Expliquons cette requête (qui n'a pas beaucoup d'intérêt pratique).\n",
    "\n",
    "* `$project` : création de la variable taille, qui correspond au nombre de notes données à un restaurant.\n",
    "* `$match` : Dans le tableau rendu précédemment, on ne prend que les restaurants ayant plus de 2 notes.\n",
    "* `$group` : Sur le résultat de la requête précédente, on groupe tout les restaurants (_id : null), et on regarde le nombre minimum et maximum de notes attribuées\n",
    "à un restaurant. (Ayant sélectionné les individus supérieurs à deux, le minimum ne pouvait être que 3 ou plus.\n",
    "\n",
    "En SQL, on aurait :\n",
    "```sql\n",
    "SELECT COUNT(*) AS taille, MAX(taille),MIN(taille)\n",
    "FROM NYfood\n",
    "WHERE taille>=2\n",
    "```\n",
    "**Résultat final : Le nombre minimum et maximum de notes attribué aux restaurants ayant au moins deux notes.**"
   ]
  }
 ],
 "metadata": {
  "jupytext": {
   "cell_metadata_filter": "-all",
   "formats": "md:myst",
   "text_representation": {
    "extension": ".md",
    "format_name": "myst",
    "format_version": 0.12,
    "jupytext_version": "1.9.1"
   }
  },
  "kernelspec": {
   "display_name": "IMongo",
   "language": "",
   "name": "imongo"
  },
  "language_info": {
   "codemirror_mode": "shell",
   "file_extension": ".js",
   "mimetype": "text/x-mongodb",
   "name": "javascript"
  },
  "source_map": [
   14,
   65,
   70,
   76,
   84,
   90,
   95,
   101,
   155,
   161,
   176,
   182,
   225,
   233,
   264,
   276,
   315,
   325
  ]
 },
 "nbformat": 4,
 "nbformat_minor": 5
}