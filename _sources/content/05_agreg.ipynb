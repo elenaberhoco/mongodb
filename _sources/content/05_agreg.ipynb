{
 "cells": [
  {
   "cell_type": "markdown",
   "id": "8797b7aa",
   "metadata": {},
   "source": [
    "# Les requêtes d'agrégation\n",
    "(sec:exec)=\n",
    "## Regroupements\n",
    "\n",
    "* Auteurs/trices : ***CASTRIQUE Jérémy, NOJAC Dimitri, VAVASSEUR Salomé***\n",
    "\n",
    "Dans cette partie, nous allons étudier **les regroupements dans les requêtes d'aggrégation**. Dans un premier temps, nous étudierons ce qu'est l'étape de regroupement. Ensuite nous regarderons comment effectuer des calculs à l'aide des 4 d'opérateurs qui sont : `$sum`, `$max`, `$min`, `$count` avec ou sans groupe.\n",
    "\n",
    "Les requêtes de regroupement vont permettre d'effectuer des opérations d'accumulation sur des documents regroupés. Il est l'équivalent de l'opérateur `GROUP BY` en SQL.\n",
    "\n",
    "**Syntaxe**\n",
    "\n",
    "```javascript\n",
    "db.coll.aggregate([\n",
    "\t{$group: {_id: <expression>, // Group By Expression\n",
    "      \t\t <field1>: { <accumulator1> : <expression1> },\n",
    "      \t\t...}\n",
    "\t}\n",
    "])\n",
    "```\n",
    "\n",
    "Pour tous les opérateurs que nous allons étudier dans cette partie du cours, la syntaxe sera identique à celle-ci.\n",
    "\n",
    "Les équivalents en SQL de l'opérateur $sum sont `COUNT(*)` ou bien `SUM` qui permettent de compter le nombre de variables.\n",
    "\n",
    "**Exemple de requête sans regroupement**\n",
    "\n",
    "````{tabbed} MongoDB\n",
    "\n",
    "```javascript\n",
    "db.coll.aggregate([\n",
    "  {$group: {_id: null, \n",
    "    \t   nb: {$sum: \"$att\"}}}\n",
    "])\n",
    "```\n",
    "````\n",
    "\n",
    "````{tabbed} SQL\n",
    "```sql\n",
    "SELECT SUM(att) as nb\n",
    "FROM t\n",
    "```\n",
    "````\n",
    "  \n",
    "**Exemple de requête avec regroupement**\n",
    "\n",
    "Pour sélectionner certains individus, il faut filtrer sur l'identifiant.\n",
    "\n",
    "Sur la base de NYfood, on peut notamment filtrer par quartier.\n",
    "\n",
    "Voici un exemple de requête :\n",
    "\n",
    "_En mongoDB :_"
   ]
  },
  {
   "cell_type": "code",
   "execution_count": 1,
   "id": "73b26a96",
   "metadata": {},
   "outputs": [
    {
     "data": {
      "text/plain": [
       "switched to db food"
      ]
     },
     "execution_count": 1,
     "metadata": {},
     "output_type": "execute_result"
    }
   ],
   "source": [
    "use food"
   ]
  },
  {
   "cell_type": "code",
   "execution_count": 2,
   "id": "aeb5cd37",
   "metadata": {
    "tags": [
     "output_scroll"
    ]
   },
   "outputs": [
    {
     "data": {
      "text/plain": [
       "{ \"_id\" : \"Bronx\", \"nb\" : 2338 }\r\n",
       "{ \"_id\" : \"Staten Island\", \"nb\" : 969 }\r\n",
       "{ \"_id\" : \"Missing\", \"nb\" : 51 }\r\n",
       "{ \"_id\" : \"Manhattan\", \"nb\" : 10258 }\r\n",
       "{ \"_id\" : \"Brooklyn\", \"nb\" : 6085 }\r\n",
       "{ \"_id\" : \"Queens\", \"nb\" : 5656 }"
      ]
     },
     "execution_count": 2,
     "metadata": {},
     "output_type": "execute_result"
    }
   ],
   "source": [
    "db.NYfood.aggregate([\n",
    "  {$group: {_id: \"$borough\",\n",
    "    \t   nb: {$sum: 1}}}\n",
    "])"
   ]
  },
  {
   "cell_type": "markdown",
   "id": "e8b2f6c1",
   "metadata": {},
   "source": [
    "_En SQL :_\n",
    "\n",
    "```sql\n",
    "SELECT COUNT(*) as nb\n",
    "FROM NYfood\n",
    "GROUP BY borough\n",
    "```\n",
    "\n",
    "\n",
    "Dans cette requête, MongoDB va compter pour chaque groupe, le nombre d'individu ayant le même id et donc compter les restaurants d'un même quartiers ensemble.\n",
    "\n",
    "\n",
    "### Opérateur de somme\n",
    "\n",
    "L'opérateur `$sum` permet de calculer et de retourner les sommes de variables numériques.\n",
    "\n",
    "```{admonition} Attention\n",
    ":class: tip\n",
    "\n",
    "Il ne prend pas en compte les variables non numériques.\n",
    "```\n",
    "\n",
    "\n",
    "**Syntaxe**\n",
    "\n",
    "```javascript\n",
    "db.coll.aggregate([\n",
    "     {$group: {_id: { <var>,\n",
    "\t      somme :{ $sum: [ <expression1>, <expression2> ... ]}}}\n",
    "     }\n",
    "])\n",
    "```\n",
    "\n",
    "#### Comptage du nombre d'individus \n",
    "##### Sans regroupement\n",
    "Regardons une requête simple :\n",
    "\n",
    "_En mongoDB :_"
   ]
  },
  {
   "cell_type": "code",
   "execution_count": 3,
   "id": "5423dd5d",
   "metadata": {},
   "outputs": [
    {
     "data": {
      "text/plain": [
       "switched to db food"
      ]
     },
     "execution_count": 3,
     "metadata": {},
     "output_type": "execute_result"
    }
   ],
   "source": [
    "use food"
   ]
  },
  {
   "cell_type": "code",
   "execution_count": 4,
   "id": "a085488f",
   "metadata": {
    "tags": [
     "output_scroll"
    ]
   },
   "outputs": [
    {
     "data": {
      "text/plain": [
       "{ \"_id\" : null, \"nb\" : 25357 }"
      ]
     },
     "execution_count": 4,
     "metadata": {},
     "output_type": "execute_result"
    }
   ],
   "source": [
    "db.NYfood.aggregate([\n",
    "      {$group:{_id: null,\n",
    "              nb: {$sum: 1}}}\n",
    "])"
   ]
  },
  {
   "cell_type": "markdown",
   "id": "89c177c3",
   "metadata": {},
   "source": [
    "_En SQL :_\n",
    "\n",
    "```sql\n",
    "SELECT COUNT(*) as nb\n",
    "FROM NYfood\n",
    "```\n",
    "\n",
    "\n",
    "On utilise la fonction aggregate.\n",
    "Lorsqu'on utilise aggregate, il faut donner les individus sur lesquels on veut faire la requête.\n",
    "Dans notre cas, on choisit tout les individus. On le note `id: null`.\n",
    "On créé notre variable qu'on appelle nb qui va faire la somme de tout les individus.\n",
    "\n",
    "\n",
    "Dans cet exemple, nous avons compté le nombre d'individus sans sélection.\n",
    "\n",
    "En pratique, cela n'a pas forcément beaucoup d'intérêt.\n",
    "Il s'avère plus utile de pouvoir sélectionner le nombre de variables répondant à un critère. Pour cela, nous allons regarder avec une requête de regroupement.\n",
    "\n",
    "##### Avec regroupement\n",
    "Toujours dans la collection NYfood de la base food, on cherche à connaitre le nombre de restaurants par type de cuisine. Pour cela, on va effectuer un regroupement sur l'attribut \"cuisine\".\n",
    "\n",
    "_En mongoDB :_"
   ]
  },
  {
   "cell_type": "code",
   "execution_count": 5,
   "id": "59fb7147",
   "metadata": {},
   "outputs": [
    {
     "data": {
      "text/plain": [
       "switched to db food"
      ]
     },
     "execution_count": 5,
     "metadata": {},
     "output_type": "execute_result"
    }
   ],
   "source": [
    "use food"
   ]
  },
  {
   "cell_type": "code",
   "execution_count": 6,
   "id": "197c9cbf",
   "metadata": {
    "tags": [
     "output_scroll"
    ]
   },
   "outputs": [
    {
     "data": {
      "text/plain": [
       "{ \"_id\" : \"Bakery\", \"nb_par_cuis\" : 691 }\r\n",
       "{ \"_id\" : \"Soul Food\", \"nb_par_cuis\" : 44 }\r\n",
       "{ \"_id\" : \"Korean\", \"nb_par_cuis\" : 262 }\r\n",
       "{ \"_id\" : \"Ethiopian\", \"nb_par_cuis\" : 18 }\r\n",
       "{ \"_id\" : \"Donuts\", \"nb_par_cuis\" : 479 }\r\n",
       "{ \"_id\" : \"Greek\", \"nb_par_cuis\" : 111 }\r\n",
       "{ \"_id\" : \"Sandwiches\", \"nb_par_cuis\" : 459 }\r\n",
       "{ \"_id\" : \"Polynesian\", \"nb_par_cuis\" : 1 }\r\n",
       "{ \"_id\" : \"Creole/Cajun\", \"nb_par_cuis\" : 1 }\r\n",
       "{ \"_id\" : \"Ice Cream, Gelato, Yogurt, Ices\", \"nb_par_cuis\" : 348 }\r\n",
       "Type \"it\" for more"
      ]
     },
     "execution_count": 6,
     "metadata": {},
     "output_type": "execute_result"
    }
   ],
   "source": [
    "db.NYfood.aggregate([\n",
    "      {$group:{_id: \"$cuisine\",\n",
    "              nb_par_cuis: {$sum: 1}}}\n",
    "])"
   ]
  },
  {
   "cell_type": "markdown",
   "id": "83e67786",
   "metadata": {},
   "source": [
    "_En SQL :_\n",
    "\n",
    "```sql\n",
    "SELECT COUNT(*) AS nb_par_cuisine\n",
    "FROM NYfood\n",
    "GROUP BY cuisine\n",
    "```\n",
    "\n",
    "\n",
    "On obtient donc plusieurs listes différentes contenant pour chacune le nombre de restaurants dans chaque liste nommée par le type de cuisine.\n",
    "\n",
    "Il y a donc eu un comptage du nombre de restaurants en fonction de la variable cuisine.\n",
    "\n",
    "\n",
    "#### Additionner des variables\n",
    "\n",
    "Pour cette partie, nous allons nous placer dans cette base que nous avons créée.\n",
    "\n",
    "```javascript\n",
    "{ \"_id\" : 1, \"objet\" : \"a\", \"prix\" : 10, \"quantité\" : 2},\n",
    "{ \"_id\" : 2, \"objet\" : \"b\", \"prix\" : 20, \"quantité\" : 1},\n",
    "{ \"_id\" : 3, \"objet\" : \"c\", \"prix\" : 5, \"quantité\" : 5},\n",
    "{ \"_id\" : 4, \"objet\" : \"a\", \"prix\" : 10, \"quantité\" : 10},\n",
    "{ \"_id\" : 5, \"objet\" : \"c\", \"prix\" : 5, \"quantité\" : 10}\n",
    "```\n",
    "\n",
    "##### Sans regroupement\n",
    "Jusqu'ici, nous avons compté le nombre d'individus grâce à l'attribu `$sum`, mais celui ci permet aussi `d'additionner des variables`.\n",
    "\n",
    "On se place maintenant dans la collection précédente.\n",
    "\n",
    "````{tabbed} MongoDB\n",
    "```javascript\n",
    "db.coll.aggregate([\n",
    "\t{$group: {_id: null,\n",
    "\t\t qtt_tot: {$sum: \"$quantité\"}}}\n",
    "])\n",
    "```\n",
    "````\n",
    "\n",
    "\n",
    "````{tabbed} SQL\n",
    "```sql\n",
    "SELECT SUM(quantité) AS qtt_tot\n",
    "FROM coll\n",
    "```\n",
    "````\n",
    "\n",
    "***Résultat obtenu :***\n",
    "```javascript\n",
    "/* 1 */\n",
    "{\n",
    "    \"_id\" : null,\n",
    "    \"qtt_tot\" : 28.0\n",
    "}\n",
    "```\n",
    "\n",
    "Ici, on calcule la somme des quantités vendues.\n",
    "\n",
    "\n",
    "##### Avec regroupement\n",
    "Si on veut sélectionner les sommes des durées de films par genre, il suffit de rajouter un regroupement comme le suivant :\n",
    "\n",
    "````{tabbed} MongoDB\n",
    "```javascript\n",
    "db.coll.aggregate([\n",
    "\t{$group: {_id: \"$prix\",\n",
    "\t\t qtt_tot: {$sum: \"$quantité\"}}}\n",
    "])\n",
    "```\n",
    "````\n",
    "\n",
    "````{tabbed} SQL\n",
    "```sql\n",
    "SELECT SUM(quantité) AS qtt_tot \n",
    "FROM coll\n",
    "GROUP BY prix\n",
    "```\n",
    "````\n",
    "***Résultat obtenu :***\n",
    "```javascript\n",
    "/* 1 */\n",
    "{\n",
    "    \"_id\" : 20.0,\n",
    "    \"qtt_tot\" : 1.0\n",
    "}\n",
    " \n",
    "/* 2 */\n",
    "{\n",
    "    \"_id\" : 10.0,\n",
    "    \"qtt_tot\" : 12.0\n",
    "}\n",
    " \n",
    "/* 3 */\n",
    "{\n",
    "    \"_id\" : 5.0,\n",
    "    \"qtt_tot\" : 15.0\n",
    "}\n",
    "```\n",
    "\n",
    "\n",
    "### Opérateur de comptage\n",
    "L'opérateur `$count` renvoie le nombre de documents présents dans l'aggrégation.\n",
    "\n",
    "Dans cet exemple, on assigne à la valeur NB_+24 le nombre de documents ayant un individu avec un âge supérieur à 24 :"
   ]
  },
  {
   "cell_type": "code",
   "execution_count": 7,
   "id": "6ec2f95b",
   "metadata": {},
   "outputs": [
    {
     "data": {
      "text/plain": [
       "switched to db large_db"
      ]
     },
     "execution_count": 7,
     "metadata": {},
     "output_type": "execute_result"
    }
   ],
   "source": [
    "use large_db"
   ]
  },
  {
   "cell_type": "code",
   "execution_count": 8,
   "id": "74f3cda2",
   "metadata": {
    "tags": [
     "output_scroll"
    ]
   },
   "outputs": [],
   "source": [
    "db.users.aggregate([\n",
    "    {$match: {\"age\": {$gt: 24}}},\n",
    "    {$count: \"NB_+24\"}\n",
    "])"
   ]
  },
  {
   "cell_type": "markdown",
   "id": "e695978c",
   "metadata": {},
   "source": [
    "L'opérateur `$match` exclu les documents qui possèdent un individu avec un âge <24. \n",
    "L'opérateur `$count` va donc agir sur les documents ayant un individu avec un âge supérieur à 24 à l'opérateur `$gt` (plus grand que) et va assigner\n",
    "à la valeur NB_+24 le nombre de documents répondant au critère.\n",
    "\n",
    "Au final, l'opérateur `$count` est un équivalent aux opérateurs `$group` avec `$sum` et `$project` (opérateur vu plus tard dans le chapitre).\n",
    "\n",
    "### Opérateurs d'extremum\n",
    "\n",
    "\n",
    "**Syntaxe**\n",
    "\n",
    "```javascript\n",
    "db.coll.aggregate([\n",
    "     {$group:\n",
    "         {_id: { <var>,\n",
    "\t   max: {$max: [ <expression1>, <expression2> ... ]}}}\n",
    "     }\n",
    "   ]\n",
    ")\n",
    "```\n",
    "\n",
    "Pour cette partie on se basera sur cette collection pour les exemples :\n",
    "\n",
    "```javascript\n",
    "{ \"_id\" : 1, \"objet\" : \"a\", \"prix\" : 10, \"quantité\" : 2},\n",
    "{ \"_id\" : 2, \"objet\" : \"b\", \"prix\" : 20, \"quantité\" : 1},\n",
    "{ \"_id\" : 3, \"objet\" : \"c\", \"prix\" : 5, \"quantité\" : 5},\n",
    "{ \"_id\" : 4, \"objet\" : \"a\", \"prix\" : 10, \"quantité\" : 10},\n",
    "{ \"_id\" : 5, \"objet\" : \"c\", \"prix\" : 5, \"quantité\" : 10}\n",
    "```\n",
    "\n",
    "Nous allons nous intéresser aux opérateurs `$min` et `$max` au sein de l'opéarteur `$group`,\n",
    "ils peuvent aussi être utilisés dans l'opérateur `$project` que nous verrons en deuxième partie de chapitre.\n",
    "En SQL, les équivalents sont les opérateurs `MIN`et `MAX.\n",
    "\n",
    "#### Sans regroupement\n",
    "\n",
    "\n",
    "`$min` et `$max` s'ils sont utilisés sans regroupement retournent respectivement la valeur minimale et la valeur maximale \n",
    "de l'attribut sur lequel ils sont appliqués et ceci sur tous les documents.\n",
    "\n",
    "_Exemple :_\n",
    "\n",
    "````{tabbed} MongoDB\n",
    "\n",
    "```javascript\n",
    "db.ventes.aggregate([\n",
    "\t{$group: {_id:null,\n",
    "                  prix_max: {$max: \"$prix\"},\n",
    "                  prix_min: {$min: \"$prix\"}}}\n",
    "])\n",
    "```\n",
    "````\n",
    "\n",
    "````{tabbed} Équivalent SQL\n",
    "\n",
    "```sql\n",
    "SELECT MAX(prix) as \"prix max\", MIN(prix) as \"prix min\"\n",
    "FROM ventes\n",
    "```\n",
    "````\n",
    "\n",
    "```{admonition} Attention\n",
    ":class: tip\n",
    "\n",
    "Ne pas oublier le \"$\" dans les attributs entre guillemets à droite des deux points pour bien faire référence à l'attribut\n",
    "et non à une chaîne de caractères.\n",
    "```\n",
    "\n",
    "Cette requête renvoie la valeur maximale puis minimale que prend la variable `$prix` sur tous les documents :\n",
    "\n",
    "```javascript\n",
    "{\n",
    "    \"_id\" : null,\n",
    "    \"prix_max\" : 20.0,\n",
    "    \"prix_min\" : 5.0\n",
    "}\n",
    "```\n",
    "\n",
    "#### Avec regroupement\n",
    "\n",
    "\n",
    "On peut aussi réaliser un regroupement et ainsi `$min` et `$max` renvoient toujours la valeur minimale et la valeur maximale\n",
    "de l'attribut sur lequel ils sont appliqués, mais cette fois-ci en étant appliqués sur les documents de l'ensemble de documents qui partagent la même clé de regroupement.\n",
    "\n",
    "_Exemple :_\n",
    "\n",
    "````{tabbed} MongoDB\n",
    "\n",
    "```javascript\n",
    "db.ventes.aggregate([\n",
    "\t{$group: {_id:\"$objet\",\n",
    "                  quantité_max: {$max: \"$quantité\"},\n",
    "                  quantité_min: {$min: \"$quantité\"}}}\n",
    "])\n",
    "```\n",
    "````\n",
    "\n",
    "````{tabbed} Équivalent SQL\n",
    "\n",
    "```sql\n",
    "SELECT MAX(prix) as \"prix max\", MIN(prix) as \"prix min\"\n",
    "FROM ventes\n",
    "GROUP BY quantité\n",
    "```\n",
    "````\n",
    "\n",
    "On groupe à l'aide de la clé `objet`,\n",
    "on renvoie donc la valeur maximale puis minimale que prend la variable `quantité` pour chaque `objet` différent :\n",
    "\n",
    "```javascript\n",
    "{\n",
    "    \"_id\" : \"a\",\n",
    "    \"quantité_max\" : 10.0,\n",
    "    \"quantité_min\" : 2.0\n",
    "}\n",
    "\n",
    "/* 2 */\n",
    "{\n",
    "    \"_id\" : \"b\",\n",
    "    \"quantité_max\" : 1.0,\n",
    "    \"quantité_min\" : 1.0\n",
    "}\n",
    "\n",
    "/* 3 */\n",
    "{\n",
    "    \"_id\" : \"c\",\n",
    "    \"quantité_max\" : 10.0,\n",
    "    \"quantité_min\" : 5.0\n",
    "}\n",
    "```\n",
    "\n",
    "```{admonition} Null ou inexistant\n",
    "\n",
    "Si certains documents ont une valeur de type null ou qui n'existe pas pour l'attribut sur lequel on applique `$min` ou `$max`,\n",
    "les opérateurs ne prennent pas en compte les valeurs de type null ou manquantes pour le calcul.\n",
    "Si tous les documents ont une valeur de type null ou qui n'existe pas, les opérateurs renvoient null pour la valeur minimale\n",
    "ou la valeur maximale.\n",
    "\n",
    "```\n",
    "\n",
    "\n",
    "  Le fichier que vous devez modifier pour ce chapitre est `mongo_book/content/05_agreg.md`.\n",
    "\n",
    "##  Successions d'étapes d'agrégation \n",
    "\n",
    "* Auteurs/trices : Marine BINARD, Yann CAUSEUR, Arthur CONAS\n",
    "\n",
    "\n",
    "### Introduction\n",
    "Les successions d'étapes d'agrégation vont permettre d'obtenir des requêtes proches de ce qu'on peut trouver en SQL.\n",
    "Contrairement à SQL où l'ordre est pré-défini (`SELECT FROM WHERE ORDER BY`), ici ce n'est pas le cas. Il n'empêche que **l'ordre dans lequel on place\n",
    "nos étapes est crucial.**\n",
    "\n",
    "Nos étapes peuvent toutes être effectuées une à une et indépendamment. En fait, à l'intérieur de notre `db.coll.aggregate([])`, il y aura notre liste d'étapes,\n",
    "contenues dans des crochets et séparées par des virgules, qui s'effectueront sur les données que **l'étape d'avant aura rendue.**\n",
    "\n",
    "Il peut donc être intéressant d'éxécuter le code étape par étape pour savoir sur quelles données on travaille à un moment donné.\n",
    "\n",
    "Commençons par regarder ce que peut faire chaque étape.\n",
    "\n",
    "\n",
    "### <center> Project </center>\n",
    "***Pourquoi l'utiliser ?***  \n",
    "Il peut arriver lors d'une requête d'agrégation de vouloir créer de nouvelles variables par exemple, pour des calculs. La commande `$project` permet donc de créer de nouvelles variables. Néanmoins, il faut faire attention, \n",
    "lorsque l'on crée une nouvelle variable dans une requête d'agrégation.\n",
    " Tous les attributs déjà existants pour les documents d'une collection ne sont plus mémorisés. Donc, si on veut créer une nouvelle variable, tout en gardant celles déjà existantes, il faut le mentionner dans le `$project`. \n",
    "\n",
    "***Comment ça fonctionne ?*** \n",
    "\n",
    "**Syntaxe** :  \n",
    "```\n",
    "db.coll.aggregate( \n",
    "  [\n",
    "    {$project : {<nom_nouv_att1> : <val_att1>, <nom_nouv_att2> : <val_att2>, ... }}\n",
    "  ]\n",
    ")\n",
    "```\n",
    "\n",
    "Le fait de vouloir garder un attribut déjà existant fonctionne de la même façon que la création, il faut donc renommer la variable existante.   \n",
    "\n",
    "***Exemple :***"
   ]
  },
  {
   "cell_type": "code",
   "execution_count": 9,
   "id": "566807ed",
   "metadata": {},
   "outputs": [
    {
     "data": {
      "text/plain": [
       "switched to db food"
      ]
     },
     "execution_count": 9,
     "metadata": {},
     "output_type": "execute_result"
    }
   ],
   "source": [
    "use food"
   ]
  },
  {
   "cell_type": "code",
   "execution_count": 10,
   "id": "d782ddff",
   "metadata": {},
   "outputs": [
    {
     "data": {
      "text/plain": [
       "{ \"_id\" : ObjectId(\"608673c4dfcd1d8365c1928c\"), \"n_notes\" : 4 }\r\n",
       "{ \"_id\" : ObjectId(\"608673c4dfcd1d8365c1928d\"), \"n_notes\" : 5 }\r\n",
       "{ \"_id\" : ObjectId(\"608673c4dfcd1d8365c1928e\"), \"n_notes\" : 4 }\r\n",
       "{ \"_id\" : ObjectId(\"608673c4dfcd1d8365c1928f\"), \"n_notes\" : 4 }\r\n",
       "{ \"_id\" : ObjectId(\"608673c4dfcd1d8365c19290\"), \"n_notes\" : 4 }\r\n",
       "{ \"_id\" : ObjectId(\"608673c4dfcd1d8365c19291\"), \"n_notes\" : 4 }\r\n",
       "{ \"_id\" : ObjectId(\"608673c4dfcd1d8365c19292\"), \"n_notes\" : 4 }\r\n",
       "{ \"_id\" : ObjectId(\"608673c4dfcd1d8365c19293\"), \"n_notes\" : 5 }\r\n",
       "{ \"_id\" : ObjectId(\"608673c4dfcd1d8365c19294\"), \"n_notes\" : 6 }\r\n",
       "{ \"_id\" : ObjectId(\"608673c4dfcd1d8365c19295\"), \"n_notes\" : 4 }\r\n",
       "Type \"it\" for more"
      ]
     },
     "execution_count": 10,
     "metadata": {},
     "output_type": "execute_result"
    }
   ],
   "source": [
    "db.NYfood.aggregate( \n",
    "  [\n",
    "    {$project: {\"n_notes\" : {$size : '$grades'}}}\n",
    "  ]\n",
    ")"
   ]
  },
  {
   "cell_type": "markdown",
   "id": "e00c315a",
   "metadata": {},
   "source": [
    "Sur l’exemple ci-dessus, on vient créer une variable n_notes qui prend pour valeur la taille de la liste `grades` \n",
    "(qui contient les différentes notes attribuées aux restaurants).\n",
    "On cherche donc, ici, à compter le nombre de notes attribué à chaque restaurant.\n",
    " Mais tous les autres attributs du restaurant sont effacés. Par la suite,\n",
    " on ne pourra donc retrouver que le nombre de notes attribué et non le quartier \n",
    " ou le type de restaurant. \n",
    "Si on veut afficher le quartier en question, on doit le préciser tel que :"
   ]
  },
  {
   "cell_type": "code",
   "execution_count": 11,
   "id": "5a8c5dd3",
   "metadata": {},
   "outputs": [
    {
     "data": {
      "text/plain": [
       "{ \"_id\" : ObjectId(\"608673c4dfcd1d8365c1928c\"), \"n_notes\" : 4, \"quartier\" : \"Brooklyn\" }\r\n",
       "{ \"_id\" : ObjectId(\"608673c4dfcd1d8365c1928d\"), \"n_notes\" : 5, \"quartier\" : \"Bronx\" }\r\n",
       "{ \"_id\" : ObjectId(\"608673c4dfcd1d8365c1928e\"), \"n_notes\" : 4, \"quartier\" : \"Manhattan\" }\r\n",
       "{ \"_id\" : ObjectId(\"608673c4dfcd1d8365c1928f\"), \"n_notes\" : 4, \"quartier\" : \"Queens\" }\r\n",
       "{ \"_id\" : ObjectId(\"608673c4dfcd1d8365c19290\"), \"n_notes\" : 4, \"quartier\" : \"Brooklyn\" }\r\n",
       "{ \"_id\" : ObjectId(\"608673c4dfcd1d8365c19291\"), \"n_notes\" : 4, \"quartier\" : \"Staten Island\" }\r\n",
       "{ \"_id\" : ObjectId(\"608673c4dfcd1d8365c19292\"), \"n_notes\" : 4, \"quartier\" : \"Queens\" }\r\n",
       "{ \"_id\" : ObjectId(\"608673c4dfcd1d8365c19293\"), \"n_notes\" : 5, \"quartier\" : \"Brooklyn\" }\r\n",
       "{ \"_id\" : ObjectId(\"608673c4dfcd1d8365c19294\"), \"n_notes\" : 6, \"quartier\" : \"Brooklyn\" }\r\n",
       "{ \"_id\" : ObjectId(\"608673c4dfcd1d8365c19295\"), \"n_notes\" : 4, \"quartier\" : \"Brooklyn\" }\r\n",
       "Type \"it\" for more"
      ]
     },
     "execution_count": 11,
     "metadata": {},
     "output_type": "execute_result"
    }
   ],
   "source": [
    "db.NYfood.aggregate( \n",
    "  [\n",
    "    {$project: {\"n_notes\" : {$size : '$grades'}, quartier :'$borough'}}\n",
    "  ]\n",
    ")"
   ]
  },
  {
   "cell_type": "markdown",
   "id": "eb0d221f",
   "metadata": {},
   "source": [
    "Avec cette requête, on peut voir le quartier du restaurant. Par ailleurs, la variable `borough` \n",
    "a été renommée `quartier`. On peut également conserver cette \n",
    "variable sans la renommer avec cette syntaxe."
   ]
  },
  {
   "cell_type": "code",
   "execution_count": 12,
   "id": "c7ed5fbf",
   "metadata": {},
   "outputs": [
    {
     "data": {
      "text/plain": [
       "{ \"_id\" : ObjectId(\"608673c4dfcd1d8365c1928c\"), \"borough\" : \"Brooklyn\", \"n_notes\" : 4 }\r\n",
       "{ \"_id\" : ObjectId(\"608673c4dfcd1d8365c1928d\"), \"borough\" : \"Bronx\", \"n_notes\" : 5 }\r\n",
       "{ \"_id\" : ObjectId(\"608673c4dfcd1d8365c1928e\"), \"borough\" : \"Manhattan\", \"n_notes\" : 4 }\r\n",
       "{ \"_id\" : ObjectId(\"608673c4dfcd1d8365c1928f\"), \"borough\" : \"Queens\", \"n_notes\" : 4 }\r\n",
       "{ \"_id\" : ObjectId(\"608673c4dfcd1d8365c19290\"), \"borough\" : \"Brooklyn\", \"n_notes\" : 4 }\r\n",
       "{ \"_id\" : ObjectId(\"608673c4dfcd1d8365c19291\"), \"borough\" : \"Staten Island\", \"n_notes\" : 4 }\r\n",
       "{ \"_id\" : ObjectId(\"608673c4dfcd1d8365c19292\"), \"borough\" : \"Queens\", \"n_notes\" : 4 }\r\n",
       "{ \"_id\" : ObjectId(\"608673c4dfcd1d8365c19293\"), \"borough\" : \"Brooklyn\", \"n_notes\" : 5 }\r\n",
       "{ \"_id\" : ObjectId(\"608673c4dfcd1d8365c19294\"), \"borough\" : \"Brooklyn\", \"n_notes\" : 6 }\r\n",
       "{ \"_id\" : ObjectId(\"608673c4dfcd1d8365c19295\"), \"borough\" : \"Brooklyn\", \"n_notes\" : 4 }\r\n",
       "Type \"it\" for more"
      ]
     },
     "execution_count": 12,
     "metadata": {},
     "output_type": "execute_result"
    }
   ],
   "source": [
    "db.NYfood.aggregate( \n",
    "  [\n",
    "    {$project: {\"n_notes\" : {$size : '$grades'}, borough : 1}}\n",
    "  ]\n",
    ")"
   ]
  },
  {
   "cell_type": "markdown",
   "id": "1ed52c11",
   "metadata": {},
   "source": [
    "***Traduction SQL :***\n",
    "\n",
    "L'équivalent en SQL de la commande `$project` est l'étape `SELECT` et `AS` qui \n",
    "permettent de créer de nouvelles variables. Par contre, en SQL,\n",
    "l'étape `AS` est facultative, la nouvelle variable prendra \n",
    "comme nom la formule du calcul. En MongoDB, elle est obligatoire ! \n",
    "Si on ne précise pas le nom de la nouvelle variable, cela affichera \n",
    "une erreur. Pour la traduction SQL de l'exemple précédent, il convient de faire attention.\n",
    "Pour rappel, les listes n'existent pas en SQL ! D'où la nécessité\n",
    "dans certains moments de faire des calculs verticaux, ce qui n'est pas nécéssaire.\n",
    "Dans notre cas, en SQL l'attribut `grades` serait une table à part entière (avec toutes les notes `grade`, une clé étrangère faisant référence au restaurant)\n",
    "Il faudrait donc faire une jointure sur celle-ci puis grouper par restaurant (en imaginant qu'il existe un ID pour chaque restaurant)\n",
    "L'exemple serait donc:   \n",
    "\n",
    " ```sql\n",
    " SELECT borough\n",
    " FROM NYfood NATURAL JOIN grades\n",
    " GROUP BY restoID\n",
    " HAVING COUNT(grade) AS \"n_notes\"\n",
    " ```\n",
    " \n",
    "### <center> Sort </center>\n",
    "\n",
    "***Pourquoi l'utiliser ?***\n",
    "\n",
    "Comme dans la plus part des langages de bases de données, MongoDB ne stocke pas les documents dans une collection dans un ordre \n",
    "en particulier. C'est pourquoi l'étape `sort` (tri en français) va permettre\n",
    " de trier l'ensemble de tous les documents d'entrée afin de les renvoyer dans\n",
    " l'ordre choisi par l'utilisateur. Nous pouvons les trier dans l'ordre croissant,\n",
    " décroissant, chronologique ou bien alphabétique selon le type du champ\n",
    " souhaitant être trié. \n",
    "Il est possible de trier sur plusieurs champs à la fois, mais dans ce cas l'ordre de tri est évalué de gauche à droite. \n",
    "Le `$sort` est finalement l'équivalent du `ORDER BY` en SQL.\n",
    "\n",
    "***Comment ça fonctionne ?***\n",
    "\n",
    "**Syntaxe** :  \n",
    "```\n",
    "db.coll.aggregate(\n",
    "\t[\n",
    "\t {$sort: {<champ1>: <sort order>, <champ2>: <sort order> ...}}\n",
    "\t]\n",
    ")\n",
    "```\n",
    "\n",
    "Le `<sort order>` peut prendre la valeur : 1 (croissant), -1 (décroissant) ou encore `{$meta: \"textScore\"}`(il s'agit d'un tri de métadonnées textScore calculées dans l'ordre décroissant).\n",
    "\n",
    "***Exemples :***\n",
    "\n",
    "Attention à bien prendre en compte le fait que lors du \n",
    "tri sur un champ contenant des valeurs en double (ou non unique),\n",
    " les documents contenant ces valeurs peuvent être renvoyés dans \n",
    " n'importe quel ordre."
   ]
  },
  {
   "cell_type": "code",
   "execution_count": 13,
   "id": "94b35f09",
   "metadata": {},
   "outputs": [
    {
     "data": {
      "text/plain": [
       "{ \"_id\" : ObjectId(\"608673c4dfcd1d8365c1928d\"), \"address\" : { \"building\" : \"1007\", \"loc\" : { \"type\" : \"Point\", \"coordinates\" : [ -73.856077, 40.848447 ] }, \"street\" : \"Morris Park Ave\", \"zipcode\" : \"10462\" }, \"borough\" : \"Bronx\", \"cuisine\" : \"Bakery\", \"grades\" : [ { \"date\" : ISODate(\"2014-03-03T00:00:00Z\"), \"grade\" : \"A\", \"score\" : 2 }, { \"date\" : ISODate(\"2013-09-11T00:00:00Z\"), \"grade\" : \"A\", \"score\" : 6 }, { \"date\" : ISODate(\"2013-01-24T00:00:00Z\"), \"grade\" : \"A\", \"score\" : 10 }, { \"date\" : ISODate(\"2011-11-23T00:00:00Z\"), \"grade\" : \"A\", \"score\" : 9 }, { \"date\" : ISODate(\"2011-03-10T00:00:00Z\"), \"grade\" : \"B\", \"score\" : 14 } ], \"name\" : \"Morris Park Bake Shop\", \"restaurant_id\" : \"30075445\" }\r\n",
       "{ \"_id\" : ObjectId(\"608673c4dfcd1d8365c19297\"), \"address\" : { \"building\" : \"2300\", \"loc\" : { \"type\" : \"Point\", \"coordinates\" : [ -73.8786113, 40.8502883 ] }, \"street\" : \"Southern Boulevard\", \"zipcode\" : \"10460\" }, \"borough\" : \"Bronx\", \"cuisine\" : \"American \", \"grades\" : [ { \"date\" : ISODate(\"2014-05-28T00:00:00Z\"), \"grade\" : \"A\", \"score\" : 11 }, { \"date\" : ISODate(\"2013-06-19T00:00:00Z\"), \"grade\" : \"A\", \"score\" : 4 }, { \"date\" : ISODate(\"2012-06-15T00:00:00Z\"), \"grade\" : \"A\", \"score\" : 3 } ], \"name\" : \"Wild Asia\", \"restaurant_id\" : \"40357217\" }\r\n",
       "{ \"_id\" : ObjectId(\"608673c4dfcd1d8365c192ab\"), \"address\" : { \"building\" : \"1006\", \"loc\" : { \"type\" : \"Point\", \"coordinates\" : [ -73.84856870000002, 40.8903781 ] }, \"street\" : \"East 233 Street\", \"zipcode\" : \"10466\" }, \"borough\" : \"Bronx\", \"cuisine\" : \"Ice Cream, Gelato, Yogurt, Ices\", \"grades\" : [ { \"date\" : ISODate(\"2014-04-24T00:00:00Z\"), \"grade\" : \"A\", \"score\" : 10 }, { \"date\" : ISODate(\"2013-09-05T00:00:00Z\"), \"grade\" : \"A\", \"score\" : 10 }, { \"date\" : ISODate(\"2013-02-21T00:00:00Z\"), \"grade\" : \"A\", \"score\" : 9 }, { \"date\" : ISODate(\"2012-07-03T00:00:00Z\"), \"grade\" : \"A\", \"score\" : 11 }, { \"date\" : ISODate(\"2011-07-11T00:00:00Z\"), \"grade\" : \"A\", \"score\" : 5 } ], \"name\" : \"Carvel Ice Cream\", \"restaurant_id\" : \"40363093\" }\r\n",
       "{ \"_id\" : ObjectId(\"608673c4dfcd1d8365c192ae\"), \"address\" : { \"building\" : \"1236\", \"loc\" : { \"type\" : \"Point\", \"coordinates\" : [ -73.8893654, 40.81376179999999 ] }, \"street\" : \"238 Spofford Ave\", \"zipcode\" : \"10474\" }, \"borough\" : \"Bronx\", \"cuisine\" : \"Chinese\", \"grades\" : [ { \"date\" : ISODate(\"2013-12-30T00:00:00Z\"), \"grade\" : \"A\", \"score\" : 8 }, { \"date\" : ISODate(\"2013-01-08T00:00:00Z\"), \"grade\" : \"A\", \"score\" : 10 }, { \"date\" : ISODate(\"2012-06-12T00:00:00Z\"), \"grade\" : \"B\", \"score\" : 15 } ], \"name\" : \"Happy Garden\", \"restaurant_id\" : \"40363289\" }\r\n",
       "{ \"_id\" : ObjectId(\"608673c4dfcd1d8365c192c0\"), \"address\" : { \"building\" : \"277\", \"loc\" : { \"type\" : \"Point\", \"coordinates\" : [ -73.8941893, 40.8634684 ] }, \"street\" : \"East Kingsbridge Road\", \"zipcode\" : \"10458\" }, \"borough\" : \"Bronx\", \"cuisine\" : \"Chinese\", \"grades\" : [ { \"date\" : ISODate(\"2014-03-03T00:00:00Z\"), \"grade\" : \"A\", \"score\" : 10 }, { \"date\" : ISODate(\"2013-09-26T00:00:00Z\"), \"grade\" : \"A\", \"score\" : 10 }, { \"date\" : ISODate(\"2013-03-19T00:00:00Z\"), \"grade\" : \"A\", \"score\" : 10 }, { \"date\" : ISODate(\"2012-08-29T00:00:00Z\"), \"grade\" : \"A\", \"score\" : 11 }, { \"date\" : ISODate(\"2011-08-17T00:00:00Z\"), \"grade\" : \"A\", \"score\" : 13 } ], \"name\" : \"Happy Garden\", \"restaurant_id\" : \"40364296\" }\r\n",
       "{ \"_id\" : ObjectId(\"608673c4dfcd1d8365c192c8\"), \"address\" : { \"building\" : \"658\", \"loc\" : { \"type\" : \"Point\", \"coordinates\" : [ -73.81363999999999, 40.82941100000001 ] }, \"street\" : \"Clarence Ave\", \"zipcode\" : \"10465\" }, \"borough\" : \"Bronx\", \"cuisine\" : \"American \", \"grades\" : [ { \"date\" : ISODate(\"2014-06-21T00:00:00Z\"), \"grade\" : \"A\", \"score\" : 5 }, { \"date\" : ISODate(\"2012-07-11T00:00:00Z\"), \"grade\" : \"A\", \"score\" : 10 } ], \"name\" : \"Manhem Club\", \"restaurant_id\" : \"40364363\" }\r\n",
       "{ \"_id\" : ObjectId(\"608673c4dfcd1d8365c192e1\"), \"address\" : { \"building\" : \"2222\", \"loc\" : { \"type\" : \"Point\", \"coordinates\" : [ -73.84971759999999, 40.8304811 ] }, \"street\" : \"Haviland Avenue\", \"zipcode\" : \"10462\" }, \"borough\" : \"Bronx\", \"cuisine\" : \"American \", \"grades\" : [ { \"date\" : ISODate(\"2014-12-18T00:00:00Z\"), \"grade\" : \"A\", \"score\" : 7 }, { \"date\" : ISODate(\"2014-05-01T00:00:00Z\"), \"grade\" : \"B\", \"score\" : 17 }, { \"date\" : ISODate(\"2013-03-14T00:00:00Z\"), \"grade\" : \"A\", \"score\" : 12 }, { \"date\" : ISODate(\"2012-09-20T00:00:00Z\"), \"grade\" : \"A\", \"score\" : 9 }, { \"date\" : ISODate(\"2012-02-08T00:00:00Z\"), \"grade\" : \"B\", \"score\" : 19 } ], \"name\" : \"The New Starling Athletic Club Of The Bronx\", \"restaurant_id\" : \"40364956\" }\r\n",
       "{ \"_id\" : ObjectId(\"608673c4dfcd1d8365c192f9\"), \"address\" : { \"building\" : \"72\", \"loc\" : { \"type\" : \"Point\", \"coordinates\" : [ -73.92506, 40.8275556 ] }, \"street\" : \"East  161 Street\", \"zipcode\" : \"10451\" }, \"borough\" : \"Bronx\", \"cuisine\" : \"American \", \"grades\" : [ { \"date\" : ISODate(\"2014-04-15T00:00:00Z\"), \"grade\" : \"A\", \"score\" : 9 }, { \"date\" : ISODate(\"2013-11-14T00:00:00Z\"), \"grade\" : \"A\", \"score\" : 4 }, { \"date\" : ISODate(\"2013-07-29T00:00:00Z\"), \"grade\" : \"A\", \"score\" : 10 }, { \"date\" : ISODate(\"2012-12-31T00:00:00Z\"), \"grade\" : \"B\", \"score\" : 15 }, { \"date\" : ISODate(\"2012-05-30T00:00:00Z\"), \"grade\" : \"A\", \"score\" : 13 }, { \"date\" : ISODate(\"2012-01-09T00:00:00Z\"), \"grade\" : \"A\", \"score\" : 10 }, { \"date\" : ISODate(\"2011-08-15T00:00:00Z\"), \"grade\" : \"C\", \"score\" : 37 } ], \"name\" : \"Yankee Tavern\", \"restaurant_id\" : \"40365499\" }\r\n",
       "{ \"_id\" : ObjectId(\"608673c4dfcd1d8365c1930c\"), \"address\" : { \"building\" : \"331\", \"loc\" : { \"type\" : \"Point\", \"coordinates\" : [ -73.87786539999999, 40.8724377 ] }, \"street\" : \"East  204 Street\", \"zipcode\" : \"10467\" }, \"borough\" : \"Bronx\", \"cuisine\" : \"Irish\", \"grades\" : [ { \"date\" : ISODate(\"2014-08-26T00:00:00Z\"), \"grade\" : \"A\", \"score\" : 10 }, { \"date\" : ISODate(\"2014-03-26T00:00:00Z\"), \"grade\" : \"B\", \"score\" : 23 }, { \"date\" : ISODate(\"2013-09-11T00:00:00Z\"), \"grade\" : \"A\", \"score\" : 13 }, { \"date\" : ISODate(\"2012-12-18T00:00:00Z\"), \"grade\" : \"B\", \"score\" : 27 }, { \"date\" : ISODate(\"2011-10-20T00:00:00Z\"), \"grade\" : \"A\", \"score\" : 13 } ], \"name\" : \"Mcdwyers Pub\", \"restaurant_id\" : \"40365893\" }\r\n",
       "{ \"_id\" : ObjectId(\"608673c4dfcd1d8365c19325\"), \"address\" : { \"building\" : \"5820\", \"loc\" : { \"type\" : \"Point\", \"coordinates\" : [ -73.9002615, 40.885186 ] }, \"street\" : \"Broadway\", \"zipcode\" : \"10463\" }, \"borough\" : \"Bronx\", \"cuisine\" : \"American \", \"grades\" : [ { \"date\" : ISODate(\"2014-02-26T00:00:00Z\"), \"grade\" : \"A\", \"score\" : 5 }, { \"date\" : ISODate(\"2013-10-09T00:00:00Z\"), \"grade\" : \"B\", \"score\" : 19 }, { \"date\" : ISODate(\"2013-05-15T00:00:00Z\"), \"grade\" : \"A\", \"score\" : 9 }, { \"date\" : ISODate(\"2012-11-20T00:00:00Z\"), \"grade\" : \"B\", \"score\" : 18 }, { \"date\" : ISODate(\"2011-10-17T00:00:00Z\"), \"grade\" : \"A\", \"score\" : 10 }, { \"date\" : ISODate(\"2011-06-22T00:00:00Z\"), \"grade\" : \"C\", \"score\" : 35 } ], \"name\" : \"The Punch Bowl\", \"restaurant_id\" : \"40366497\" }\r\n",
       "Type \"it\" for more"
      ]
     },
     "execution_count": 13,
     "metadata": {},
     "output_type": "execute_result"
    }
   ],
   "source": [
    "db.NYfood.aggregate(\n",
    "   [\n",
    "\t {$sort : {borough : 1}}\n",
    "   ]\n",
    ")"
   ]
  },
  {
   "cell_type": "markdown",
   "id": "fc77d200",
   "metadata": {},
   "source": [
    "***Traduction SQL :***\n",
    "\n",
    "```sql\n",
    "SELECT borough\n",
    "FROM NYfood \n",
    "ORDER BY borough\n",
    "```\n",
    "\n",
    "En effet, dans l'exemple ci-dessus, le champ quartier n'est \n",
    "pas un champ avec des valeurs uniques. Si un ordre de tri \n",
    "cohérent est souhaité, il est important d'au moins inclure \n",
    "un champ dans votre tri qui contient des valeurs uniques. \n",
    "Généralement, le moyen le plus simple de garantir cela consiste \n",
    "à inclure le champ _id dans la requête de tri."
   ]
  },
  {
   "cell_type": "code",
   "execution_count": 14,
   "id": "8731aa91",
   "metadata": {},
   "outputs": [
    {
     "data": {
      "text/plain": [
       "{ \"_id\" : ObjectId(\"608673c4dfcd1d8365c1928d\"), \"address\" : { \"building\" : \"1007\", \"loc\" : { \"type\" : \"Point\", \"coordinates\" : [ -73.856077, 40.848447 ] }, \"street\" : \"Morris Park Ave\", \"zipcode\" : \"10462\" }, \"borough\" : \"Bronx\", \"cuisine\" : \"Bakery\", \"grades\" : [ { \"date\" : ISODate(\"2014-03-03T00:00:00Z\"), \"grade\" : \"A\", \"score\" : 2 }, { \"date\" : ISODate(\"2013-09-11T00:00:00Z\"), \"grade\" : \"A\", \"score\" : 6 }, { \"date\" : ISODate(\"2013-01-24T00:00:00Z\"), \"grade\" : \"A\", \"score\" : 10 }, { \"date\" : ISODate(\"2011-11-23T00:00:00Z\"), \"grade\" : \"A\", \"score\" : 9 }, { \"date\" : ISODate(\"2011-03-10T00:00:00Z\"), \"grade\" : \"B\", \"score\" : 14 } ], \"name\" : \"Morris Park Bake Shop\", \"restaurant_id\" : \"30075445\" }\r\n",
       "{ \"_id\" : ObjectId(\"608673c4dfcd1d8365c19297\"), \"address\" : { \"building\" : \"2300\", \"loc\" : { \"type\" : \"Point\", \"coordinates\" : [ -73.8786113, 40.8502883 ] }, \"street\" : \"Southern Boulevard\", \"zipcode\" : \"10460\" }, \"borough\" : \"Bronx\", \"cuisine\" : \"American \", \"grades\" : [ { \"date\" : ISODate(\"2014-05-28T00:00:00Z\"), \"grade\" : \"A\", \"score\" : 11 }, { \"date\" : ISODate(\"2013-06-19T00:00:00Z\"), \"grade\" : \"A\", \"score\" : 4 }, { \"date\" : ISODate(\"2012-06-15T00:00:00Z\"), \"grade\" : \"A\", \"score\" : 3 } ], \"name\" : \"Wild Asia\", \"restaurant_id\" : \"40357217\" }\r\n",
       "{ \"_id\" : ObjectId(\"608673c4dfcd1d8365c192ab\"), \"address\" : { \"building\" : \"1006\", \"loc\" : { \"type\" : \"Point\", \"coordinates\" : [ -73.84856870000002, 40.8903781 ] }, \"street\" : \"East 233 Street\", \"zipcode\" : \"10466\" }, \"borough\" : \"Bronx\", \"cuisine\" : \"Ice Cream, Gelato, Yogurt, Ices\", \"grades\" : [ { \"date\" : ISODate(\"2014-04-24T00:00:00Z\"), \"grade\" : \"A\", \"score\" : 10 }, { \"date\" : ISODate(\"2013-09-05T00:00:00Z\"), \"grade\" : \"A\", \"score\" : 10 }, { \"date\" : ISODate(\"2013-02-21T00:00:00Z\"), \"grade\" : \"A\", \"score\" : 9 }, { \"date\" : ISODate(\"2012-07-03T00:00:00Z\"), \"grade\" : \"A\", \"score\" : 11 }, { \"date\" : ISODate(\"2011-07-11T00:00:00Z\"), \"grade\" : \"A\", \"score\" : 5 } ], \"name\" : \"Carvel Ice Cream\", \"restaurant_id\" : \"40363093\" }\r\n",
       "{ \"_id\" : ObjectId(\"608673c4dfcd1d8365c192ae\"), \"address\" : { \"building\" : \"1236\", \"loc\" : { \"type\" : \"Point\", \"coordinates\" : [ -73.8893654, 40.81376179999999 ] }, \"street\" : \"238 Spofford Ave\", \"zipcode\" : \"10474\" }, \"borough\" : \"Bronx\", \"cuisine\" : \"Chinese\", \"grades\" : [ { \"date\" : ISODate(\"2013-12-30T00:00:00Z\"), \"grade\" : \"A\", \"score\" : 8 }, { \"date\" : ISODate(\"2013-01-08T00:00:00Z\"), \"grade\" : \"A\", \"score\" : 10 }, { \"date\" : ISODate(\"2012-06-12T00:00:00Z\"), \"grade\" : \"B\", \"score\" : 15 } ], \"name\" : \"Happy Garden\", \"restaurant_id\" : \"40363289\" }\r\n",
       "{ \"_id\" : ObjectId(\"608673c4dfcd1d8365c192c0\"), \"address\" : { \"building\" : \"277\", \"loc\" : { \"type\" : \"Point\", \"coordinates\" : [ -73.8941893, 40.8634684 ] }, \"street\" : \"East Kingsbridge Road\", \"zipcode\" : \"10458\" }, \"borough\" : \"Bronx\", \"cuisine\" : \"Chinese\", \"grades\" : [ { \"date\" : ISODate(\"2014-03-03T00:00:00Z\"), \"grade\" : \"A\", \"score\" : 10 }, { \"date\" : ISODate(\"2013-09-26T00:00:00Z\"), \"grade\" : \"A\", \"score\" : 10 }, { \"date\" : ISODate(\"2013-03-19T00:00:00Z\"), \"grade\" : \"A\", \"score\" : 10 }, { \"date\" : ISODate(\"2012-08-29T00:00:00Z\"), \"grade\" : \"A\", \"score\" : 11 }, { \"date\" : ISODate(\"2011-08-17T00:00:00Z\"), \"grade\" : \"A\", \"score\" : 13 } ], \"name\" : \"Happy Garden\", \"restaurant_id\" : \"40364296\" }\r\n",
       "{ \"_id\" : ObjectId(\"608673c4dfcd1d8365c192c8\"), \"address\" : { \"building\" : \"658\", \"loc\" : { \"type\" : \"Point\", \"coordinates\" : [ -73.81363999999999, 40.82941100000001 ] }, \"street\" : \"Clarence Ave\", \"zipcode\" : \"10465\" }, \"borough\" : \"Bronx\", \"cuisine\" : \"American \", \"grades\" : [ { \"date\" : ISODate(\"2014-06-21T00:00:00Z\"), \"grade\" : \"A\", \"score\" : 5 }, { \"date\" : ISODate(\"2012-07-11T00:00:00Z\"), \"grade\" : \"A\", \"score\" : 10 } ], \"name\" : \"Manhem Club\", \"restaurant_id\" : \"40364363\" }\r\n",
       "{ \"_id\" : ObjectId(\"608673c4dfcd1d8365c192e1\"), \"address\" : { \"building\" : \"2222\", \"loc\" : { \"type\" : \"Point\", \"coordinates\" : [ -73.84971759999999, 40.8304811 ] }, \"street\" : \"Haviland Avenue\", \"zipcode\" : \"10462\" }, \"borough\" : \"Bronx\", \"cuisine\" : \"American \", \"grades\" : [ { \"date\" : ISODate(\"2014-12-18T00:00:00Z\"), \"grade\" : \"A\", \"score\" : 7 }, { \"date\" : ISODate(\"2014-05-01T00:00:00Z\"), \"grade\" : \"B\", \"score\" : 17 }, { \"date\" : ISODate(\"2013-03-14T00:00:00Z\"), \"grade\" : \"A\", \"score\" : 12 }, { \"date\" : ISODate(\"2012-09-20T00:00:00Z\"), \"grade\" : \"A\", \"score\" : 9 }, { \"date\" : ISODate(\"2012-02-08T00:00:00Z\"), \"grade\" : \"B\", \"score\" : 19 } ], \"name\" : \"The New Starling Athletic Club Of The Bronx\", \"restaurant_id\" : \"40364956\" }\r\n",
       "{ \"_id\" : ObjectId(\"608673c4dfcd1d8365c192f9\"), \"address\" : { \"building\" : \"72\", \"loc\" : { \"type\" : \"Point\", \"coordinates\" : [ -73.92506, 40.8275556 ] }, \"street\" : \"East  161 Street\", \"zipcode\" : \"10451\" }, \"borough\" : \"Bronx\", \"cuisine\" : \"American \", \"grades\" : [ { \"date\" : ISODate(\"2014-04-15T00:00:00Z\"), \"grade\" : \"A\", \"score\" : 9 }, { \"date\" : ISODate(\"2013-11-14T00:00:00Z\"), \"grade\" : \"A\", \"score\" : 4 }, { \"date\" : ISODate(\"2013-07-29T00:00:00Z\"), \"grade\" : \"A\", \"score\" : 10 }, { \"date\" : ISODate(\"2012-12-31T00:00:00Z\"), \"grade\" : \"B\", \"score\" : 15 }, { \"date\" : ISODate(\"2012-05-30T00:00:00Z\"), \"grade\" : \"A\", \"score\" : 13 }, { \"date\" : ISODate(\"2012-01-09T00:00:00Z\"), \"grade\" : \"A\", \"score\" : 10 }, { \"date\" : ISODate(\"2011-08-15T00:00:00Z\"), \"grade\" : \"C\", \"score\" : 37 } ], \"name\" : \"Yankee Tavern\", \"restaurant_id\" : \"40365499\" }\r\n",
       "{ \"_id\" : ObjectId(\"608673c4dfcd1d8365c1930c\"), \"address\" : { \"building\" : \"331\", \"loc\" : { \"type\" : \"Point\", \"coordinates\" : [ -73.87786539999999, 40.8724377 ] }, \"street\" : \"East  204 Street\", \"zipcode\" : \"10467\" }, \"borough\" : \"Bronx\", \"cuisine\" : \"Irish\", \"grades\" : [ { \"date\" : ISODate(\"2014-08-26T00:00:00Z\"), \"grade\" : \"A\", \"score\" : 10 }, { \"date\" : ISODate(\"2014-03-26T00:00:00Z\"), \"grade\" : \"B\", \"score\" : 23 }, { \"date\" : ISODate(\"2013-09-11T00:00:00Z\"), \"grade\" : \"A\", \"score\" : 13 }, { \"date\" : ISODate(\"2012-12-18T00:00:00Z\"), \"grade\" : \"B\", \"score\" : 27 }, { \"date\" : ISODate(\"2011-10-20T00:00:00Z\"), \"grade\" : \"A\", \"score\" : 13 } ], \"name\" : \"Mcdwyers Pub\", \"restaurant_id\" : \"40365893\" }\r\n",
       "{ \"_id\" : ObjectId(\"608673c4dfcd1d8365c19325\"), \"address\" : { \"building\" : \"5820\", \"loc\" : { \"type\" : \"Point\", \"coordinates\" : [ -73.9002615, 40.885186 ] }, \"street\" : \"Broadway\", \"zipcode\" : \"10463\" }, \"borough\" : \"Bronx\", \"cuisine\" : \"American \", \"grades\" : [ { \"date\" : ISODate(\"2014-02-26T00:00:00Z\"), \"grade\" : \"A\", \"score\" : 5 }, { \"date\" : ISODate(\"2013-10-09T00:00:00Z\"), \"grade\" : \"B\", \"score\" : 19 }, { \"date\" : ISODate(\"2013-05-15T00:00:00Z\"), \"grade\" : \"A\", \"score\" : 9 }, { \"date\" : ISODate(\"2012-11-20T00:00:00Z\"), \"grade\" : \"B\", \"score\" : 18 }, { \"date\" : ISODate(\"2011-10-17T00:00:00Z\"), \"grade\" : \"A\", \"score\" : 10 }, { \"date\" : ISODate(\"2011-06-22T00:00:00Z\"), \"grade\" : \"C\", \"score\" : 35 } ], \"name\" : \"The Punch Bowl\", \"restaurant_id\" : \"40366497\" }\r\n",
       "Type \"it\" for more"
      ]
     },
     "execution_count": 14,
     "metadata": {},
     "output_type": "execute_result"
    }
   ],
   "source": [
    "db.NYfood.aggregate(\n",
    "   [\n",
    "     {$sort : {borough : 1, _id : 1}}\n",
    "   ]\n",
    ")"
   ]
  },
  {
   "cell_type": "markdown",
   "id": "c5952298",
   "metadata": {},
   "source": [
    "Cette fois ci, la requête affichera l'ensemble \n",
    "de la collection avec les noms de quartier \n",
    "affichés par ordre alphabétique. Les collections \n",
    "du quartier de \"Bronx\" seront les premières à être affichées, \n",
    "puis ensuite l'ordre par identifiant sera conservé \n",
    "lorsque le nom de quartier sera le même pour plusieurs collections.\n",
    "\n",
    "***Traduction SQL :***\n",
    " \n",
    "```sql\n",
    "SELECT borough\n",
    "FROM NYfood \n",
    "ORDER BY borough, _id\n",
    "```\n",
    "\n",
    "### <center> Limit </center>\n",
    "***Pourquoi l'utiliser ?***\n",
    "\n",
    "L'étape `$limit` va simplement permettre de \n",
    "limiter le nombre de documents voulant être \n",
    "affichés par la requête. Il n'y a pas grand \n",
    "intérêt à utiliser le limit tout seul. Généralement, \n",
    "il est utilisé avec l'étape `$sort` vu précédemment.\n",
    "\n",
    "***Comment ça fonctionne ?***\n",
    "\n",
    "**Syntaxe** :  \n",
    "```\n",
    "db.coll.aggregate(\n",
    "\t[\n",
    "\t {$limit : 5} \n",
    "\t]\n",
    ")\n",
    "```\n",
    "L'argument qui est pris par le `$limit` est toujours\n",
    " un entier positif, qui va déterminer le nombre \n",
    " de collections que l'on souhaite afficher.\n",
    "\n",
    "***Exemple***\n",
    "\n",
    "Dans cet exemple, on souhaite afficher les 3 quartiers \n",
    "possédant le plus de restaurants."
   ]
  },
  {
   "cell_type": "code",
   "execution_count": 15,
   "id": "e8600019",
   "metadata": {},
   "outputs": [
    {
     "data": {
      "text/plain": [
       "{ \"_id\" : \"Manhattan\", \"nb\" : 10258 }\r\n",
       "{ \"_id\" : \"Brooklyn\", \"nb\" : 6085 }\r\n",
       "{ \"_id\" : \"Queens\", \"nb\" : 5656 }"
      ]
     },
     "execution_count": 15,
     "metadata": {},
     "output_type": "execute_result"
    }
   ],
   "source": [
    "db.NYfood.aggregate(\n",
    "\t[\n",
    "     {$group: {_id: \"$borough\", nb: {$sum: 1}}},\n",
    "     {$sort: {nb: -1}},\n",
    "     {$limit: 3}\n",
    "\t]\n",
    ") "
   ]
  },
  {
   "cell_type": "markdown",
   "id": "f1ac60b7",
   "metadata": {},
   "source": [
    "On remarque ici que nous ne pouvons pas utiliser \n",
    "l'étape `$limit` seul sans le sort.\n",
    " Nous avons d'abord besoin de trier le nombre \n",
    " de restaurants par ordre décroissant puis enfin  \n",
    " préciser que nous souhaitons obtenir seulement les \n",
    " 3 premiers quartiers contenant le plus de restaurants.\n",
    " \n",
    "***Traduction SQL :***\n",
    "```sql\n",
    "SELECT count(borough)\n",
    "FROM NYfood \n",
    "GROUP BY borough\n",
    "ORDER BY count(borough) desc\n",
    "LIMIT 3\n",
    "```\n",
    "\n",
    "### <center> Match  </center>\n",
    "\n",
    "***Pourquoi l'utiliser***\n",
    "\n",
    "`$match` peut être utilisé comme un filtre, avec une condition. On pourrait le mettre n'importe où dans notre requête mais il est particulièrement intéressant en début ou en fin de requête.\n",
    "\n",
    "\n",
    "***Comment ça fonctionne ?***\n",
    "\n",
    "**Syntaxe** : \n",
    "\n",
    "Le `$match` est un requête du type de celles qu'on passe à `find`.\n",
    "\n",
    "***Exemple :***"
   ]
  },
  {
   "cell_type": "code",
   "execution_count": 16,
   "id": "85a470b6",
   "metadata": {},
   "outputs": [
    {
     "data": {
      "text/plain": [
       "{ \"_id\" : \"A\", \"n\" : 17324 }\r\n",
       "{ \"_id\" : \"B\", \"n\" : 3055 }"
      ]
     },
     "execution_count": 16,
     "metadata": {},
     "output_type": "execute_result"
    }
   ],
   "source": [
    "db.NYfood.aggregate( \n",
    "  [  \n",
    "   {$match: {\"borough\": 'Brooklyn'}},\n",
    "   {$unwind: \"$grades\"},\n",
    "   {$group : {_id: \"$grades.grade\",\n",
    "       n:{$sum:1}\n",
    "            }\n",
    "          },\n",
    "    {$match:{n:{$gt:1000}}},\n",
    "  ]\n",
    ")"
   ]
  },
  {
   "cell_type": "markdown",
   "id": "da5fcf5f",
   "metadata": {},
   "source": [
    "```SQL\n",
    "SELECT COUNT(grade) as n\n",
    "FROM NYfood\n",
    "WHERE Borough='Brooklyn'\n",
    "GROUP BY grade\n",
    "HAVING n > 1000\n",
    "``` \n",
    "Ici le premier `$match` sert comme un `WHERE`, \n",
    "et le deuxième comme un `HAVING` en SQL.\n",
    "\n",
    "Dans tous les cas, le `$match` fait une sélection sur le jeu de données en fonction d'une condition, au moment où il est placé.\n",
    "\n",
    "Si le `$match` est au début, il fera une sélection sur l'ensemble des données (ici `NYfood`) mais n'aura pas accès aux opérations qui sont effectuées après (comme le `$group` dans notre cas).\n",
    "C'est pour cela qu'on utilise aussi le `$match` plus tard, pour avoir accès aux données créées avec nos bouts de requêtes précédents, ce qui permet ici d'avoir accès au `n`.\n",
    "Cependant, ce dernier `$match` n'a pas accès à toute la base de données `NYfood` et n'agit que sur les résultats des requêtes précédentes.\n",
    "\n",
    "### <center> Unwind </center>\n",
    "\n",
    "***Pourquoi l'utiliser ?*** \n",
    " \n",
    "Il arrive que les documents de certaines collections possèdent pour attribut une liste. Lorsque l'on effectue une requête d'agrégation, il peut être nécéssaire d'agir non pas sur la liste mais sur chaque élément de la liste. Pour cela, on utilise la commande `$unwind`. Elle permet, pour chaque élément de la liste, de dupliquer le document pour chaque valeur de la liste. \n",
    "\n",
    "***Comment ça fonctionne ?***\n",
    "\n",
    "**Syntaxe** :\n",
    "```\n",
    "db.coll.aggregate( \n",
    "  [\n",
    "   {$unwind : \"$att\"}}\n",
    "  ]\n",
    ")\n",
    "```\n",
    "En général, un `$unwid` seul n'a peu d'intérêt.`$att` est une liste de taille 10 que la collection comporte 1000 individus, la requête d'exemple renverra un résultat de 10 000 lignes (10 * 1000)\n",
    "\n",
    "***Exemple***"
   ]
  },
  {
   "cell_type": "code",
   "execution_count": 17,
   "id": "6a60bc03",
   "metadata": {},
   "outputs": [
    {
     "data": {
      "text/plain": [
       "{ \"_id\" : \"P\", \"n\" : 1197 }\r\n",
       "{ \"_id\" : \"A\", \"n\" : 74652 }\r\n",
       "{ \"_id\" : \"Not Yet Graded\", \"n\" : 524 }\r\n",
       "{ \"_id\" : \"B\", \"n\" : 12602 }\r\n",
       "{ \"_id\" : \"C\", \"n\" : 3145 }\r\n",
       "{ \"_id\" : \"Z\", \"n\" : 1337 }"
      ]
     },
     "execution_count": 17,
     "metadata": {},
     "output_type": "execute_result"
    }
   ],
   "source": [
    "db.NYfood.aggregate( \n",
    "  [\n",
    "   {$unwind :\"$grades\"},\n",
    "   {$group: {_id : '$grades.grade', \n",
    "             n: {$sum:1}}\n",
    "    },\n",
    "  ]\n",
    ")\n"
   ]
  },
  {
   "cell_type": "markdown",
   "id": "cfc8e7a1",
   "metadata": {},
   "source": [
    "Voici un exemple concret d'utilisation d'un `$unwind`. Dans la requête, on cherche à compter le nombre de A ayant été attribués à l'ensemble des restaurants de la collection, puis le nombre de B, C .... \n",
    "Pour que cette requête fonctionne, le `$unwind` est obligatoire, sinon on considère la liste entière des notes et on ne peut donc pas compter. \n",
    " \n",
    " ***Traduction SQL :*** \n",
    " \n",
    "Il n'existe pas réellement d'équivalent SQL au `$unwind`. Néanmoins, il se rapproche d'une opération de jointure sans aucun filtre.\n",
    "\n",
    "### Quelques requêtes pour tout comprendre\n",
    "Afin d'illustrer le fonctionnement pas à pas, découpons une requête en détail.\n",
    "Pour cet exemple, on veut  **les 3 notes les plus données dans les restaurants du quartier de Brooklyn**.\n",
    "La première étape naturelle est de sélectionner les restaurants présents uniquement dans le quartier de Brooklyn.\n",
    "Pour cela on utilise `$match`, qui retourne uniquement les restaurants de Brooklyn.\n",
    "```\n",
    "db.NYfood.aggregate(\n",
    "\t[\n",
    "     {$match: {\"borough\": \"Brooklyn\"}},\n",
    "    \t]\n",
    ") \n",
    "```\n",
    "Dans un second temps, il faut voir que pour récupérer les différentes valeurs de notes, il faut acceder à chaque élément de la liste et non la liste entière. Pour y accéder, il faut utiliser la commande `$unwind`, qui rendra donc à cette étape tous les restaurants de Brooklyn associés à une note qu'il a obtenu (Attention, cela retourne beaucoup de résultats : nombre de restaurants * nombre de notes)\n",
    "\n",
    "```\n",
    "db.NYfood.aggregate(\n",
    "\t[\n",
    "     {$match: {\"borough\": \"Brooklyn\"}},\n",
    "     {$unwind: \"$grades\"},\n",
    "    ]\n",
    ") \n",
    "```\n",
    "Ensuite, pour savoir quelle note a été la plus attribuée, il faut grouper pour chaque valeur de note. On utilise donc un `$group` sur l'attribut `$grades.grade$ (accessible grâce a `$unwind`). Puis, on décide de compter le nombre d'itérations de chaque note stockée dans la variable `nb`. Cette étape nous retourne donc le nombre de fois où chaque note a été attribuée à un restaurant.\n",
    "```\n",
    "db.NYfood.aggregate(\n",
    "\t[\n",
    "     {$match: {\"borough\": \"Brooklyn\"}},\n",
    "     {$unwind: \"$grades\"},\n",
    "     {$group: {_id: \"$grades.grade\", nb: {$sum: 1}}},\n",
    "    ]\n",
    ") \n",
    "```\n",
    "Nous sommes donc tout proches du résultat espéré. Il reste maintenant à trier les résultats par ordre décroissant, afin d'avoir les notes les plus données au début : `{$sort: {nb: -1}}`. Mais comme l'énoncé le précise, on souhaite afficher uniquement les 3 notes les plus données. Etant donné que les notes sont triées, il faut seulement préciser : `{$limit: 3}`.\n",
    "```\n",
    "db.NYfood.aggregate(\n",
    "\t[\n",
    "     {$match: {\"borough\": \"Brooklyn\"}},\n",
    "     {$unwind: \"$grades\"},\n",
    "     {$group: {_id: \"$grades.grade\", nb: {$sum: 1}}},\n",
    "     {$sort: {nb: -1}},\n",
    "     {$limit: 3}\n",
    "    ]\n",
    ") \n",
    "```\n",
    "On obtient bien, avec cette requête, les 3 notes les plus attribuées aux restaurants de Brooklyn !\n",
    "\n",
    "``` {code-cell}\n",
    " db.NYfood.aggregate(\n",
    "\t[\n",
    "\n",
    "     {$project: {taille: {$size: \"$grades\"}}},\n",
    "     {$match :{taille:{$gt:2}}},\n",
    "     {$group: {_id: null,\n",
    "      nb_min: {$min: \"$taille\"},\n",
    "      nb_max: {$max: \"$taille\"}}\n",
    "                        },         \n",
    "    ]\n",
    ") \n",
    "```\n",
    "Dans cette deuxième requête, on montre bien ici qu'il n'y a pas d'ordre pré-défini d'étape, et ici le `$match` n'est ni au début de la requête, ni à la fin.\n",
    "\n",
    "Expliquons cette requête (qui n'a pas beaucoup d'intérêt pratique).\n",
    "\n",
    "* `$project` : création de la variable taille, qui correspond au nombre de notes données à un restaurant.\n",
    "* `$match` : Dans le tableau rendu précédemment, on ne prend que les restaurants ayant plus de 2 notes.\n",
    "* `$group` : Sur le résultat de la requête précédente, on groupe tout les restaurants (_id : null), et on regarde le nombre minimum et maximum de notes attribuées\n",
    "à un restaurant. (Ayant sélectionné les individus supérieurs à deux, le minimum ne pouvait être que 3 ou plus.\n",
    "\n",
    "En SQL, on aurait :\n",
    "```sql\n",
    "SELECT COUNT(*) AS taille, MAX(taille),MIN(taille)\n",
    "FROM NYfood\n",
    "WHERE taille>=2\n",
    "```\n",
    "**Résultat final : Le nombre minimum et maximum de notes attribué aux restaurants ayant au moins deux notes.**"
   ]
  }
 ],
 "metadata": {
  "jupytext": {
   "cell_metadata_filter": "-all",
   "formats": "md:myst",
   "text_representation": {
    "extension": ".md",
    "format_name": "myst",
    "format_version": 0.12,
    "jupytext_version": "1.9.1"
   }
  },
  "kernelspec": {
   "display_name": "IMongo",
   "language": "",
   "name": "imongo"
  },
  "language_info": {
   "codemirror_mode": "shell",
   "file_extension": ".js",
   "mimetype": "text/x-mongodb",
   "name": "javascript"
  },
  "source_map": [
   14,
   70,
   74,
   81,
   122,
   126,
   133,
   160,
   164,
   171,
   279,
   283,
   290,
   474,
   479,
   485,
   493,
   499,
   504,
   510,
   564,
   570,
   585,
   591,
   634,
   642,
   673,
   685,
   724,
   734
  ]
 },
 "nbformat": 4,
 "nbformat_minor": 5
}