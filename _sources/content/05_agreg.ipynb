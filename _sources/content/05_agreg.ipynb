{
 "cells": [
  {
   "cell_type": "markdown",
   "id": "0c2c079c",
   "metadata": {},
   "source": [
    "# Les requêtes d'agrégation\n",
    "\n",
    "## Regroupements\n",
    "\n",
    "* Auteurs/trices : Salomé Vavasseur, Jeremy Castrique, Dimitri Nojac\n",
    "\n",
    "Cette section traite de :\n",
    "  * somme, count, max, min, avec ou sans groupe\n",
    "\n",
    "  Le fichier que vous devez modifier pour ce chapitre est `mongo_book/content/05_agreg.md`.\n",
    "\n",
    "## Successions d'étapes d'agrégation\n",
    "\n",
    "* Auteurs/trices : Marine BINARD, Arthur CONAS, Yann CAUSEUR\n",
    "\n",
    "Cette section traite de :\n",
    "* successions d'étapes d'agrégation + unwind + project + sort + limit\n",
    "\n",
    "Le fichier que vous devez modifier pour ce chapitre est `mongo_book/content/05_agreg.md`."
   ]
  }
 ],
 "metadata": {
  "jupytext": {
   "cell_metadata_filter": "-all",
   "formats": "md:myst",
   "text_representation": {
    "extension": ".md",
    "format_name": "myst",
    "format_version": 0.12,
    "jupytext_version": "1.9.1"
   }
  },
  "kernelspec": {
   "display_name": "IMongo",
   "language": "",
   "name": "imongo"
  },
  "language_info": {
   "codemirror_mode": "shell",
   "file_extension": ".js",
   "mimetype": "text/x-mongodb",
   "name": "javascript"
  },
  "source_map": [
   14
  ]
 },
 "nbformat": 4,
 "nbformat_minor": 5
}