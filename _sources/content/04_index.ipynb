{
 "cells": [
  {
   "cell_type": "markdown",
   "id": "0e99d7ce",
   "metadata": {},
   "source": [
    "# Les index\n",
    "\n",
    "* Auteurs/trices : Monot Camille, Vigué Adrien, Baron Etienne\n",
    "\n",
    "Ce chapitre traite de :\n",
    "* Index + requêtes textuelles + requêtes géographiques"
   ]
  },
  {
   "cell_type": "markdown",
   "id": "60edebed",
   "metadata": {},
   "source": [
    "Le fichier que vous devez modifier pour ce chapitre est `mongo_book/content/04_index.md`."
   ]
  }
 ],
 "metadata": {
  "jupytext": {
   "cell_metadata_filter": "-all",
   "formats": "md:myst",
   "text_representation": {
    "extension": ".md",
    "format_name": "myst",
    "format_version": 0.12,
    "jupytext_version": "1.9.1"
   }
  },
  "kernelspec": {
   "display_name": "IMongo",
   "language": "",
   "name": "imongo"
  },
  "language_info": {
   "codemirror_mode": "shell",
   "file_extension": ".js",
   "mimetype": "text/x-mongodb",
   "name": "javascript"
  },
  "source_map": [
   14,
   23
  ]
 },
 "nbformat": 4,
 "nbformat_minor": 5
}