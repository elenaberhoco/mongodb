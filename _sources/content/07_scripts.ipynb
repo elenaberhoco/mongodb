{
 "cells": [
  {
   "cell_type": "markdown",
   "id": "d4bdac39",
   "metadata": {},
   "source": [
    "# Effectuer des requêtes depuis des programmes Python ou R\n",
    "\n",
    "Il est possible d'effectuer des requêtes `mongodb` depuis des scripts Python\n",
    "ou R.\n",
    "Dans cette section, nous présentons les possibilités offertes par\n",
    "[le package `pymongo`](sec:pymongo) en Python et\n",
    "[le package `mongolite`](sec:mongolite) en R.\n",
    "\n",
    "\n",
    "\n",
    "```{toctree}\n",
    ":hidden:\n",
    ":titlesonly:\n",
    "\n",
    "\n",
    "07_scripts_py\n",
    "07_scripts_R\n",
    "```"
   ]
  }
 ],
 "metadata": {
  "jupytext": {
   "cell_metadata_filter": "-all",
   "formats": "md:myst",
   "text_representation": {
    "extension": ".md",
    "format_name": "myst",
    "format_version": 0.12,
    "jupytext_version": "1.9.1"
   }
  },
  "kernelspec": {
   "display_name": "Python 3",
   "language": "python",
   "name": "python3"
  },
  "language_info": {
   "codemirror_mode": {
    "name": "ipython",
    "version": 3
   },
   "file_extension": ".py",
   "mimetype": "text/x-python",
   "name": "python",
   "nbconvert_exporter": "python",
   "pygments_lexer": "ipython3",
   "version": "3.8.9"
  },
  "source_map": [
   14
  ]
 },
 "nbformat": 4,
 "nbformat_minor": 5
}