{
 "cells": [
  {
   "cell_type": "markdown",
   "id": "90c63323",
   "metadata": {},
   "source": [
    "# Attributs de type liste\n",
    "\n",
    "* Auteurs/trices : **Malo REYNES, Lucas ROBIN, Fiona TUFFIN**\n",
    "\n",
    "Ce chapitre traite des attributs de type liste et des différents types de requêtes que l'on peut vouloir faire sur de tels attributs\n",
    "\n",
    "## Introduction \n",
    "\n",
    "En MongoDB, un document est composé de couples clé/valeur. Une clé peut être considérée comme le nom d'une variable (attribut) à laquelle correspond une valeur pour un individu. L'attribut peut être de plusieurs types : chaîne de caractères, booléen, nombre, liste ou date. C'est aux attributs de type *liste* que nous nous intéressons ici. En MongoDB comme en python, une liste est, comme son nom l'indique, une série de valeurs, ces valeurs pouvant être de tous types. Une liste peut également contenir des sous-listes. Il est possible de réaliser plusieurs opérations sur une liste telles qu'obtenir sa taille, récupérer son minimum, son maximum, sa moyenne et autres. Il faut toutefois faire attention à certains \"pièges\" que nous exposerons.\n",
    " \n",
    "Les exemples pour cette partie concernent les listes de notes des élèves de la collection `notes` de la base de données `etudiants`. On notera aussi que certains types de requêtes comme les `sum()` ou les `avg()` nécessitent des requêtes d'agrégation qui seront évoquées dans un chapitre suivant."
   ]
  },
  {
   "cell_type": "code",
   "execution_count": 1,
   "id": "c652be18",
   "metadata": {},
   "outputs": [
    {
     "data": {
      "text/plain": [
       "switched to db etudiants"
      ]
     },
     "execution_count": 1,
     "metadata": {},
     "output_type": "execute_result"
    }
   ],
   "source": [
    "use etudiants"
   ]
  },
  {
   "cell_type": "markdown",
   "id": "242f4416",
   "metadata": {},
   "source": [
    "## Fonctionnement des listes en MongoDB\n",
    "\n",
    "Afin de mieux appréhender les listes en MongoDB, nous allons suivre un exemple au cours du quel, étape par étape, nous expliquerons notre démarche. Nous souhaitons connaître les étudiants ayant toutes leurs notes supérieures ou égales à 12.\n",
    "\n",
    "> Remarque : les notes sont implémentées sous forme de liste dans la base de données (attribut `notes`). Parmi les 7 étudiants, un ne possède pas d'attribut `notes` et un autre à ce même attribut vide (liste contenant 0 élément). Nous allons donc traiter ces cas particuliers.\n",
    "\n",
    "### Opérateur $size\n",
    "Introduisons tout d'abord un élément utile pour comprendre le fonctionnement des listes : l'opérateur `$size`. Il renvoie les documents dont la taille (nombre d'éléments de la liste) vérifie la condition donnée."
   ]
  },
  {
   "cell_type": "code",
   "execution_count": 2,
   "id": "f0f88576",
   "metadata": {},
   "outputs": [
    {
     "data": {
      "text/plain": [
       "{\r\n",
       "\t\"_id\" : ObjectId(\"56011920de43611b917d773d\"),\r\n",
       "\t\"nom\" : \"Paul\",\r\n",
       "\t\"notes\" : [\r\n",
       "\t\t10,\r\n",
       "\t\t12\r\n",
       "\t],\r\n",
       "\t\"sexe\" : \"M\"\r\n",
       "}\r\n",
       "{\r\n",
       "\t\"_id\" : ObjectId(\"56011920de43611b917d7741\"),\r\n",
       "\t\"nom\" : \"Marc\",\r\n",
       "\t\"notes\" : [\r\n",
       "\t\t1,\r\n",
       "\t\t5\r\n",
       "\t],\r\n",
       "\t\"ddn\" : ISODate(\"1993-01-01T00:00:00Z\"),\r\n",
       "\t\"sexe\" : \"M\"\r\n",
       "}"
      ]
     },
     "execution_count": 2,
     "metadata": {},
     "output_type": "execute_result"
    }
   ],
   "source": [
    "db.notes.find(\n",
    "    {\"notes\": {$size: 2}}                     /*Listes de 2 éléments*/\n",
    ")"
   ]
  },
  {
   "cell_type": "markdown",
   "id": "007aa448",
   "metadata": {},
   "source": [
    "Attention, cet opérateur n'est pas compatible avec les intervalles de valeurs. On ne peut pas écrire le code suivant (qui renvoie une erreur) :"
   ]
  },
  {
   "cell_type": "code",
   "execution_count": 3,
   "id": "194dadfd",
   "metadata": {},
   "outputs": [
    {
     "data": {
      "text/plain": [
       "Error: error: {\r\n",
       "\t\"ok\" : 0,\r\n",
       "\t\"errmsg\" : \"$size needs a number\",\r\n",
       "\t\"code\" : 2,\r\n",
       "\t\"codeName\" : \"BadValue\"\r\n",
       "}"
      ]
     },
     "execution_count": 3,
     "metadata": {},
     "output_type": "execute_result"
    }
   ],
   "source": [
    "db.notes.find(\n",
    "    {\"notes\": {$size: {$lte: 2}}}             /*Ne fonctionne pas, la taille doit être une valeur précise !!!*/\n",
    ")"
   ]
  },
  {
   "cell_type": "markdown",
   "id": "d5592cde",
   "metadata": {},
   "source": [
    "Il faudra plutôt écrire :"
   ]
  },
  {
   "cell_type": "code",
   "execution_count": 4,
   "id": "a367cc36",
   "metadata": {},
   "outputs": [
    {
     "data": {
      "text/plain": [
       "{\r\n",
       "\t\"_id\" : ObjectId(\"56011920de43611b917d773d\"),\r\n",
       "\t\"nom\" : \"Paul\",\r\n",
       "\t\"notes\" : [\r\n",
       "\t\t10,\r\n",
       "\t\t12\r\n",
       "\t],\r\n",
       "\t\"sexe\" : \"M\"\r\n",
       "}\r\n",
       "{\r\n",
       "\t\"_id\" : ObjectId(\"56011920de43611b917d7741\"),\r\n",
       "\t\"nom\" : \"Marc\",\r\n",
       "\t\"notes\" : [\r\n",
       "\t\t1,\r\n",
       "\t\t5\r\n",
       "\t],\r\n",
       "\t\"ddn\" : ISODate(\"1993-01-01T00:00:00Z\"),\r\n",
       "\t\"sexe\" : \"M\"\r\n",
       "}\r\n",
       "{\r\n",
       "\t\"_id\" : ObjectId(\"56011920de43611b917d7742\"),\r\n",
       "\t\"nom\" : \"Marc\",\r\n",
       "\t\"notes\" : [\r\n",
       "\t\t15\r\n",
       "\t],\r\n",
       "\t\"ddn\" : ISODate(\"1993-03-06T00:00:00Z\"),\r\n",
       "\t\"sexe\" : \"M\"\r\n",
       "}\r\n",
       "{\r\n",
       "\t\"_id\" : ObjectId(\"56011920de43611b917d773f\"),\r\n",
       "\t\"nom\" : \"Hélène\",\r\n",
       "\t\"notes\" : [\r\n",
       "\t\t13\r\n",
       "\t],\r\n",
       "\t\"ddn\" : ISODate(\"1995-03-05T00:00:00Z\"),\r\n",
       "\t\"sexe\" : \"F\"\r\n",
       "}\r\n",
       "{\r\n",
       "\t\"_id\" : ObjectId(\"56011920de43611b917d7740\"),\r\n",
       "\t\"nom\" : \"Sophie\",\r\n",
       "\t\"notes\" : [ ],\r\n",
       "\t\"ddn\" : ISODate(\"1996-09-12T00:00:00Z\"),\r\n",
       "\t\"sexe\" : \"F\"\r\n",
       "}"
      ]
     },
     "execution_count": 4,
     "metadata": {},
     "output_type": "execute_result"
    }
   ],
   "source": [
    "db.notes.find(\n",
    "    {$or : \n",
    "        [{\"notes\": {$size: 2}},\n",
    "        {\"notes\": {$size: 1}},\n",
    "        {\"notes\": {$size: 0}}]\n",
    "    }\n",
    ")"
   ]
  },
  {
   "cell_type": "markdown",
   "id": "5d72639e",
   "metadata": {},
   "source": [
    "Exemple : on veut connaitre les notes de l'étudiant nommé Paul."
   ]
  },
  {
   "cell_type": "code",
   "execution_count": 5,
   "id": "75d10565",
   "metadata": {},
   "outputs": [
    {
     "data": {
      "text/plain": [
       "{ \"_id\" : ObjectId(\"56011920de43611b917d773d\"), \"notes\" : [ 10, 12 ] }"
      ]
     },
     "execution_count": 5,
     "metadata": {},
     "output_type": "execute_result"
    }
   ],
   "source": [
    "db.notes.find(\n",
    "    {\"nom\": \"Paul\"}, \n",
    "    {\"notes\": true}\n",
    ")"
   ]
  },
  {
   "cell_type": "markdown",
   "id": "70945710",
   "metadata": {},
   "source": [
    "Une liste de 2 notes est retournée. Plus précisement, c'est le contenu de l'attribut `notes` qui est donné.\n",
    "\n",
    "## Particularité du travail sur des listes \n",
    "\n",
    "Les listes sont des objets particuliers pour lesquels des questions particulières se posent.\n",
    "Nous nous penchons ici sur deux de ces questions spécifiques aux listes.\n",
    "\n",
    "### \"au moins un élément\" ou \"tous les éléments\" ?\n",
    "\n",
    "Exemple : on veut savoir si l'étudiant Paul a eu au moins une note égale à 12. Pour ce faire, on ajoute une condition sur les notes."
   ]
  },
  {
   "cell_type": "code",
   "execution_count": 6,
   "id": "ff0ed88f",
   "metadata": {},
   "outputs": [
    {
     "data": {
      "text/plain": [
       "{\r\n",
       "\t\"_id\" : ObjectId(\"56011920de43611b917d773d\"),\r\n",
       "\t\"nom\" : \"Paul\",\r\n",
       "\t\"notes\" : [\r\n",
       "\t\t10,\r\n",
       "\t\t12\r\n",
       "\t],\r\n",
       "\t\"sexe\" : \"M\"\r\n",
       "}"
      ]
     },
     "execution_count": 6,
     "metadata": {},
     "output_type": "execute_result"
    }
   ],
   "source": [
    "db.notes.find(\n",
    "    {\"nom\": \"Paul\", \"notes\": 12}\n",
    ")"
   ]
  },
  {
   "cell_type": "markdown",
   "id": "ef929537",
   "metadata": {},
   "source": [
    "La requête ressort un seul document : celui correspondant à l'étudiant Paul de notre collection. Cela signifie donc que Paul a eu au moins une note égale à 12.\n",
    "Néanmoins, l'objet retourné par la requête est l'ensemble du document. Toutes les notes de Paul sont données, même celles différentes de 12.\n",
    "\n",
    "Voyons maintenant ce qui se passe lorsqu'on recherche les notes supérieures ou égales à 12."
   ]
  },
  {
   "cell_type": "code",
   "execution_count": 7,
   "id": "97674b0e",
   "metadata": {},
   "outputs": [
    {
     "data": {
      "text/plain": [
       "{\r\n",
       "\t\"_id\" : ObjectId(\"56011920de43611b917d773d\"),\r\n",
       "\t\"nom\" : \"Paul\",\r\n",
       "\t\"notes\" : [\r\n",
       "\t\t10,\r\n",
       "\t\t12\r\n",
       "\t],\r\n",
       "\t\"sexe\" : \"M\"\r\n",
       "}\r\n",
       "{\r\n",
       "\t\"_id\" : ObjectId(\"56011920de43611b917d7742\"),\r\n",
       "\t\"nom\" : \"Marc\",\r\n",
       "\t\"notes\" : [\r\n",
       "\t\t15\r\n",
       "\t],\r\n",
       "\t\"ddn\" : ISODate(\"1993-03-06T00:00:00Z\"),\r\n",
       "\t\"sexe\" : \"M\"\r\n",
       "}\r\n",
       "{\r\n",
       "\t\"_id\" : ObjectId(\"56011920de43611b917d773c\"),\r\n",
       "\t\"nom\" : \"Jean\",\r\n",
       "\t\"notes\" : [\r\n",
       "\t\t1,\r\n",
       "\t\t5,\r\n",
       "\t\t7,\r\n",
       "\t\t10,\r\n",
       "\t\t12,\r\n",
       "\t\t14,\r\n",
       "\t\t3\r\n",
       "\t],\r\n",
       "\t\"ddn\" : ISODate(\"1995-05-25T00:00:00Z\"),\r\n",
       "\t\"sexe\" : \"M\"\r\n",
       "}\r\n",
       "{\r\n",
       "\t\"_id\" : ObjectId(\"56011920de43611b917d773f\"),\r\n",
       "\t\"nom\" : \"Hélène\",\r\n",
       "\t\"notes\" : [\r\n",
       "\t\t13\r\n",
       "\t],\r\n",
       "\t\"ddn\" : ISODate(\"1995-03-05T00:00:00Z\"),\r\n",
       "\t\"sexe\" : \"F\"\r\n",
       "}"
      ]
     },
     "execution_count": 7,
     "metadata": {},
     "output_type": "execute_result"
    }
   ],
   "source": [
    "db.notes.find(\n",
    "    {\"notes\": {$gte: 12}}\n",
    ")"
   ]
  },
  {
   "cell_type": "markdown",
   "id": "0b17b921",
   "metadata": {},
   "source": [
    "Avec cette requête, nous obtenons 4 éléments correspondant aux 4 étudiants qui ont eu au moins une note supérieure ou égale à 12.\n",
    "\n",
    "Nous voudrions maintenant ressortir les individus qui n'ont **que** des notes supérieures ou égales à 12. Pour cela, nous pouvons retirer tous les étudiants ayant eu des notes en dessous de 12. Pour ce faire, nous utilisons l'opérateur logique `$not` qui retire les documents ne réalisant pas la condition demandée."
   ]
  },
  {
   "cell_type": "code",
   "execution_count": 8,
   "id": "932c5886",
   "metadata": {},
   "outputs": [
    {
     "data": {
      "text/plain": [
       "{\r\n",
       "\t\"_id\" : ObjectId(\"56011920de43611b917d773e\"),\r\n",
       "\t\"nom\" : \"Michel\",\r\n",
       "\t\"ddn\" : ISODate(\"1995-02-13T00:00:00Z\"),\r\n",
       "\t\"sexe\" : \"M\"\r\n",
       "}\r\n",
       "{\r\n",
       "\t\"_id\" : ObjectId(\"56011920de43611b917d7742\"),\r\n",
       "\t\"nom\" : \"Marc\",\r\n",
       "\t\"notes\" : [\r\n",
       "\t\t15\r\n",
       "\t],\r\n",
       "\t\"ddn\" : ISODate(\"1993-03-06T00:00:00Z\"),\r\n",
       "\t\"sexe\" : \"M\"\r\n",
       "}\r\n",
       "{\r\n",
       "\t\"_id\" : ObjectId(\"56011920de43611b917d773f\"),\r\n",
       "\t\"nom\" : \"Hélène\",\r\n",
       "\t\"notes\" : [\r\n",
       "\t\t13\r\n",
       "\t],\r\n",
       "\t\"ddn\" : ISODate(\"1995-03-05T00:00:00Z\"),\r\n",
       "\t\"sexe\" : \"F\"\r\n",
       "}\r\n",
       "{\r\n",
       "\t\"_id\" : ObjectId(\"56011920de43611b917d7740\"),\r\n",
       "\t\"nom\" : \"Sophie\",\r\n",
       "\t\"notes\" : [ ],\r\n",
       "\t\"ddn\" : ISODate(\"1996-09-12T00:00:00Z\"),\r\n",
       "\t\"sexe\" : \"F\"\r\n",
       "}"
      ]
     },
     "execution_count": 8,
     "metadata": {},
     "output_type": "execute_result"
    }
   ],
   "source": [
    "db.notes.find(\n",
    "    {\"notes\":{$not: {$lt: 12}}}              /*Une condition : on enlève les étudiants qui ont au moins une note plus petite que 12*/\n",
    ")"
   ]
  },
  {
   "cell_type": "markdown",
   "id": "e1069e96",
   "metadata": {},
   "source": [
    "Problème : la requête nous renvoie également les étudiants qui n'ont pas eu de note. C'est logique : si Sophie n'a pas de note, on ne peut pas dire qu'elle ait déjà eu moins que 12. Nous allons donc retirer les étudiants sans notes.\n",
    "\n",
    "Pour se faire, nous utilisons l'opérateur logique `$nor` en listant les éléments à ne pas prendre en compte. Nous ne voulons pas que la liste `notes` soit vide ou qu'elle comporte ne serait-ce qu'une note inférieure à 12."
   ]
  },
  {
   "cell_type": "code",
   "execution_count": 9,
   "id": "74b20511",
   "metadata": {},
   "outputs": [
    {
     "data": {
      "text/plain": [
       "{\r\n",
       "\t\"_id\" : ObjectId(\"56011920de43611b917d773e\"),\r\n",
       "\t\"nom\" : \"Michel\",\r\n",
       "\t\"ddn\" : ISODate(\"1995-02-13T00:00:00Z\"),\r\n",
       "\t\"sexe\" : \"M\"\r\n",
       "}\r\n",
       "{\r\n",
       "\t\"_id\" : ObjectId(\"56011920de43611b917d7742\"),\r\n",
       "\t\"nom\" : \"Marc\",\r\n",
       "\t\"notes\" : [\r\n",
       "\t\t15\r\n",
       "\t],\r\n",
       "\t\"ddn\" : ISODate(\"1993-03-06T00:00:00Z\"),\r\n",
       "\t\"sexe\" : \"M\"\r\n",
       "}\r\n",
       "{\r\n",
       "\t\"_id\" : ObjectId(\"56011920de43611b917d773f\"),\r\n",
       "\t\"nom\" : \"Hélène\",\r\n",
       "\t\"notes\" : [\r\n",
       "\t\t13\r\n",
       "\t],\r\n",
       "\t\"ddn\" : ISODate(\"1995-03-05T00:00:00Z\"),\r\n",
       "\t\"sexe\" : \"F\"\r\n",
       "}"
      ]
     },
     "execution_count": 9,
     "metadata": {},
     "output_type": "execute_result"
    }
   ],
   "source": [
    "db.notes.find(\n",
    "    {$nor: \n",
    "        [{\"notes\": {$lt: 12}},               /*1ère condition : on retire ceux qui ont des notes en dessous de 12*/\n",
    "        {\"notes\": {$size: 0}}]               /*2nde condition : on retire ceux qui n'ont pas de notes*/\n",
    "    }\n",
    ")"
   ]
  },
  {
   "cell_type": "markdown",
   "id": "54119002",
   "metadata": {},
   "source": [
    "Nouveau problème : le document correspondant à l'étudiant Michel est renvoyé parce qu'il n'a pas d'attribut `notes`. Dans ces conditions, on remarque que les listes vides ou inexistantes sont retournées par les requêtes. Il est important de les enlever en rajoutant une condition dans le `$nor`.\n",
    "\n",
    "Il faut donc retirer les étudiants qui ont une liste `notes` vide mais aussi ceux qui n'ont pas de liste du tout."
   ]
  },
  {
   "cell_type": "code",
   "execution_count": 10,
   "id": "dd0b8cb2",
   "metadata": {},
   "outputs": [
    {
     "data": {
      "text/plain": [
       "{\r\n",
       "\t\"_id\" : ObjectId(\"56011920de43611b917d7742\"),\r\n",
       "\t\"nom\" : \"Marc\",\r\n",
       "\t\"notes\" : [\r\n",
       "\t\t15\r\n",
       "\t],\r\n",
       "\t\"ddn\" : ISODate(\"1993-03-06T00:00:00Z\"),\r\n",
       "\t\"sexe\" : \"M\"\r\n",
       "}\r\n",
       "{\r\n",
       "\t\"_id\" : ObjectId(\"56011920de43611b917d773f\"),\r\n",
       "\t\"nom\" : \"Hélène\",\r\n",
       "\t\"notes\" : [\r\n",
       "\t\t13\r\n",
       "\t],\r\n",
       "\t\"ddn\" : ISODate(\"1995-03-05T00:00:00Z\"),\r\n",
       "\t\"sexe\" : \"F\"\r\n",
       "}"
      ]
     },
     "execution_count": 10,
     "metadata": {},
     "output_type": "execute_result"
    }
   ],
   "source": [
    "db.notes.find(\n",
    "    {$nor: \n",
    "        [{\"notes\": {$exists: false}},         /*1ère condition : on retire les documents ne possédant pas de liste \"notes\"*/\n",
    "        {\"notes\": {$lt: 12}},                 /*2ème condition : on retire ceux qui ont des notes en dessous de 12*/\n",
    "        {\"notes\": {$size: 0}}]                /*3ème condition : on retire ceux qui n'ont pas de notes*/\n",
    "    }\n",
    ")"
   ]
  },
  {
   "cell_type": "markdown",
   "id": "24ed9f4d",
   "metadata": {},
   "source": [
    "Cette fois, on ne retourne plus que 2 étudiants qui n'ont que des notes au-dessus de 12.\n",
    "\n",
    "### Cas des conditions multiples\n",
    "\n",
    "Lorsque nous faisons des requêtes sur un attribut d'un autre type qu'une liste, un seul élement est soumis à l'ensemble de nos conditions.\n",
    "Dans l'exemple ci-dessous, la clé `nom` renvoie une chaine de caractères, qui est un élément unique. Cet élément est soumis à deux conditions afin d'obtenir les noms qui commencent par la lettre M."
   ]
  },
  {
   "cell_type": "code",
   "execution_count": 11,
   "id": "4b18020d",
   "metadata": {
    "tags": [
     "output_scroll"
    ]
   },
   "outputs": [
    {
     "data": {
      "text/plain": [
       "{\r\n",
       "\t\"_id\" : ObjectId(\"56011920de43611b917d773e\"),\r\n",
       "\t\"nom\" : \"Michel\",\r\n",
       "\t\"ddn\" : ISODate(\"1995-02-13T00:00:00Z\"),\r\n",
       "\t\"sexe\" : \"M\"\r\n",
       "}\r\n",
       "{\r\n",
       "\t\"_id\" : ObjectId(\"56011920de43611b917d7741\"),\r\n",
       "\t\"nom\" : \"Marc\",\r\n",
       "\t\"notes\" : [\r\n",
       "\t\t1,\r\n",
       "\t\t5\r\n",
       "\t],\r\n",
       "\t\"ddn\" : ISODate(\"1993-01-01T00:00:00Z\"),\r\n",
       "\t\"sexe\" : \"M\"\r\n",
       "}\r\n",
       "{\r\n",
       "\t\"_id\" : ObjectId(\"56011920de43611b917d7742\"),\r\n",
       "\t\"nom\" : \"Marc\",\r\n",
       "\t\"notes\" : [\r\n",
       "\t\t15\r\n",
       "\t],\r\n",
       "\t\"ddn\" : ISODate(\"1993-03-06T00:00:00Z\"),\r\n",
       "\t\"sexe\" : \"M\"\r\n",
       "}"
      ]
     },
     "execution_count": 11,
     "metadata": {},
     "output_type": "execute_result"
    }
   ],
   "source": [
    "db.notes.find(                                /*Cette requête nous renvoie les noms dont la première lettre est comprise >= à M et < à N, donc M*/\n",
    "    {\"nom\": \n",
    "        {$gte: \"M\", $lt: \"N\"}\n",
    "    }\n",
    ")"
   ]
  },
  {
   "cell_type": "markdown",
   "id": "82f5bcc8",
   "metadata": {},
   "source": [
    "Avec les listes, c'est différent. Chaque élément contenu dans la liste est testé par les conditions. Voyons le fonctionnement d'une requête sur une liste avec plusieurs conditions :"
   ]
  },
  {
   "cell_type": "code",
   "execution_count": 12,
   "id": "f782bc80",
   "metadata": {
    "tags": [
     "output_scroll"
    ]
   },
   "outputs": [
    {
     "data": {
      "text/plain": [
       "{\r\n",
       "\t\"_id\" : ObjectId(\"56011920de43611b917d773c\"),\r\n",
       "\t\"nom\" : \"Jean\",\r\n",
       "\t\"notes\" : [\r\n",
       "\t\t1,\r\n",
       "\t\t5,\r\n",
       "\t\t7,\r\n",
       "\t\t10,\r\n",
       "\t\t12,\r\n",
       "\t\t14,\r\n",
       "\t\t3\r\n",
       "\t],\r\n",
       "\t\"ddn\" : ISODate(\"1995-05-25T00:00:00Z\"),\r\n",
       "\t\"sexe\" : \"M\"\r\n",
       "}"
      ]
     },
     "execution_count": 12,
     "metadata": {},
     "output_type": "execute_result"
    }
   ],
   "source": [
    "db.notes.find(\n",
    "    {\"notes\": \n",
    "        {$gt: 13, $lte: 10}\n",
    "    }\n",
    ")"
   ]
  },
  {
   "cell_type": "markdown",
   "id": "24934749",
   "metadata": {},
   "source": [
    "Cette requête teste pour chaque élément de la liste un à un : \n",
    "  - La condition $> 13$;\n",
    "  - La condition $\\le 10$;  \n",
    "  \n",
    "Si chacune des conditions est vérifiée au moins une fois, la liste complète est renvoyée. En clair, si au moins un élément de la liste est $> 13$ et au moins un élément est $\\le 10$, les conditions sont considérées comme validées.\n",
    "\n",
    "Ainsi, à la liste \"[1,5,7,10,12,14,3]\" correspond :  \n",
    "  - [F,F,F,F,F,T,F] pour la première condition\n",
    "  - [T,T,T,T,F,F,T] pour la seconde\n",
    "Les conditions sont toutes respectées au moins une fois, la liste complète est donc renvoyée. \n",
    "\n",
    "Ainsi, nous ne testons pas simultanément les deux conditions sur chaque nombre. Aucun nombre x ne vérifie x $> 13$ et x $\\le 10$. Cela est contre-intuitif, il faut faire attention.\n",
    "\n",
    "Mais alors, comment pouvons-nous justement tester une double condition sur chaque élement de la liste ? Pour cela, nous allons faire appel à l'opérateur `$elemMatch`.\n",
    "\n",
    "### Opérateur `$elemMatch`\n",
    "\n",
    "Avec `$elemMatch`, on retourne les documents dont au moins un élément de la liste vérifie toutes les conditions.\n",
    "\n",
    "#### Cas de conditions simultanement non réalisables\n",
    "\n",
    "Testez votre intuition ! D'après vous, que ressortira cette requête ?"
   ]
  },
  {
   "cell_type": "code",
   "execution_count": 13,
   "id": "199483c2",
   "metadata": {},
   "outputs": [],
   "source": [
    "db.notes.find(\n",
    "    {\"notes\": \n",
    "        {$elemMatch: \n",
    "            {$gt: 13, $lte: 10}\n",
    "        }\n",
    "    }\n",
    ")"
   ]
  },
  {
   "cell_type": "markdown",
   "id": "b81153bf",
   "metadata": {},
   "source": [
    "Contrairement à la requête précedente, cette requête teste les élements de la liste un à un. Ainsi, aucun élement ne vérifie ces deux conditions simultanement. Aucun élément n'est donc retourné par cette requête.\n",
    "\n",
    "#### Cas de conditions simultanement réalisables\n",
    "\n",
    "Avec la requête suivante, nous cherchons à savoir quels étudiants ont au moins une note comprise entre 9 et 13."
   ]
  },
  {
   "cell_type": "code",
   "execution_count": 14,
   "id": "22d51b0c",
   "metadata": {
    "tags": [
     "output_scroll"
    ]
   },
   "outputs": [
    {
     "data": {
      "text/plain": [
       "{\r\n",
       "\t\"_id\" : ObjectId(\"56011920de43611b917d773d\"),\r\n",
       "\t\"nom\" : \"Paul\",\r\n",
       "\t\"notes\" : [\r\n",
       "\t\t10,\r\n",
       "\t\t12\r\n",
       "\t],\r\n",
       "\t\"sexe\" : \"M\"\r\n",
       "}\r\n",
       "{\r\n",
       "\t\"_id\" : ObjectId(\"56011920de43611b917d773c\"),\r\n",
       "\t\"nom\" : \"Jean\",\r\n",
       "\t\"notes\" : [\r\n",
       "\t\t1,\r\n",
       "\t\t5,\r\n",
       "\t\t7,\r\n",
       "\t\t10,\r\n",
       "\t\t12,\r\n",
       "\t\t14,\r\n",
       "\t\t3\r\n",
       "\t],\r\n",
       "\t\"ddn\" : ISODate(\"1995-05-25T00:00:00Z\"),\r\n",
       "\t\"sexe\" : \"M\"\r\n",
       "}"
      ]
     },
     "execution_count": 14,
     "metadata": {},
     "output_type": "execute_result"
    }
   ],
   "source": [
    "db.notes.find(\n",
    "    {\"notes\": \n",
    "        {$elemMatch: \n",
    "            {$gt: 9, $lt: 13}\n",
    "        }\n",
    "    }\n",
    ")"
   ]
  },
  {
   "cell_type": "markdown",
   "id": "1a3e6a3d",
   "metadata": {},
   "source": [
    "Attention : on renvoie bien ici les listes dont **au moins une valeur** vérifie l'ensemble des conditions ! Les notes validant les deux conditions sont 10, 11 et 12. Par exemple, la liste [1,3,8,11,15] sera retournée mais la liste [1,3,8,15] ne le sera pas.\n",
    "\n",
    "Comment obtenir les étudiants dont **toutes** les notes vérifient les conditions simultanement ? Cela est réalisable grâce à l'opérateur `$nor` vu plus tôt :"
   ]
  },
  {
   "cell_type": "code",
   "execution_count": 15,
   "id": "95e2e2d2",
   "metadata": {},
   "outputs": [
    {
     "data": {
      "text/plain": [
       "{\r\n",
       "\t\"_id\" : ObjectId(\"56011920de43611b917d773d\"),\r\n",
       "\t\"nom\" : \"Paul\",\r\n",
       "\t\"notes\" : [\r\n",
       "\t\t10,\r\n",
       "\t\t12\r\n",
       "\t],\r\n",
       "\t\"sexe\" : \"M\"\r\n",
       "}"
      ]
     },
     "execution_count": 15,
     "metadata": {},
     "output_type": "execute_result"
    }
   ],
   "source": [
    "db.notes.find(\n",
    "    {$nor: \n",
    "        [{\"notes\": {$exists: false}},         /*1ère condition : on retire les documents ne possédant pas de liste \"notes\"*/\n",
    "        {\"notes\": {$size: 0}},                /*2ème condition : on retire ceux qui n'ont pas de notes*/\n",
    "        {\"notes\": {$lte: 9}},                 /*3ème condition : on retire les étudiants qui ont des notes en dessous de 10*/\n",
    "        {\"notes\": {$gte: 13}}]                /*4ème condition : on retire ceux qui ont des notes au dessus de 12*/\n",
    "    }\n",
    ")"
   ]
  },
  {
   "cell_type": "markdown",
   "id": "cca2228c",
   "metadata": {},
   "source": [
    "## Récapitulatif\n",
    "\n",
    "- _Je souhaite que **toutes les conditions** soient vérifiées **au moins une fois** par les éléments de ma liste, comment faire ?_\n",
    "> Code \"classique\".\n",
    "\n",
    "Sans `$elemMatch`, si les conditions sont vérifiées une à une, que ce soit par un élément de la liste ou grâce à plusieurs éléments distincts, alors le document est retourné.\n",
    "\n",
    "- _Je souhaite que **toutes les conditions** soient **simultanement** vérifiées par **au moins un élément** de ma liste, comment faire ?_\n",
    "> Utilisation de l'opérateur `$elemMtach`.\n",
    "\n",
    "Avec `$elemMatch`, on regarde tous les éléments de la liste un par un et on retourne le document si et seulement si au moins un élément est capable de vérifier toutes les conditions à lui tout seul.\n",
    "\n",
    "- _Je souhaite que **toutes les conditions** soient vérifiées par **tous les éléments** de ma liste, comment faire ?_\n",
    "> Utilisation de l'opérateur `$nor`.\n",
    "\n",
    "Avec `$nor`, on liste les conditions que nous ne souhaitons pas retourner. Ainsi, on ne récupère pas les éléments qui valident des conditions. Il faut notamment penser à retirer les éléments vides avec `{$size: 0}` et les éléments inexistants avec `{$exists: false}`."
   ]
  }
 ],
 "metadata": {
  "jupytext": {
   "cell_metadata_filter": "-all",
   "formats": "md:myst",
   "text_representation": {
    "extension": ".md",
    "format_name": "myst",
    "format_version": 0.12,
    "jupytext_version": "1.9.1"
   }
  },
  "kernelspec": {
   "display_name": "IMongo",
   "language": "",
   "name": "imongo"
  },
  "language_info": {
   "codemirror_mode": "shell",
   "file_extension": ".js",
   "mimetype": "text/x-mongodb",
   "name": "javascript"
  },
  "source_map": [
   14,
   28,
   30,
   40,
   44,
   46,
   50,
   52,
   60,
   64,
   69,
   81,
   85,
   91,
   95,
   100,
   104,
   109,
   116,
   121,
   129,
   137,
   145,
   149,
   157,
   180,
   188,
   194,
   203,
   208,
   217
  ]
 },
 "nbformat": 4,
 "nbformat_minor": 5
}